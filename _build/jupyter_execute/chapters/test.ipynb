{
 "cells": [
  {
   "cell_type": "markdown",
   "metadata": {},
   "source": [
    "![](../docs/banner.png)"
   ]
  },
  {
   "cell_type": "markdown",
   "metadata": {},
   "source": [
    "# Chương 2: Vòng lặp & Hàm"
   ]
  },
  {
   "cell_type": "markdown",
   "metadata": {
    "toc": true
   },
   "source": [
    "<h2>Mục lục chương<span class=\"tocSkip\"></span></h2>\n",
    "<hr>\n",
    "<div class=\"toc\"><ul class=\"toc-item\"><li><span><a href=\"#1.-for-Loops\" data-toc-modified-id=\"1.-for-Loops-1\">1. Vòng lặp <code>for</code></a></span></li><li><span><a href=\"#2.-while-loops\" data-toc-modified-id=\"2.-while-loops-2\">2. Vòng lặp <code>while</code></a></span></li><li><span><a href=\"#3.-Comprehensions\" data-toc-modified-id=\"3.-Comprehensions-3\">3. Biểu thức tập hợp (Comprehensions)</a></span></li><li><span><a href=\"#4.-try-/-except\" data-toc-modified-id=\"4.-try-/-except-4\">4. <code>try</code> / <code>except</code></a></span></li><li><span><a href=\"#5.-Functions\" data-toc-modified-id=\"5.-Functions-5\">5. Hàm</a></span></li><li><span><a href=\"#6.-Functions-as--a-data-type\" data-toc-modified-id=\"6.-Functions-as--a-data-type-6\">6. Hàm như một kiểu dữ liệu</a></span></li></ul></div>"
   ]
  },
  {
   "cell_type": "markdown",
   "metadata": {},
   "source": [
    "---"
   ]
  },
  {
   "cell_type": "markdown",
   "metadata": {},
   "source": [
    "## 1. Vòng lặp `for`"
   ]
  },
  {
   "cell_type": "markdown",
   "metadata": {},
   "source": [
    "Vòng lặp `for` được sử dụng để lặp qua một chuỗi (ví dụ: danh sách, tuple, từ điển, tập hợp, chuỗi ký tự) hoặc các đối tượng có thể lặp khác."
   ]
  },
  {
   "cell_type": "markdown",
   "metadata": {},
   "source": [
    "### Vòng lặp `for` cơ bản"
   ]
  },
  {
   "cell_type": "markdown",
   "metadata": {},
   "source": [
    "Đây là cú pháp cơ bản của vòng lặp `for`."
   ]
  },
  {
   "cell_type": "code",
   "execution_count": 1,
   "metadata": {},
   "outputs": [
    {
     "name": "stdout",
     "output_type": "stream",
     "text": [
      "1\n",
      "2\n",
      "3\n",
      "4\n",
      "5\n",
      "H\n",
      "e\n",
      "l\n",
      "l\n",
      "o\n"
     ]
    }
   ],
   "source": [
    "# Vòng lặp qua một danh sách\n",
    "my_list = [1, 2, 3, 4, 5]\n",
    "for item in my_list:\n",
    "    print(item)\n",
    "\n",
    "# Vòng lặp qua một chuỗi ký tự\n",
    "my_string = \"Hello\"\n",
    "for char in my_string:\n",
    "    print(char)"
   ]
  },
  {
   "cell_type": "markdown",
   "metadata": {},
   "source": [
    "### Hàm `range()`"
   ]
  },
  {
   "cell_type": "markdown",
   "metadata": {},
   "source": [
    "Hàm `range()` được sử dụng để tạo một chuỗi số. Nó thường được sử dụng với vòng lặp `for` để lặp lại một số lần nhất định.\n",
    "\n",
    "* `range(stop)`: Tạo một chuỗi số từ 0 đến `stop - 1`.\n",
    "* `range(start, stop)`: Tạo một chuỗi số từ `start` đến `stop - 1`.\n",
    "* `range(start, stop, step)`: Tạo một chuỗi số từ `start` đến `stop - 1` với bước nhảy `step`."
   ]
  },
  {
   "cell_type": "code",
   "execution_count": 2,
   "metadata": {},
   "outputs": [
    {
     "name": "stdout",
     "output_type": "stream",
     "text": [
      "0\n",
      "1\n",
      "2\n",
      "3\n",
      "4\n",
      "2\n",
      "3\n",
      "4\n",
      "5\n",
      "0\n",
      "2\n",
      "4\n",
      "6\n",
      "8\n"
     ]
    }
   ],
   "source": [
    "# Lặp lại 5 lần (từ 0 đến 4)\n",
    "for i in range(5):\n",
    "    print(i)\n",
    "\n",
    "# Lặp từ 2 đến 5\n",
    "for i in range(2, 6):\n",
    "    print(i)\n",
    "\n",
    "# Lặp từ 0 đến 9 với bước nhảy 2\n",
    "for i in range(0, 10, 2):\n",
    "    print(i)"
   ]
  },
  {
   "cell_type": "markdown",
   "metadata": {},
   "source": [
    "### Câu lệnh `break` và `continue`"
   ]
  },
  {
   "cell_type": "markdown",
   "metadata": {},
   "source": [
    "* `break`: Dừng vòng lặp hiện tại.\n",
    "* `continue`: Bỏ qua lần lặp hiện tại và chuyển sang lần lặp tiếp theo."
   ]
  },
  {
   "cell_type": "code",
   "execution_count": 3,
   "metadata": {},
   "outputs": [
    {
     "name": "stdout",
     "output_type": "stream",
     "text": [
      "0\n",
      "1\n",
      "2\n",
      "3\n",
      "4\n",
      "1\n",
      "3\n",
      "5\n",
      "7\n",
      "9\n"
     ]
    }
   ],
   "source": [
    "# Sử dụng break\n",
    "for i in range(10):\n",
    "    if i == 5:\n",
    "        break\n",
    "    print(i) # Sẽ in từ 0 đến 4\n",
    "\n",
    "# Sử dụng continue\n",
    "for i in range(10):\n",
    "    if i % 2 == 0: # Bỏ qua số chẵn\n",
    "        continue\n",
    "    print(i) # Sẽ in số lẻ"
   ]
  },
  {
   "cell_type": "markdown",
   "metadata": {},
   "source": [
    "### Vòng lặp `for` lồng nhau"
   ]
  },
  {
   "cell_type": "markdown",
   "metadata": {},
   "source": [
    "Bạn có thể đặt một vòng lặp `for` bên trong một vòng lặp `for` khác."
   ]
  },
  {
   "cell_type": "code",
   "execution_count": 4,
   "metadata": {},
   "outputs": [
    {
     "name": "stdout",
     "output_type": "stream",
     "text": [
      "i: 0, j: 0\n",
      "i: 0, j: 1\n",
      "i: 1, j: 0\n",
      "i: 1, j: 1\n",
      "i: 2, j: 0\n",
      "i: 2, j: 1\n"
     ]
    }
   ],
   "source": [
    "for i in range(3):\n",
    "    for j in range(2):\n",
    "        print(f\"i: {i}, j: {j}\")"
   ]
  },
  {
   "cell_type": "markdown",
   "metadata": {},
   "source": [
    "---"
   ]
  },
  {
   "cell_type": "markdown",
   "metadata": {},
   "source": [
    "## 2. Vòng lặp `while`"
   ]
  },
  {
   "cell_type": "markdown",
   "metadata": {},
   "source": [
    "Vòng lặp `while` thực thi một khối mã miễn là một điều kiện nhất định là đúng."
   ]
  },
  {
   "cell_type": "markdown",
   "metadata": {},
   "source": [
    "### Vòng lặp `while` cơ bản"
   ]
  },
  {
   "cell_type": "code",
   "execution_count": 5,
   "metadata": {},
   "outputs": [
    {
     "name": "stdout",
     "output_type": "stream",
     "text": [
      "0\n",
      "1\n",
      "2\n",
      "3\n",
      "4\n"
     ]
    }
   ],
   "source": [
    "count = 0\n",
    "while count < 5:\n",
    "    print(count)\n",
    "    count += 1"
   ]
  },
  {
   "cell_type": "markdown",
   "metadata": {},
   "source": [
    "### Vòng lặp vô hạn"
   ]
  },
  {
   "cell_type": "markdown",
   "metadata": {},
   "source": [
    "Một vòng lặp vô hạn xảy ra khi điều kiện của vòng lặp `while` luôn đúng. Cần cẩn thận để tránh chúng trừ khi bạn có một lý do cụ thể để sử dụng (ví dụ: một máy chủ đang lắng nghe các kết nối)."
   ]
  },
  {
   "cell_type": "code",
   "execution_count": 6,
   "metadata": {},
   "outputs": [],
   "source": [
    "# Ví dụ về vòng lặp vô hạn (chạy đoạn mã này sẽ khiến chương trình không dừng)\n",
    "# while True:\n",
    "#     print(\"Vòng lặp vô hạn\")\n",
    "#     # Để dừng, bạn sẽ cần ngắt thủ công (ví dụ: Ctrl+C)"
   ]
  },
  {
   "cell_type": "markdown",
   "metadata": {},
   "source": [
    "### `else` với vòng lặp `while`"
   ]
  },
  {
   "cell_type": "markdown",
   "metadata": {},
   "source": [
    "Câu lệnh `else` trong vòng lặp `while` sẽ được thực thi khi điều kiện của vòng lặp `while` trở thành `False`. Nó KHÔNG được thực thi nếu vòng lặp bị dừng bởi một câu lệnh `break`."
   ]
  },
  {
   "cell_type": "code",
   "execution_count": 7,
   "metadata": {},
   "outputs": [
    {
     "name": "stdout",
     "output_type": "stream",
     "text": [
      "Trong vòng lặp: 0\n",
      "Trong vòng lặp: 1\n",
      "Trong vòng lặp: 2\n",
      "Vòng lặp hoàn tất\n",
      "Trong vòng lặp (với break): 0\n",
      "Trong vòng lặp (với break): 1\n"
     ]
    }
   ],
   "source": [
    "count = 0\n",
    "while count < 3:\n",
    "    print(f\"Trong vòng lặp: {count}\")\n",
    "    count += 1\n",
    "else:\n",
    "    print(\"Vòng lặp hoàn tất\")\n",
    "\n",
    "# Ví dụ với break\n",
    "count = 0\n",
    "while count < 5:\n",
    "    if count == 2:\n",
    "        break\n",
    "    print(f\"Trong vòng lặp (với break): {count}\")\n",
    "    count += 1\n",
    "else:\n",
    "    print(\"Vòng lặp hoàn tất (không được thực thi)\")"
   ]
  },
  {
   "cell_type": "markdown",
   "metadata": {},
   "source": [
    "---"
   ]
  },
  {
   "cell_type": "markdown",
   "metadata": {},
   "source": [
    "## 3. Biểu thức tập hợp (Comprehensions)"
   ]
  },
  {
   "cell_type": "markdown",
   "metadata": {},
   "source": [
    "Biểu thức tập hợp cung cấp một cách ngắn gọn để tạo danh sách, từ điển và tập hợp."
   ]
  },
  {
   "cell_type": "markdown",
   "metadata": {},
   "source": [
    "### Biểu thức tập hợp danh sách"
   ]
  },
  {
   "cell_type": "code",
   "execution_count": 8,
   "metadata": {},
   "outputs": [
    {
     "name": "stdout",
     "output_type": "stream",
     "text": [
      "[0, 1, 4, 9, 16, 25, 36, 49, 64, 81]\n",
      "[0, 2, 4, 6, 8]\n"
     ]
    }
   ],
   "source": [
    "# Tạo danh sách các số bình phương\n",
    "squares = [x**2 for x in range(10)]\n",
    "print(squares)\n",
    "\n",
    "# Lọc danh sách\n",
    "even_numbers = [x for x in range(10) if x % 2 == 0]\n",
    "print(even_numbers)"
   ]
  },
  {
   "cell_type": "markdown",
   "metadata": {},
   "source": [
    "### Biểu thức tập hợp từ điển"
   ]
  },
  {
   "cell_type": "code",
   "execution_count": 9,
   "metadata": {},
   "outputs": [
    {
     "name": "stdout",
     "output_type": "stream",
     "text": [
      "{0: 0, 1: 1, 2: 4, 3: 9, 4: 16}\n",
      "{'a': 1, 'b': 2}\n"
     ]
    }
   ],
   "source": [
    "# Tạo từ điển từ danh sách các cặp\n",
    "my_dict = {x: x**2 for x in range(5)}\n",
    "print(my_dict)\n",
    "\n",
    "# Chuyển đổi danh sách các tuple thành từ điển\n",
    "list_of_tuples = [('a', 1), ('b', 2)]\n",
    "dict_from_tuples = {key: value for key, value in list_of_tuples}\n",
    "print(dict_from_tuples)"
   ]
  },
  {
   "cell_type": "markdown",
   "metadata": {},
   "source": [
    "### Biểu thức tập hợp tập hợp"
   ]
  },
  {
   "cell_type": "code",
   "execution_count": 10,
   "metadata": {},
   "outputs": [
    {
     "name": "stdout",
     "output_type": "stream",
     "text": [
      "{1, 4, 9}\n"
     ]
    }
   ],
   "source": [
    "# Tạo tập hợp các số bình phương duy nhất\n",
    "unique_squares = {x**2 for x in [1, 2, 2, 3, 3, 3]}\n",
    "print(unique_squares)"
   ]
  },
  {
   "cell_type": "markdown",
   "metadata": {},
   "source": [
    "---"
   ]
  },
  {
   "cell_type": "markdown",
   "metadata": {},
   "source": [
    "## 4. `try` / `except`"
   ]
  },
  {
   "cell_type": "markdown",
   "metadata": {},
   "source": [
    "Khối `try` / `except` được sử dụng để xử lý lỗi (ngoại lệ) trong Python. Nó cho phép bạn thử một khối mã và nếu một lỗi xảy ra, hãy thực hiện một hành động cụ thể thay vì làm hỏng chương trình."
   ]
  },
  {
   "cell_type": "markdown",
   "metadata": {},
   "source": [
    "### Xử lý ngoại lệ cơ bản"
   ]
  },
  {
   "cell_type": "code",
   "execution_count": 11,
   "metadata": {},
   "outputs": [
    {
     "name": "stdout",
     "output_type": "stream",
     "text": [
      "Đã xảy ra lỗi chia cho 0!\n",
      "Đã xảy ra lỗi giá trị không hợp lệ!\n",
      "Một lỗi không xác định đã xảy ra.\n"
     ]
    }
   ],
   "source": [
    "# Chia cho 0\n",
    "try:\n",
    "    result = 10 / 0\n",
    "except ZeroDivisionError:\n",
    "    print(\"Đã xảy ra lỗi chia cho 0!\")\n",
    "\n",
    "# Lỗi giá trị\n",
    "try:\n",
    "    number = int(\"abc\")\n",
    "except ValueError:\n",
    "    print(\"Đã xảy ra lỗi giá trị không hợp lệ!\")\n",
    "\n",
    "# Xử lý ngoại lệ tổng quát\n",
    "try:\n",
    "    my_list = [1, 2]\n",
    "    print(my_list[3])\n",
    "except Exception as e:\n",
    "    print(f\"Một lỗi không xác định đã xảy ra.\")"
   ]
  },
  {
   "cell_type": "markdown",
   "metadata": {},
   "source": [
    "### `else` và `finally`"
   ]
  },
  {
   "cell_type": "markdown",
   "metadata": {},
   "source": [
    "* `else`: Khối mã này được thực thi nếu khối `try` KHÔNG gây ra bất kỳ ngoại lệ nào.\n",
    "* `finally`: Khối mã này LUÔN được thực thi, bất kể có ngoại lệ nào xảy ra hay không. Nó thường được sử dụng cho các hoạt động dọn dẹp (ví dụ: đóng file)."
   ]
  },
  {
   "cell_type": "code",
   "execution_count": 12,
   "metadata": {},
   "outputs": [
    {
     "name": "stdout",
     "output_type": "stream",
     "text": [
      "Kết quả là: 2.0\n",
      "Khối finally đã được thực thi.\n",
      "\n",
      "---\n",
      "Đã xảy ra lỗi chia cho 0!\n",
      "Khối finally đã được thực thi.\n"
     ]
    }
   ],
   "source": [
    "# Ví dụ với else và finally\n",
    "try:\n",
    "    result = 10 / 5\n",
    "except ZeroDivisionError:\n",
    "    print(\"Đã xảy ra lỗi chia cho 0!\")\n",
    "else:\n",
    "    print(f\"Kết quả là: {result}\")\n",
    "finally:\n",
    "    print(\"Khối finally đã được thực thi.\")\n",
    "\n",
    "print(\"\\n---\")\n",
    "\n",
    "# Ví dụ với ngoại lệ và finally\n",
    "try:\n",
    "    result = 10 / 0\n",
    "except ZeroDivisionError:\n",
    "    print(\"Đã xảy ra lỗi chia cho 0!\")\n",
    "else:\n",
    "    print(f\"Kết quả là: {result}\") # Sẽ không được thực thi\n",
    "finally:\n",
    "    print(\"Khối finally đã được thực thi.\")"
   ]
  },
  {
   "cell_type": "markdown",
   "metadata": {},
   "source": [
    "---"
   ]
  },
  {
   "cell_type": "markdown",
   "metadata": {},
   "source": [
    "## 5. Hàm"
   ]
  },
  {
   "cell_type": "markdown",
   "metadata": {},
   "source": [
    "Hàm là một khối mã được tổ chức, có thể tái sử dụng, được sử dụng để thực hiện một hành động liên quan duy nhất. Hàm cung cấp khả năng mô đun hóa cao hơn cho ứng dụng của bạn và khả năng tái sử dụng mã."
   ]
  },
  {
   "cell_type": "markdown",
   "metadata": {},
   "source": [
    "### Định nghĩa hàm"
   ]
  },
  {
   "cell_type": "markdown",
   "metadata": {},
   "source": [
    "Hàm được định nghĩa bằng từ khóa `def`."
   ]
  },
  {
   "cell_type": "code",
   "execution_count": 13,
   "metadata": {},
   "outputs": [
    {
     "name": "stdout",
     "output_type": "stream",
     "text": [
      "Hello, Alice!\n",
      "Hello, Bob!\n",
      "10 + 5 = 15\n"
     ]
    }
   ],
   "source": [
    "# Hàm đơn giản không có tham số\n",
    "def greet():\n",
    "    print(\"Hello!\")\n",
    "\n",
    "# Hàm với tham số\n",
    "def greet_name(name):\n",
    "    print(f\"Hello, {name}!\")\n",
    "\n",
    "# Hàm có giá trị trả về\n",
    "def add_numbers(a, b):\n",
    "    return a + b\n",
    "\n",
    "# Gọi hàm\n",
    "greet_name(\"Alice\")\n",
    "greet_name(\"Bob\")\n",
    "\n",
    "sum_result = add_numbers(10, 5)\n",
    "print(f\"10 + 5 = {sum_result}\")"
   ]
  },
  {
   "cell_type": "markdown",
   "metadata": {},
   "source": [
    "### Tham số và Đối số"
   ]
  },
  {
   "cell_type": "markdown",
   "metadata": {},
   "source": [
    "* **Tham số:** Các tên được liệt kê bên trong dấu ngoặc đơn trong định nghĩa hàm.\n",
    "* **Đối số:** Các giá trị được truyền vào hàm khi nó được gọi."
   ]
  },
  {
   "cell_type": "markdown",
   "metadata": {},
   "source": [
    "#### Đối số mặc định"
   ]
  },
  {
   "cell_type": "markdown",
   "metadata": {},
   "source": [
    "Bạn có thể cung cấp các giá trị mặc định cho các tham số. Nếu một đối số không được cung cấp cho một tham số có giá trị mặc định, giá trị mặc định sẽ được sử dụng."
   ]
  },
  {
   "cell_type": "code",
   "execution_count": 14,
   "metadata": {},
   "outputs": [
    {
     "name": "stdout",
     "output_type": "stream",
     "text": [
      "Hello, World!\n",
      "Hello, Python!\n"
     ]
    }
   ],
   "source": [
    "def greet_default(name=\"World\"):\n",
    "    print(f\"Hello, {name}!\")\n",
    "\n",
    "greet_default() # Sử dụng giá trị mặc định\n",
    "greet_default(\"Python\") # Ghi đè giá trị mặc định"
   ]
  },
  {
   "cell_type": "markdown",
   "metadata": {},
   "source": [
    "#### Đối số từ khóa"
   ]
  },
  {
   "cell_type": "markdown",
   "metadata": {},
   "source": [
    "Bạn có thể gọi hàm bằng cách sử dụng các đối số từ khóa, trong đó bạn chỉ định tên tham số khi truyền đối số. Điều này cho phép bạn truyền đối số theo bất kỳ thứ tự nào."
   ]
  },
  {
   "cell_type": "code",
   "execution_count": 15,
   "metadata": {},
   "outputs": [
    {
     "name": "stdout",
     "output_type": "stream",
     "text": [
      "Name: Alice, Age: 30\n",
      "Name: Bob, Age: 25\n"
     ]
    }
   ],
   "source": [
    "def print_info(name, age):\n",
    "    print(f\"Name: {name}, Age: {age}\")\n",
    "\n",
    "print_info(name=\"Alice\", age=30)\n",
    "print_info(age=25, name=\"Bob\") # Thứ tự không quan trọng với đối số từ khóa"
   ]
  },
  {
   "cell_type": "markdown",
   "metadata": {},
   "source": [
    "#### Đối số tùy ý (`*args` và `**kwargs`)"
   ]
  },
  {
   "cell_type": "markdown",
   "metadata": {},
   "source": [
    "* `*args` (non-keyword arguments): Cho phép một hàm chấp nhận một số lượng đối số không xác định dưới dạng một tuple.\n",
    "* `**kwargs` (keyword arguments): Cho phép một hàm chấp nhận một số lượng đối số từ khóa không xác định dưới dạng một từ điển."
   ]
  },
  {
   "cell_type": "code",
   "execution_count": 16,
   "metadata": {},
   "outputs": [
    {
     "name": "stdout",
     "output_type": "stream",
     "text": [
      "Args: (1, 2, 3)\n",
      "Args: ('apple', 'banana', 'cherry')\n",
      "Kwargs: {'name': 'Alice', 'age': 30}\n",
      "Kwargs: {'city': 'New York', 'zip': '10001'}\n"
     ]
    }
   ],
   "source": [
    "def func_with_args(*args):\n",
    "    print(f\"Args: {args}\")\n",
    "\n",
    "func_with_args(1, 2, 3)\n",
    "func_with_args('apple', 'banana', 'cherry')\n",
    "\n",
    "def func_with_kwargs(**kwargs):\n",
    "    print(f\"Kwargs: {kwargs}\")\n",
    "\n",
    "func_with_kwargs(name=\"Alice\", age=30)\n",
    "func_with_kwargs(city=\"New York\", zip=\"10001\")"
   ]
  },
  {
   "cell_type": "markdown",
   "metadata": {},
   "source": [
    "### Kiểu dữ liệu trả về"
   ]
  },
  {
   "cell_type": "markdown",
   "metadata": {},
   "source": [
    "Hàm có thể trả về một giá trị bằng cách sử dụng câu lệnh `return`."
   ]
  },
  {
   "cell_type": "code",
   "execution_count": 17,
   "metadata": {},
   "outputs": [
    {
     "name": "stdout",
     "output_type": "stream",
     "text": [
      "Tổng là: 15\n",
      "Hello, John!\n"
     ]
    }
   ],
   "source": [
    "def calculate_sum(a, b):\n",
    "    return a + b\n",
    "\n",
    "total = calculate_sum(7, 8)\n",
    "print(f\"Tổng là: {total}\")\n",
    "\n",
    "def get_greeting(name):\n",
    "    return f\"Hello, {name}!\"\n",
    "\n",
    "message = get_greeting(\"John\")\n",
    "print(message)"
   ]
  },
  {
   "cell_type": "markdown",
   "metadata": {},
   "source": [
    "---"
   ]
  },
  {
   "cell_type": "markdown",
   "metadata": {},
   "source": [
    "## 6. Hàm như một kiểu dữ liệu"
   ]
  },
  {
   "cell_type": "markdown",
   "metadata": {},
   "source": [
    "Trong Python, hàm là các đối tượng \"first-class citizens\", có nghĩa là chúng có thể được xử lý giống như bất kỳ kiểu dữ liệu nào khác (ví dụ: số nguyên, chuỗi ký tự, danh sách). Điều này mở ra nhiều khả năng mạnh mẽ."
   ]
  },
  {
   "cell_type": "markdown",
   "metadata": {},
   "source": [
    "### Gán hàm cho biến"
   ]
  },
  {
   "cell_type": "markdown",
   "metadata": {},
   "source": [
    "Bạn có thể gán một hàm cho một biến và sau đó gọi hàm thông qua biến đó."
   ]
  },
  {
   "cell_type": "code",
   "execution_count": 18,
   "metadata": {},
   "outputs": [
    {
     "name": "stdout",
     "output_type": "stream",
     "text": [
      "Hello from func1!\n",
      "Hello from func1!\n"
     ]
    }
   ],
   "source": [
    "def func1():\n",
    "    print(\"Hello from func1!\")\n",
    "\n",
    "my_func = func1\n",
    "my_func() # Gọi hàm thông qua biến\n",
    "func1() # Gọi hàm gốc"
   ]
  },
  {
   "cell_type": "markdown",
   "metadata": {},
   "source": [
    "### Truyền hàm làm đối số"
   ]
  },
  {
   "cell_type": "markdown",
   "metadata": {},
   "source": [
    "Hàm có thể được truyền làm đối số cho các hàm khác. Đây là một khái niệm cơ bản trong lập trình hàm và tạo ra các hàm bậc cao (higher-order functions)."
   ]
  },
  {
   "cell_type": "code",
   "execution_count": 19,
   "metadata": {},
   "outputs": [
    {
     "name": "stdout",
     "output_type": "stream",
     "text": [
      "Thực hiện hoạt động add: 5\n",
      "Thực hiện hoạt động subtract: -1\n"
     ]
    }
   ],
   "source": [
    "def add(x, y):\n",
    "    return x + y\n",
    "\n",
    "def subtract(x, y):\n",
    "    return x - y\n",
    "\n",
    "def perform_operation(operation, a, b):\n",
    "    result = operation(a, b)\n",
    "    print(f\"Thực hiện hoạt động {operation.__name__}: {result}\")\n",
    "\n",
    "perform_operation(add, 2, 3)\n",
    "perform_operation(subtract, 2, 3)"
   ]
  },
  {
   "cell_type": "markdown",
   "metadata": {},
   "source": [
    "### Trả về hàm từ một hàm khác"
   ]
  },
  {
   "cell_type": "markdown",
   "metadata": {},
   "source": [
    "Một hàm có thể trả về một hàm khác. Điều này thường được sử dụng trong các closure và decorator."
   ]
  },
  {
   "cell_type": "code",
   "execution_count": 20,
   "metadata": {},
   "outputs": [
    {
     "name": "stdout",
     "output_type": "stream",
     "text": [
      "Hello, Alice!\n",
      "Hello, Bob!\n"
     ]
    }
   ],
   "source": [
    "def create_greeter(greeting):\n",
    "    def greeter(name):\n",
    "        return f\"{greeting}, {name}!\"\n",
    "    return greeter\n",
    "\n",
    "say_hello = create_greeter(\"Hello\")\n",
    "say_hi = create_greeter(\"Hi\")\n",
    "\n",
    "print(say_hello(\"Alice\"))\n",
    "print(say_hello(\"Bob\"))"
   ]
  },
  {
   "cell_type": "markdown",
   "metadata": {},
   "source": [
    "---"
   ]
  },
  {
   "cell_type": "markdown",
   "metadata": {},
   "source": [
    "### Gợi ý kiểu dữ liệu (Type Hinting)"
   ]
  },
  {
   "cell_type": "markdown",
   "metadata": {},
   "source": [
    "Gợi ý kiểu dữ liệu là một tính năng trong Python cho phép bạn chỉ định kiểu dữ liệu mong muốn cho các biến, tham số hàm và giá trị trả về. Mặc dù Python vẫn là một ngôn ngữ được gõ động (dynamically typed), gợi ý kiểu dữ liệu cải thiện khả năng đọc, bảo trì và cho phép các công cụ phân tích tĩnh bắt lỗi trước khi chạy mã."
   ]
  },
  {
   "cell_type": "code",
   "execution_count": 21,
   "metadata": {},
   "outputs": [
    {
     "name": "stdout",
     "output_type": "stream",
     "text": [
      "Kết quả là: 5\n"
     ]
    }
   ],
   "source": [
    "def add_numbers_with_hint(a: int, b: int) -> int:\n",
    "    \"\"\"Cộng hai số nguyên và trả về tổng của chúng.\"\"\"\n",
    "    return a + b\n",
    "\n",
    "result = add_numbers_with_hint(2, 3)\n",
    "print(f\"Kết quả là: {result}\")"
   ]
  },
  {
   "cell_type": "markdown",
   "metadata": {},
   "source": [
    "#### Tại sao nên sử dụng gợi ý kiểu dữ liệu?"
   ]
  },
  {
   "cell_type": "markdown",
   "metadata": {},
   "source": [
    "1.  **Cải thiện khả năng đọc:** Giúp các nhà phát triển khác (và chính bạn trong tương lai) hiểu rõ hơn về các kiểu dữ liệu dự kiến của đầu vào và đầu ra của hàm.\n",
    "2.  **Phát hiện lỗi sớm:** Các công cụ phân tích tĩnh (như MyPy, Pyright) và IDE có thể sử dụng gợi ý kiểu dữ liệu để bắt các lỗi liên quan đến kiểu dữ liệu trước khi bạn chạy mã.\n",
    "3.  **Tự động hoàn thành tốt hơn:** Các IDE có thể cung cấp gợi ý tự động hoàn thành chính xác hơn dựa trên kiểu dữ liệu đã biết.\n",
    "4.  **Tài liệu:** Gợi ý kiểu dữ liệu đóng vai trò như một dạng tài liệu cho API của bạn."
   ]
  },
  {
   "cell_type": "markdown",
   "metadata": {},
   "source": [
    "#### Ví dụ nâng cao về gợi ý kiểu dữ liệu"
   ]
  },
  {
   "cell_type": "code",
   "execution_count": 22,
   "metadata": {},
   "outputs": [
    {
     "name": "stdout",
     "output_type": "stream",
     "text": [
      "Tổng các số: 6\n",
      "Tên người dùng: Alice\n",
      "abcabcabc\n",
      "String: hello, Integer: 123, Float: 4.56\n",
      "Độ dài danh sách: 4\n"
     ]
    }
   ],
   "source": [
    "from typing import List, Dict, Tuple, Union, Optional\n",
    "\n",
    "def process_list(data: List[int]) -> int:\n",
    "    \"\"\"Tính tổng các phần tử trong danh sách các số nguyên.\"\"\"\n",
    "    return sum(data)\n",
    "\n",
    "my_numbers: List[int] = [1, 2, 3]\n",
    "print(f\"Tổng các số: {process_list(my_numbers)}\")\n",
    "\n",
    "def get_user_info(user_id: int) -> Optional[Dict[str, Union[str, int]]]:\n",
    "    \"\"\"Truy xuất thông tin người dùng theo ID.\n",
    "    Trả về một từ điển hoặc None nếu không tìm thấy người dùng.\n",
    "    \"\"\"\n",
    "    if user_id == 1:\n",
    "        return {\"name\": \"Alice\", \"age\": 30}\n",
    "    return None\n",
    "\n",
    "user_data = get_user_info(1)\n",
    "if user_data:\n",
    "    print(f\"Tên người dùng: {user_data['name']}\")\n",
    "\n",
    "def repeat_string(s: str, times: int = 1) -> str:\n",
    "    \"\"\"Lặp lại một chuỗi một số lần nhất định.\"\"\"\n",
    "    return s * times\n",
    "\n",
    "print(repeat_string(\"abc\", 3))\n",
    "\n",
    "def describe_tuple(tup: Tuple[str, int, float]) -> str:\n",
    "    \"\"\"Mô tả một tuple với các kiểu dữ liệu cụ thể.\"\"\"\n",
    "    return f\"String: {tup[0]}, Integer: {tup[1]}, Float: {tup[2]}\"\n",
    "\n",
    "my_tuple = (\"hello\", 123, 4.56)\n",
    "print(describe_tuple(my_tuple))\n",
    "\n",
    "def check_length(items: List[Union[str, int]]) -> int:\n",
    "    \"\"\"Trả về độ dài của danh sách chứa chuỗi hoặc số nguyên.\"\"\"\n",
    "    return len(items)\n",
    "\n",
    "mixed_list = [\"apple\", 1, \"banana\", 2]\n",
    "print(f\"Độ dài danh sách: {check_length(mixed_list)}\")"
   ]
  },
  {
   "cell_type": "code",
   "execution_count": 23,
   "metadata": {},
   "outputs": [
    {
     "ename": "TypeError",
     "evalue": "unsupported operand type(s) for *: 'dict' and 'int'",
     "output_type": "error",
     "traceback": [
      "\u001b[31m---------------------------------------------------------------------------\u001b[39m",
      "\u001b[31mTypeError\u001b[39m                                 Traceback (most recent call last)",
      "\u001b[36mCell\u001b[39m\u001b[36m \u001b[39m\u001b[32mIn[23]\u001b[39m\u001b[32m, line 1\u001b[39m\n\u001b[32m----> \u001b[39m\u001b[32m1\u001b[39m \u001b[43mrepeat_string\u001b[49m\u001b[43m(\u001b[49m\u001b[43m{\u001b[49m\u001b[33;43m'\u001b[39;49m\u001b[33;43mkey_1\u001b[39;49m\u001b[33;43m'\u001b[39;49m\u001b[43m:\u001b[49m\u001b[43m \u001b[49m\u001b[32;43m1\u001b[39;49m\u001b[43m,\u001b[49m\u001b[43m \u001b[49m\u001b[33;43m'\u001b[39;49m\u001b[33;43mkey_2\u001b[39;49m\u001b[33;43m'\u001b[39;49m\u001b[43m:\u001b[49m\u001b[43m \u001b[49m\u001b[32;43m2\u001b[39;49m\u001b[43m}\u001b[49m\u001b[43m)\u001b[49m\n",
      "\u001b[36mCell\u001b[39m\u001b[36m \u001b[39m\u001b[32mIn[22]\u001b[39m\u001b[32m, line 24\u001b[39m, in \u001b[36mrepeat_string\u001b[39m\u001b[34m(s, times)\u001b[39m\n\u001b[32m     22\u001b[39m \u001b[38;5;28;01mdef\u001b[39;00m\u001b[38;5;250m \u001b[39m\u001b[34mrepeat_string\u001b[39m(s: \u001b[38;5;28mstr\u001b[39m, times: \u001b[38;5;28mint\u001b[39m = \u001b[32m1\u001b[39m) -> \u001b[38;5;28mstr\u001b[39m:\n\u001b[32m     23\u001b[39m \u001b[38;5;250m    \u001b[39m\u001b[33;03m\"\"\"Lặp lại một chuỗi một số lần nhất định.\"\"\"\u001b[39;00m\n\u001b[32m---> \u001b[39m\u001b[32m24\u001b[39m     \u001b[38;5;28;01mreturn\u001b[39;00m \u001b[43ms\u001b[49m\u001b[43m \u001b[49m\u001b[43m*\u001b[49m\u001b[43m \u001b[49m\u001b[43mtimes\u001b[49m\n",
      "\u001b[31mTypeError\u001b[39m: unsupported operand type(s) for *: 'dict' and 'int'"
     ]
    }
   ],
   "source": [
    "repeat_string({'key_1': 1, 'key_2': 2})"
   ]
  },
  {
   "cell_type": "markdown",
   "metadata": {},
   "source": [
    "Hầu hết các IDE đều đủ thông minh để đọc gợi ý kiểu dữ liệu của bạn và cảnh báo nếu bạn đang sử dụng một kiểu dữ liệu khác trong hàm, ví dụ, ảnh chụp màn hình VScode này:"
   ]
  },
  {
   "cell_type": "markdown",
   "metadata": {},
   "source": [
    "![](img/chapter2/type_hint_1.png)\n",
    "![](img/chapter2/type_hint_2.png)"
   ]
  }
 ],
 "metadata": {
  "kernelspec": {
   "display_name": "Python 3 (ipykernel)",
   "language": "python",
   "name": "python3"
  },
  "language_info": {
   "codemirror_mode": {
    "name": "ipython",
    "version": 3
   },
   "file_extension": ".py",
   "mimetype": "text/x-python",
   "name": "python",
   "nbconvert_exporter": "python",
   "pygments_lexer": "ipython3",
   "version": "3.13.2"
  }
 },
 "nbformat": 4,
 "nbformat_minor": 4
}