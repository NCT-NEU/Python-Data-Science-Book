{
 "cells": [
  {
   "cell_type": "markdown",
   "id": "92ac13cd-f5f6-4db2-9c0a-6e37b6230be6",
   "metadata": {},
   "source": [
    "# 10. Trực quan hóa dữ liệu\n",
    "<hr>"
   ]
  },
  {
   "cell_type": "markdown",
   "id": "2cead763",
   "metadata": {},
   "source": [
    "Việc tạo ra các hình ảnh trực quan chứa đựng thông tin, thường được gọi là đồ thị, là một trong những nhiệm vụ quan trọng nhất trong phân tích dữ liệu. Trực quan hóa có thể đóng vai trò là một phần của quá trình khám phá dữ liệu – ví dụ, nhằm xác định các điểm ngoại lai hoặc gợi ý những phép biến đổi cần thiết cho dữ liệu đầu vào, hoặc đơn giản là nhằm tìm kiếm ý tưởng cho việc xây dựng mô hình phân tích. Trong một số tình huống khác, mục tiêu cuối cùng có thể là xây dựng một hình ảnh trực quan có tính tương tác để trình bày trên nền tảng web.\n",
    "\n",
    "Python cung cấp nhiều thư viện hỗ trợ trực quan hóa dữ liệu, cả dưới dạng biểu đồ tĩnh lẫn biểu đồ động. Tuy nhiên, trong phạm vi cuốn sách này, chúng ta sẽ tập trung chủ yếu vào thư viện `matplotlib` và các thư viện được xây dựng trên nền tảng của nó.\n",
    "\n",
    "**matplotlib** là một thư viện phần mềm vẽ đồ thị trên máy tính để bàn, được thiết kế để tạo ra các biểu đồ chất lượng cao phù hợp cho việc công bố và in ấn. Dự án này được khởi xướng bởi John Hunter vào năm 2002 với mục tiêu xây dựng một giao diện vẽ đồ thị tương tự như MATLAB trong ngôn ngữ Python. Nhờ sự hợp tác chặt chẽ giữa cộng đồng phát triển matplotlib và IPython, việc tạo ra các biểu đồ tương tác từ môi trường IPython shell, và hiện nay là Jupyter notebook, đã trở nên dễ dàng hơn rất nhiều.\n",
    "\n",
    "matplotlib hỗ trợ nhiều giao diện người dùng trên tất cả các hệ điều hành chính, và cho phép xuất đồ thị sang nhiều định dạng đồ họa phổ biến, cả dạng vector và raster, bao gồm: PDF, SVG, JPG, PNG, BMP, GIF, v.v.. Ngoại trừ một số sơ đồ minh họa đặc biệt, hầu hết các biểu đồ trong cuốn sách này đều được tạo bằng matplotlib.\n",
    "\n",
    "Theo thời gian, matplotlib đã trở thành nền tảng cho nhiều thư viện bổ trợ khác nhằm mở rộng khả năng trực quan hóa. Một trong những thư viện nổi bật đó là `seaborn`, mà chúng ta sẽ khám phá trong phần sau của chương này.\n",
    "\n",
    "Cách đơn giản nhất để theo dõi các ví dụ minh họa trong chương là hiển thị đồ thị ngay trong Jupyter notebook. Để thực hiện điều đó, hãy chạy lệnh sau trong một ô của notebook:"
   ]
  },
  {
   "cell_type": "code",
   "execution_count": 1,
   "id": "85cfb9f9",
   "metadata": {},
   "outputs": [],
   "source": [
    "%matplotlib inline"
   ]
  },
  {
   "cell_type": "markdown",
   "id": "81309fa3",
   "metadata": {},
   "source": [
    "**Lưu ý**\n",
    "\n",
    "Nhiều thư viện trực quan hóa dữ liệu tận dụng công nghệ web hiện đại để tạo ra các hình ảnh trực quan tương tác tích hợp tốt với Jupyter notebook. Thay vì sử dụng nhiều công cụ trực quan hóa trong cuốn sách này, chúng tôi quyết định gắn bó với matplotlib để dạy các nguyên tắc cơ bản, đặc biệt là vì pandas có tích hợp tốt với matplotlib. Bạn cũng có thể điều chỉnh các nguyên tắc từ chương này để học cách sử dụng các thư viện trực quan hóa khác."
   ]
  },
  {
   "cell_type": "markdown",
   "id": "3c614018-5569-4364-af9e-219e79c2dade",
   "metadata": {},
   "source": [
    "## 10.1 Sơ lược về matplotlib\n",
    "<hr>"
   ]
  },
  {
   "cell_type": "markdown",
   "id": "9f823e96",
   "metadata": {},
   "source": [
    "Với matplotlib, chúng ta sử dụng quy ước import sau:"
   ]
  },
  {
   "cell_type": "code",
   "execution_count": 2,
   "id": "56f2c061",
   "metadata": {},
   "outputs": [],
   "source": [
    "import matplotlib.pyplot as plt\n",
    "import numpy as np\n",
    "import pandas as pd"
   ]
  },
  {
   "cell_type": "markdown",
   "id": "8f2041dc",
   "metadata": {},
   "source": [
    "Sau khi chạy `%matplotlib notebook` trong Jupyter (hoặc đơn giản là `%matplotlib` trong IPython), chúng ta có thể thử tạo một đồ thị đơn giản. Nếu mọi thứ được thiết lập đúng, một đồ thị đường như *Đồ thị đường đơn giản* sẽ xuất hiện:"
   ]
  },
  {
   "cell_type": "code",
   "execution_count": 3,
   "id": "911348f9",
   "metadata": {},
   "outputs": [
    {
     "data": {
      "text/plain": [
       "array([ 0,  1,  2,  3,  4,  5,  6,  7,  8,  9, 10, 11, 12, 13, 14, 15, 16,\n",
       "       17, 18, 19, 20, 21, 22, 23, 24, 25, 26, 27, 28, 29, 30, 31, 32, 33,\n",
       "       34, 35, 36, 37, 38, 39, 40, 41, 42, 43, 44, 45, 46, 47, 48, 49, 50,\n",
       "       51, 52, 53, 54, 55, 56, 57, 58, 59, 60, 61, 62, 63, 64, 65, 66, 67,\n",
       "       68, 69, 70, 71, 72, 73, 74, 75, 76, 77, 78, 79, 80, 81, 82, 83, 84,\n",
       "       85, 86, 87, 88, 89, 90, 91, 92, 93, 94, 95, 96, 97, 98, 99])"
      ]
     },
     "execution_count": 3,
     "metadata": {},
     "output_type": "execute_result"
    }
   ],
   "source": [
    "data = np.arange(100)\n",
    "data"
   ]
  },
  {
   "cell_type": "code",
   "execution_count": 4,
   "id": "aff2e591",
   "metadata": {},
   "outputs": [
    {
     "data": {
      "text/plain": [
       "[<matplotlib.lines.Line2D at 0x1d348379590>]"
      ]
     },
     "execution_count": 4,
     "metadata": {},
     "output_type": "execute_result"
    },
    {
     "data": {
      "image/png": "[encoded data removed]",
      "text/plain": [
       "<Figure size 640x480 with 1 Axes>"
      ]
     },
     "metadata": {},
     "output_type": "display_data"
    }
   ],
   "source": [
    "plt.plot(data)"
   ]
  },
  {
   "cell_type": "markdown",
   "id": "e8f3d97e",
   "metadata": {},
   "source": [
    "Trong khi các thư viện như `seaborn` và các hàm vẽ đồ thị tích hợp sẵn của pandas sẽ xử lý nhiều chi tiết thông thường của việc tạo đồ thị, nếu bạn muốn tùy chỉnh chúng vượt ra ngoài các tùy chọn hàm được cung cấp, bạn sẽ cần học một chút về API matplotlib."
   ]
  },
  {
   "cell_type": "code",
   "execution_count": 5,
   "id": "f3d11d1f-51fc-44a1-b3a5-3a0f410e8942",
   "metadata": {},
   "outputs": [
    {
     "ename": "SyntaxError",
     "evalue": "invalid syntax (453671681.py, line 2)",
     "output_type": "error",
     "traceback": [
      "  \u001b[36mCell\u001b[39m\u001b[36m \u001b[39m\u001b[32mIn[5]\u001b[39m\u001b[32m, line 2\u001b[39m\n\u001b[31m    \u001b[39m\u001b[31m<hr>\u001b[39m\n    ^\n\u001b[31mSyntaxError\u001b[39m\u001b[31m:\u001b[39m invalid syntax\n"
     ]
    }
   ],
   "source": [
    "### Hình (figures) và đồ thị con (subplots)\n",
    "<hr>"
   ]
  },
  {
   "cell_type": "markdown",
   "id": "3c8fb839",
   "metadata": {},
   "source": [
    "Các đồ thị trong `matplotlib` nằm trong một đối tượng `Figure`. Bạn có thể tạo một hình mới bằng `plt.figure`:"
   ]
  },
  {
   "cell_type": "code",
   "execution_count": 7,
   "id": "50930b19",
   "metadata": {},
   "outputs": [
    {
     "data": {
      "text/plain": [
       "<Figure size 640x480 with 0 Axes>"
      ]
     },
     "metadata": {},
     "output_type": "display_data"
    }
   ],
   "source": [
    "fig = plt.figure()"
   ]
  },
  {
   "cell_type": "markdown",
   "id": "9b4aa045",
   "metadata": {},
   "source": [
    "Trong IPython, nếu bạn chạy `%matplotlib` trước để thiết lập tích hợp matplotlib, một cửa sổ đồ thị trống sẽ xuất hiện, nhưng trong Jupyter sẽ không có gì được hiển thị cho đến khi chúng ta sử dụng thêm một vài lệnh.\n",
    "\n",
    "`plt.figure` có một số tùy chọn; đáng chú ý, `figsize` sẽ đảm bảo hình có kích thước và tỷ lệ khung hình nhất định nếu được lưu vào đĩa.\n",
    "\n",
    "Bạn không thể tạo một đồ thị với một hình trống. Bạn phải tạo một hoặc nhiều subplot bằng cách sử dụng `add_subplot`:"
   ]
  },
  {
   "cell_type": "code",
   "execution_count": 8,
   "id": "1a1a76d2",
   "metadata": {},
   "outputs": [],
   "source": [
    "ax1 = fig.add_subplot(2, 2, 1)"
   ]
  },
  {
   "cell_type": "markdown",
   "id": "214ecbfa",
   "metadata": {},
   "source": [
    "Điều này có nghĩa là tạo ra khung hình 2 × 2 (tức là tối đa bốn đồ thị), và chúng ta đang chọn subplot đầu tiên trong số bốn subplot (được đánh số từ 1). Nếu bạn tạo hai subplot tiếp theo, bạn sẽ có một hình trực quan trông giống như *Một hình matplotlib trống với ba subplot*:"
   ]
  },
  {
   "cell_type": "code",
   "execution_count": 9,
   "id": "dc9c6ead",
   "metadata": {},
   "outputs": [
    {
     "data": {
      "image/png": "[encoded data removed]",
      "text/plain": [
       "<Figure size 640x480 with 3 Axes>"
      ]
     },
     "metadata": {},
     "output_type": "display_data"
    }
   ],
   "source": [
    "fig = plt.figure() # Phải tạo lại fig vì cell trước có thể đã được thực thi riêng\n",
    "ax1 = fig.add_subplot(2, 2, 1)\n",
    "ax2 = fig.add_subplot(2, 2, 2)\n",
    "ax3 = fig.add_subplot(2, 2, 3)\n",
    "plt.show() # Để hiển thị hình"
   ]
  },
  {
   "cell_type": "markdown",
   "id": "4488d03b",
   "metadata": {},
   "source": [
    "**Lưu ý**\n",
    "\n",
    "Khi sử dụng Jupyter notebooks là các đồ thị được đặt lại sau mỗi ô, vì vậy bạn phải đặt tất cả các lệnh vẽ đồ thị vào một ô notebook duy nhất.\n",
    "\n",
    "Ở trên chúng ta đã chạy tất cả các lệnh này trong cùng một ô:"
   ]
  },
  {
   "cell_type": "markdown",
   "id": "4e83d445",
   "metadata": {},
   "source": [
    "Các đối tượng trục đồ thị này có nhiều phương thức khác nhau để tạo ra các loại đồ thị khác nhau, và ưu tiên sử dụng các phương thức trục hơn là các hàm vẽ đồ thị cấp cao nhất như `plt.plot`. Ví dụ, chúng ta có thể tạo một đồ thị dạng đường bằng phương thức `plot` (xem *Trực quan hóa dữ liệu sau một đồ thị đơn*):"
   ]
  },
  {
   "cell_type": "code",
   "execution_count": 11,
   "id": "f4e86885",
   "metadata": {},
   "outputs": [
    {
     "data": {
      "image/png": "[encoded data removed]",
      "text/plain": [
       "<Figure size 640x480 with 3 Axes>"
      ]
     },
     "metadata": {},
     "output_type": "display_data"
    }
   ],
   "source": [
    "fig = plt.figure()\n",
    "ax1 = fig.add_subplot(2, 2, 1)\n",
    "ax2 = fig.add_subplot(2, 2, 2)\n",
    "ax3 = fig.add_subplot(2, 2, 3)\n",
    "ax3.plot(np.random.standard_normal(50).cumsum(), color=\"black\", linestyle=\"dashed\")\n",
    "plt.show()"
   ]
  },
  {
   "cell_type": "markdown",
   "id": "0786dbed",
   "metadata": {},
   "source": [
    "Bạn có thể nhận thấy kết quả như `<matplotlib.lines.Line2D at ...>` khi bạn chạy lệnh này. matplotlib trả về các đối tượng tham chiếu đến thành phần phụ của đồ thị vừa được thêm vào. Phần lớn thời gian bạn có thể bỏ qua kết quả này một cách an toàn, hoặc bạn có thể đặt dấu chấm phẩy ở cuối dòng để chặn kết quả.\n",
    "\n",
    "Các tùy chọn bổ sung hướng dẫn matplotlib vẽ một đường gạch ngang màu đen. Các đối tượng được trả về bởi `fig.add_subplot` ở đây là các đối tượng `AxesSubplot`, trên đó bạn có thể vẽ trực tiếp trên các subplot trống khác bằng cách gọi phương thức instance của mỗi subplot (xem *Trực quan hóa dữ liệu sau các đồ thị bổ sung*):"
   ]
  },
  {
   "cell_type": "code",
   "execution_count": 12,
   "id": "22ff673b",
   "metadata": {},
   "outputs": [
    {
     "data": {
      "image/png": "[encoded data removed]",
      "text/plain": [
       "<Figure size 640x480 with 3 Axes>"
      ]
     },
     "metadata": {},
     "output_type": "display_data"
    }
   ],
   "source": [
    "fig = plt.figure()\n",
    "ax1 = fig.add_subplot(2, 2, 1)\n",
    "ax2 = fig.add_subplot(2, 2, 2)\n",
    "ax3 = fig.add_subplot(2, 2, 3)\n",
    "\n",
    "ax1.hist(np.random.standard_normal(100), bins=20, color=\"black\", alpha=0.3);\n",
    "ax2.scatter(np.arange(30), np.arange(30) + 3 * np.random.standard_normal(30));\n",
    "ax3.plot(np.random.standard_normal(50).cumsum(), color=\"black\", linestyle=\"dashed\")\n",
    "plt.show()"
   ]
  },
  {
   "cell_type": "markdown",
   "id": "83545ed0",
   "metadata": {},
   "source": [
    "Tùy chọn `alpha=0.3` đặt độ trong suốt của đồ thị được phủ lên.\n",
    "\n",
    "Bạn có thể tìm thấy một danh mục toàn diện các loại đồ thị trong tài liệu matplotlib.\n",
    "\n",
    "Để tạo một lưới các subplot thuận tiện hơn, matplotlib bao gồm một phương thức `plt.subplots` tạo một hình mới và trả về một mảng NumPy chứa các đối tượng subplot đã tạo:"
   ]
  },
  {
   "cell_type": "code",
   "execution_count": 13,
   "id": "21a03a6e",
   "metadata": {},
   "outputs": [
    {
     "data": {
      "image/png": "[encoded data removed]",
      "text/plain": [
       "<Figure size 640x480 with 6 Axes>"
      ]
     },
     "metadata": {},
     "output_type": "display_data"
    }
   ],
   "source": [
    "fig, axes = plt.subplots(2, 3)\n",
    "axes\n",
    "plt.show()"
   ]
  },
  {
   "cell_type": "markdown",
   "id": "b8c1bd3f",
   "metadata": {},
   "source": [
    "Mảng `axes` sau đó có thể được lập chỉ mục giống như một mảng hai chiều; ví dụ, `axes[0, 1]` tham chiếu đến subplot ở hàng trên cùng ở giữa. Bạn cũng có thể chỉ ra rằng các subplot nên có cùng trục x hoặc y tương ứng bằng cách sử dụng `sharex` và `sharey`. Điều này có thể hữu ích khi bạn đang so sánh dữ liệu trên cùng một thang đo; nếu không, matplotlib sẽ tự động điều chỉnh giới hạn đồ thị một cách độc lập. Xem *Bảng 9.1* để biết thêm về phương thức này.\n",
    "\n",
    "**Bảng 9.1: Các tùy chọn matplotlib.pyplot.subplots**\n",
    "\n",
    "| Đối số      | Mô tả                                                                                                |\n",
    "|---------------|------------------------------------------------------------------------------------------------------|\n",
    "| `nrows`       | Số hàng của các subplot                                                                             |\n",
    "| `ncols`       | Số cột của các subplot                                                                              |\n",
    "| `sharex`      | Tất cả các subplot nên sử dụng cùng một vạch chia trục x (điều chỉnh `xlim` sẽ ảnh hưởng đến tất cả các subplot) |\n",
    "| `sharey`      | Tất cả các subplot nên sử dụng cùng một vạch chia trục y (điều chỉnh `ylim` sẽ ảnh hưởng đến tất cả các subplot) |\n",
    "| `subplot_kw`  | Từ điển các từ khóa được truyền cho lệnh gọi `add_subplot` được sử dụng để tạo mỗi subplot                  |\n",
    "| `**fig_kw`    | Các từ khóa bổ sung cho `subplots` được sử dụng khi tạo hình, chẳng hạn như `plt.subplots(2, 2, figsize=(8, 6))` |\n"
   ]
  },
  {
   "cell_type": "markdown",
   "id": "dae25a87",
   "metadata": {},
   "source": [
    "#### Điều chỉnh khoảng cách xung quanh các subplot\n",
    "\n",
    "Theo mặc định, matplotlib để lại một khoảng đệm nhất định xung quanh bên ngoài các subplot và khoảng cách giữa các subplot. Khoảng cách này đều được chỉ định tương đối với chiều cao và chiều rộng của đồ thị, do đó nếu bạn thay đổi kích thước đồ thị theo chương trình hoặc thủ công bằng cửa sổ GUI, đồ thị sẽ tự động điều chỉnh. Bạn có thể thay đổi khoảng cách bằng phương thức `subplots_adjust` trên các đối tượng `Figure`:\n",
    "\n",
    "`subplots_adjust(left=None, bottom=None, right=None, top=None, wspace=None, hspace=None)`\n",
    "\n",
    "`wspace` và `hspace` kiểm soát phần trăm chiều rộng và chiều cao của hình, tương ứng, để sử dụng làm khoảng cách giữa các subplot. Đây là một ví dụ nhỏ bạn có thể thực thi trong Jupyter, nơi tôi thu nhỏ khoảng cách xuống bằng không (xem *Trực quan hóa dữ liệu không có khoảng cách giữa các subplot*):"
   ]
  },
  {
   "cell_type": "code",
   "execution_count": null,
   "id": "5c9f9efc",
   "metadata": {},
   "outputs": [],
   "source": [
    "fig, axes = plt.subplots(2, 2, sharex=True, sharey=True)\n",
    "for i in range(2):\n",
    "    for j in range(2):\n",
    "        axes[i, j].hist(np.random.standard_normal(500), bins=50, color=\"black\", alpha=0.5)\n",
    "fig.subplots_adjust(wspace=0, hspace=0)\n",
    "plt.show()"
   ]
  },
  {
   "cell_type": "markdown",
   "id": "848379ef",
   "metadata": {},
   "source": [
    "Bạn có thể nhận thấy rằng các nhãn trục chồng chéo lên nhau. matplotlib không kiểm tra xem các nhãn có chồng chéo hay không, vì vậy trong trường hợp như thế này, bạn sẽ cần tự sửa các nhãn bằng cách chỉ định các vị trí vạch chia và nhãn vạch chia rõ ràng (chúng ta sẽ xem xét cách thực hiện điều này trong phần sau *Vạch chia, Nhãn và Chú giải*)."
   ]
  },
  {
   "cell_type": "markdown",
   "id": "7a78a2d9",
   "metadata": {},
   "source": [
    "### Colors (Màu sắc), Markers (Điểm đánh dấu), và Line Styles (Kiểu đường)\n",
    "\n",
    "Hàm vẽ đồ thị đường của matplotlib chấp nhận các mảng tọa độ x và y và các tùy chọn tạo kiểu màu tùy chọn. Ví dụ, để vẽ x so với y bằng các đường gạch ngang màu xanh lá cây, bạn sẽ thực thi:"
   ]
  },
  {
   "cell_type": "code",
   "execution_count": null,
   "id": "82ced591",
   "metadata": {},
   "outputs": [],
   "source": [
    "# Giả sử x và y đã được định nghĩa\n",
    "# x = np.arange(0, 10, 0.1)\n",
    "# y = np.sin(x)\n",
    "# fig, ax = plt.subplots()\n",
    "# ax.plot(x, y, linestyle=\"--\", color=\"green\")\n",
    "# plt.show() \n",
    "# Đoạn code trên là ví dụ, không có trong văn bản gốc để tạo hình, chỉ là mô tả lệnh"
   ]
  },
  {
   "cell_type": "markdown",
   "id": "96ee305a",
   "metadata": {},
   "source": [
    "Một số tên màu được cung cấp cho các màu thường được sử dụng, nhưng bạn có thể sử dụng bất kỳ màu nào trên phổ màu bằng cách chỉ định mã hex của nó (ví dụ: `\"#CECECE\"`). Bạn có thể xem một số kiểu đường được hỗ trợ bằng cách xem docstring cho `plt.plot` (sử dụng `plt.plot?` trong IPython hoặc Jupyter). Một tài liệu tham khảo toàn diện hơn có sẵn trong tài liệu trực tuyến.\n",
    "\n",
    "Các đồ thị đường có thể có thêm các điểm đánh dấu để làm nổi bật các điểm dữ liệu thực tế. Vì hàm `plot` của matplotlib tạo ra một đồ thị đường liên tục, nội suy giữa các điểm, đôi khi có thể không rõ ràng vị trí các điểm nằm ở đâu. Điểm đánh dấu có thể được cung cấp dưới dạng một tùy chọn tạo kiểu bổ sung (xem *Đồ thị đường với các điểm đánh dấu*):"
   ]
  },
  {
   "cell_type": "code",
   "execution_count": null,
   "id": "1286efeb",
   "metadata": {},
   "outputs": [],
   "source": [
    "fig = plt.figure() # Cần tạo figure mới\n",
    "ax = fig.add_subplot()\n",
    "ax.plot(np.random.standard_normal(30).cumsum(), color=\"black\", linestyle=\"dashed\", marker=\"o\");\n",
    "plt.show()"
   ]
  },
  {
   "cell_type": "markdown",
   "id": "72626fe0",
   "metadata": {},
   "source": [
    "Đối với các đồ thị đường, bạn sẽ nhận thấy rằng các điểm tiếp theo được nội suy tuyến tính theo mặc định. Điều này có thể được thay đổi bằng tùy chọn `drawstyle` (xem *Đồ thị đường với các tùy chọn drawstyle khác nhau*):"
   ]
  },
  {
   "cell_type": "code",
   "execution_count": null,
   "id": "a47d217c",
   "metadata": {},
   "outputs": [],
   "source": [
    "fig = plt.figure()\n",
    "ax = fig.add_subplot()\n",
    "data = np.random.standard_normal(30).cumsum()\n",
    "ax.plot(data, color=\"black\", linestyle=\"dashed\", label=\"Default\");\n",
    "ax.plot(data, color=\"black\", linestyle=\"dashed\", drawstyle=\"steps-post\", label=\"steps-post\");\n",
    "ax.legend()\n",
    "plt.show()"
   ]
  },
  {
   "cell_type": "markdown",
   "id": "6c7ce4a8",
   "metadata": {},
   "source": [
    "Ở đây, vì chúng ta đã truyền các đối số `label` cho `plot`, chúng ta có thể tạo một chú giải đồ thị để xác định mỗi dòng bằng cách sử dụng `ax.legend`. Tôi sẽ thảo luận thêm về chú giải trong *Vạch chia, Nhãn và Chú giải*.\n",
    "\n",
    "**Lưu ý**\n",
    "\n",
    "Bạn phải gọi `ax.legend` để tạo chú giải, cho dù bạn có truyền các tùy chọn `label` khi vẽ dữ liệu hay không."
   ]
  },
  {
   "cell_type": "markdown",
   "id": "5d31981b",
   "metadata": {},
   "source": [
    "### Ticks (Vạch chia), Labels (Nhãn), và Legends (Chú giải)\n",
    "\n",
    "Hầu hết các loại trang trí đồ thị có thể được truy cập thông qua các phương thức trên các đối tượng trục matplotlib. Điều này bao gồm các phương thức như `xlim`, `xticks`, và `xticklabels`. Chúng kiểm soát phạm vi đồ thị, vị trí vạch chia và nhãn vạch chia, tương ứng. Chúng có thể được sử dụng theo hai cách:\n",
    "\n",
    "*   Gọi không có đối số trả về giá trị tham số hiện tại (ví dụ: `ax.xlim()` trả về phạm vi vẽ trục x hiện tại)\n",
    "*   Gọi với các tham số đặt giá trị tham số (ví dụ: `ax.xlim([0, 10])` đặt phạm vi trục x thành 0 đến 10)\n",
    "\n",
    "Tất cả các phương thức như vậy đều hoạt động trên `AxesSubplot` đang hoạt động hoặc được tạo gần đây nhất. Mỗi phương thức tương ứng với hai phương thức trên chính đối tượng subplot; trong trường hợp `xlim`, đó là `ax.get_xlim` và `ax.set_xlim`."
   ]
  },
  {
   "cell_type": "markdown",
   "id": "800c1b83",
   "metadata": {},
   "source": [
    "#### Đặt tiêu đề, nhãn trục, vạch chia và nhãn vạch chia\n",
    "\n",
    "Để minh họa việc tùy chỉnh các trục, tôi sẽ tạo một hình đơn giản và đồ thị của một bước đi ngẫu nhiên (xem *Đồ thị đơn giản để minh họa xticks (với nhãn mặc định)*):"
   ]
  },
  {
   "cell_type": "code",
   "execution_count": null,
   "id": "ac3d500d",
   "metadata": {},
   "outputs": [],
   "source": [
    "fig, ax = plt.subplots()\n",
    "ax.plot(np.random.standard_normal(1000).cumsum());\n",
    "plt.show()"
   ]
  },
  {
   "cell_type": "markdown",
   "id": "5e041142",
   "metadata": {},
   "source": [
    "Để thay đổi các vạch chia trục x, cách dễ nhất là sử dụng `set_xticks` và `set_xticklabels`. Lệnh đầu tiên hướng dẫn matplotlib đặt các vạch chia ở đâu dọc theo phạm vi dữ liệu; theo mặc định, các vị trí này cũng sẽ là các nhãn. Nhưng chúng ta có thể đặt bất kỳ giá trị nào khác làm nhãn bằng cách sử dụng `set_xticklabels`:"
   ]
  },
  {
   "cell_type": "code",
   "execution_count": null,
   "id": "e9d48f47",
   "metadata": {},
   "outputs": [],
   "source": [
    "fig, ax = plt.subplots()\n",
    "ax.plot(np.random.standard_normal(1000).cumsum());\n",
    "\n",
    "ticks = ax.set_xticks([0, 250, 500, 750, 1000])\n",
    "labels = ax.set_xticklabels([\"one\", \"two\", \"three\", \"four\", \"five\"], rotation=30, fontsize=8)\n",
    "plt.show()"
   ]
  },
  {
   "cell_type": "markdown",
   "id": "863241a5",
   "metadata": {},
   "source": [
    "Tùy chọn `rotation` đặt các nhãn vạch chia x ở một góc xoay 30 độ. Cuối cùng, `set_xlabel` đặt tên cho trục x và `set_title` là tiêu đề subplot (xem *Đồ thị đơn giản để minh họa xticks tùy chỉnh* cho hình kết quả):"
   ]
  },
  {
   "cell_type": "code",
   "execution_count": null,
   "id": "fbe7c3b2",
   "metadata": {},
   "outputs": [],
   "source": [
    "fig, ax = plt.subplots()\n",
    "ax.plot(np.random.standard_normal(1000).cumsum());\n",
    "\n",
    "ticks = ax.set_xticks([0, 250, 500, 750, 1000])\n",
    "labels = ax.set_xticklabels([\"one\", \"two\", \"three\", \"four\", \"five\"], rotation=30, fontsize=8)\n",
    "\n",
    "ax.set_xlabel(\"Stages\")\n",
    "ax.set_title(\"My first matplotlib plot\")\n",
    "plt.show()"
   ]
  },
  {
   "cell_type": "markdown",
   "id": "d01a49be",
   "metadata": {},
   "source": [
    "Việc sửa đổi trục y bao gồm quy trình tương tự, thay thế y bằng x trong ví dụ này. Lớp `axes` có một phương thức `set` cho phép đặt hàng loạt các thuộc tính đồ thị. Từ ví dụ trước, chúng ta cũng có thể viết:\n",
    "\n",
    "`ax.set(title=\"My first matplotlib plot\", xlabel=\"Stages\")`"
   ]
  },
  {
   "cell_type": "markdown",
   "id": "24652ca5",
   "metadata": {},
   "source": [
    "#### Thêm chú giải\n",
    "\n",
    "Chú giải là một yếu tố quan trọng khác để xác định các yếu tố đồ thị. Có một vài cách để thêm một chú giải. Cách dễ nhất là truyền đối số `label` khi thêm mỗi phần của đồ thị:"
   ]
  },
  {
   "cell_type": "code",
   "execution_count": null,
   "id": "e891fff4",
   "metadata": {},
   "outputs": [],
   "source": [
    "fig, ax = plt.subplots()\n",
    "ax.plot(np.random.randn(1000).cumsum(), color=\"black\", label=\"one\");\n",
    "ax.plot(np.random.randn(1000).cumsum(), color=\"black\", linestyle=\"dashed\", label=\"two\");\n",
    "ax.plot(np.random.randn(1000).cumsum(), color=\"black\", linestyle=\"dotted\", label=\"three\");\n",
    "\n",
    "ax.legend()\n",
    "plt.show()"
   ]
  },
  {
   "cell_type": "markdown",
   "id": "9e71247f",
   "metadata": {},
   "source": [
    "Phương thức `legend` có một số lựa chọn khác cho đối số vị trí `loc`. Xem docstring (với `ax.legend?`) để biết thêm thông tin.\n",
    "\n",
    "Tùy chọn `loc` của chú giải cho matplotlib biết vị trí đặt đồ thị. Mặc định là `\"best\"`, cố gắng chọn một vị trí ít bị cản trở nhất. Để loại trừ một hoặc nhiều yếu tố khỏi chú giải, không truyền `label` hoặc truyền `label=\"_nolegend_\"`."
   ]
  },
  {
   "cell_type": "markdown",
   "id": "74f23fa5",
   "metadata": {},
   "source": [
    "### Annotations (Chú thích) và Drawing (Vẽ) trên một Subplot\n",
    "\n",
    "Ngoài các loại đồ thị tiêu chuẩn, bạn có thể muốn vẽ các chú thích đồ thị của riêng mình, có thể bao gồm văn bản, mũi tên hoặc các hình dạng khác. Bạn có thể thêm chú thích và văn bản bằng các hàm `text`, `arrow`, và `annotate`. `text` vẽ văn bản tại các tọa độ (x, y) đã cho trên đồ thị với kiểu tùy chỉnh tùy chọn:\n",
    "\n",
    "`ax.text(x, y, \"Hello world!\", family=\"monospace\", fontsize=10)`\n",
    "\n",
    "Chú thích có thể vẽ cả văn bản và mũi tên được sắp xếp phù hợp. Ví dụ, hãy vẽ đồ thị giá đóng cửa của chỉ số S&P 500 kể từ năm 2007 (lấy từ Yahoo! Finance) và chú thích nó với một số ngày quan trọng từ cuộc khủng hoảng tài chính 2008–2009. Bạn có thể chạy ví dụ mã này trong một ô duy nhất trong Jupyter notebook. Xem *Các ngày quan trọng trong cuộc khủng hoảng tài chính 2008–2009* cho kết quả:"
   ]
  },
  {
   "cell_type": "code",
   "execution_count": null,
   "id": "9dd84538",
   "metadata": {},
   "outputs": [],
   "source": [
    "from datetime import datetime\n",
    "# Create spx.csv file for the example\n",
    "spx_csv_content = \"date,SPX\\n2003-01-02,909.03\\n2007-05-04,1499.26\\n2007-10-11,1554.41\\n2008-03-12,1290.35\\n2008-09-15,1172.22\\n2010-12-31,1257.64\\n2011-01-03,1271.87\"\n",
    "with open(\"spx.csv\", \"w\") as f:\n",
    "    f.write(spx_csv_content)\n",
    "\n",
    "fig, ax = plt.subplots(figsize=(12, 6)) # Tăng kích thước để dễ nhìn hơn\n",
    "data = pd.read_csv(\"spx.csv\", index_col=0, parse_dates=True)\n",
    "spx = data[\"SPX\"]\n",
    "\n",
    "spx.plot(ax=ax, color=\"black\")\n",
    "\n",
    "crisis_data = [\n",
    "    (datetime(2007, 10, 11), \"Peak of bull market\"),\n",
    "    (datetime(2008, 3, 12), \"Bear Stearns Fails\"),\n",
    "    (datetime(2008, 9, 15), \"Lehman Bankruptcy\")\n",
    "]\n",
    "\n",
    "for date, label in crisis_data:\n",
    "    ax.annotate(label, xy=(date, spx.asof(date) + 75),\n",
    "                xytext=(date, spx.asof(date) + 225),\n",
    "                arrowprops=dict(facecolor=\"black\", headwidth=4, width=2,\n",
    "                                headlength=4),\n",
    "                horizontalalignment=\"left\",\n",
    "                verticalalignment=\"top\")\n",
    "\n",
    "# Zoom in on 2007-2010\n",
    "ax.set_xlim([\"1/1/2007\", \"1/1/2011\"])\n",
    "ax.set_ylim([600, 1800])\n",
    "ax.set_title(\"Important dates in the 2008–2009 financial crisis\")\n",
    "plt.show()"
   ]
  },
  {
   "cell_type": "markdown",
   "id": "64b2c1a8",
   "metadata": {},
   "source": [
    "Có một vài điểm quan trọng cần làm nổi bật trong đồ thị này. Phương thức `ax.annotate` có thể vẽ các nhãn tại các tọa độ x và y được chỉ định. Chúng ta sử dụng các phương thức `set_xlim` và `set_ylim` để đặt thủ công các ranh giới bắt đầu và kết thúc cho đồ thị thay vì sử dụng mặc định của matplotlib. Cuối cùng, `ax.set_title` thêm một tiêu đề chính cho đồ thị.\n",
    "\n",
    "Xem thư viện matplotlib trực tuyến để biết nhiều ví dụ chú thích khác để học hỏi."
   ]
  },
  {
   "cell_type": "markdown",
   "id": "b3e3f3cc",
   "metadata": {},
   "source": [
    "Việc vẽ các hình dạng đòi hỏi sự cẩn thận hơn. matplotlib có các đối tượng đại diện cho nhiều hình dạng phổ biến, được gọi là các bản vá (patches). Một số trong số này, như `Rectangle` và `Circle`, được tìm thấy trong `matplotlib.pyplot`, nhưng bộ đầy đủ nằm trong `matplotlib.patches`.\n",
    "\n",
    "Để thêm một hình dạng vào đồ thị, bạn tạo đối tượng bản vá và thêm nó vào một subplot `ax` bằng cách truyền bản vá cho `ax.add_patch` (xem *Trực quan hóa dữ liệu bao gồm ba bản vá khác nhau*):"
   ]
  },
  {
   "cell_type": "code",
   "execution_count": null,
   "id": "25ba91ed",
   "metadata": {},
   "outputs": [],
   "source": [
    "fig, ax = plt.subplots()\n",
    "\n",
    "rect = plt.Rectangle((0.2, 0.75), 0.4, 0.15, color=\"black\", alpha=0.3)\n",
    "circ = plt.Circle((0.7, 0.2), 0.15, color=\"blue\", alpha=0.3)\n",
    "pgon = plt.Polygon([[0.15, 0.15], [0.35, 0.4], [0.2, 0.6]],\n",
    "                   color=\"green\", alpha=0.5)\n",
    "\n",
    "ax.add_patch(rect)\n",
    "ax.add_patch(circ)\n",
    "ax.add_patch(pgon)\n",
    "plt.show()"
   ]
  },
  {
   "cell_type": "markdown",
   "id": "2a970025",
   "metadata": {},
   "source": [
    "Nếu bạn xem xét việc triển khai nhiều loại đồ thị quen thuộc, bạn sẽ thấy rằng chúng được lắp ráp từ các bản vá."
   ]
  },
  {
   "cell_type": "markdown",
   "id": "af469167",
   "metadata": {},
   "source": [
    "### Saving Plots to File (Lưu đồ thị ra tệp)\n",
    "\n",
    "Bạn có thể lưu hình đang hoạt động vào tệp bằng phương thức instance `savefig` của đối tượng hình. Ví dụ, để lưu phiên bản SVG của một hình, bạn chỉ cần nhập:\n",
    "\n",
    "`fig.savefig(\"figpath.svg\")`\n",
    "\n",
    "Loại tệp được suy ra từ phần mở rộng của tệp. Vì vậy, nếu bạn sử dụng `.pdf` thay vào đó, bạn sẽ nhận được một tệp PDF. Một tùy chọn quan trọng mà tôi thường xuyên sử dụng để xuất bản đồ họa là `dpi`, kiểm soát độ phân giải điểm trên mỗi inch. Để có được cùng một đồ thị dưới dạng PNG ở 400 DPI, bạn sẽ làm:\n",
    "\n",
    "`fig.savefig(\"figpath.png\", dpi=400)`\n",
    "\n",
    "Xem *Bảng 9.2* để biết danh sách một số tùy chọn khác cho `savefig`. Để có danh sách đầy đủ, hãy tham khảo docstring trong IPython hoặc Jupyter.\n",
    "\n",
    "**Bảng 9.2: Một số tùy chọn fig.savefig**\n",
    "\n",
    "| Đối số        | Mô tả                                                                                                    |\n",
    "|-----------------|----------------------------------------------------------------------------------------------------------|\n",
    "| `fname`         | Chuỗi chứa đường dẫn tệp hoặc đối tượng giống tệp Python. Định dạng hình được suy ra từ phần mở rộng của tệp (ví dụ: `.pdf` cho PDF hoặc `.png` cho PNG). |\n",
    "| `dpi`           | Độ phân giải của hình tính bằng điểm trên mỗi inch; mặc định là 100 trong IPython hoặc 72 trong Jupyter nhưng có thể được cấu hình. |\n",
    "| `facecolor`, `edgecolor` | Màu của nền hình bên ngoài các subplot; `\"w\"` (trắng), theo mặc định.                                   |\n",
    "| `format`        | Định dạng tệp rõ ràng để sử dụng (`\"png\"`, `\"pdf\"`, `\"svg\"`, `\"ps\"`, `\"eps\"`, ...).                               |\n"
   ]
  },
  {
   "cell_type": "code",
   "execution_count": null,
   "id": "a2fcfbba",
   "metadata": {},
   "outputs": [],
   "source": [
    "# Ví dụ lưu file, không tạo hình ảnh trực tiếp trong notebook output\n",
    "fig, ax = plt.subplots()\n",
    "ax.plot(np.random.standard_normal(30).cumsum(), color=\"black\", linestyle=\"dashed\", marker=\"o\");\n",
    "# fig.savefig(\"figpath.svg\") \n",
    "# fig.savefig(\"figpath.png\", dpi=400)\n",
    "# Bỏ comment các dòng trên để thực sự lưu file"
   ]
  },
  {
   "cell_type": "markdown",
   "id": "57e1cb40",
   "metadata": {},
   "source": [
    "### matplotlib Configuration (Cấu hình matplotlib)\n",
    "\n",
    "matplotlib đi kèm với các lược đồ màu và các giá trị mặc định chủ yếu hướng đến việc chuẩn bị các hình cho việc xuất bản. May mắn thay, gần như tất cả các hành vi mặc định đều có thể được tùy chỉnh thông qua các tham số toàn cục chi phối kích thước hình, khoảng cách subplot, màu sắc, kích thước phông chữ, kiểu lưới, v.v. Một cách để sửa đổi cấu hình theo chương trình từ Python là sử dụng phương thức `rc`; ví dụ, để đặt kích thước hình mặc định toàn cục là 10 × 10, bạn có thể nhập:\n",
    "\n",
    "`plt.rc(\"figure\", figsize=(10, 10))`\n",
    "\n",
    "Tất cả các cài đặt cấu hình hiện tại được tìm thấy trong từ điển `plt.rcParams`, và chúng có thể được khôi phục về giá trị mặc định bằng cách gọi hàm `plt.rcdefaults()`.\n",
    "\n",
    "Đối số đầu tiên cho `rc` là thành phần bạn muốn tùy chỉnh, chẳng hạn như `\"figure\"`, `\"axes\"`, `\"xtick\"`, `\"ytick\"`, `\"grid\"`, `\"legend\"`, hoặc nhiều thành phần khác. Sau đó có thể là một chuỗi các đối số từ khóa cho biết các tham số mới. Một cách thuận tiện để viết các tùy chọn trong chương trình của bạn là dưới dạng một từ điển:\n",
    "\n",
    "`plt.rc(\"font\", family=\"monospace\", weight=\"bold\", size=8)`\n",
    "\n",
    "Để tùy chỉnh rộng hơn và xem danh sách tất cả các tùy chọn, matplotlib đi kèm với một tệp cấu hình `matplotlibrc` trong thư mục `matplotlib/mpl-data`. Nếu bạn tùy chỉnh tệp này và đặt nó trong thư mục chính của mình với tên `.matplotlibrc`, nó sẽ được tải mỗi khi bạn sử dụng matplotlib.\n",
    "\n",
    "Như chúng ta sẽ thấy trong phần tiếp theo, gói seaborn có một số chủ đề hoặc kiểu đồ thị tích hợp sẵn sử dụng hệ thống cấu hình của matplotlib bên trong."
   ]
  },
  {
   "cell_type": "markdown",
   "id": "1fbe8c64",
   "metadata": {},
   "source": [
    "## 9.2 Vẽ đồ thị với pandas và seaborn\n",
    "\n",
    "matplotlib có thể là một công cụ ở mức độ khá thấp. Bạn lắp ráp một đồ thị từ các thành phần cơ bản của nó: hiển thị dữ liệu (tức là loại đồ thị: đường, cột, hộp, phân tán, đường đồng mức, v.v.), chú giải, tiêu đề, nhãn vạch chia và các chú thích khác.\n",
    "\n",
    "Trong pandas, chúng ta có thể có nhiều cột dữ liệu, cùng với các nhãn hàng và cột. Bản thân pandas có các phương thức tích hợp sẵn giúp đơn giản hóa việc tạo hình trực quan từ các đối tượng DataFrame và Series. Một thư viện khác là seaborn, một thư viện đồ họa thống kê cấp cao được xây dựng trên matplotlib. seaborn đơn giản hóa việc tạo nhiều loại hình trực quan phổ biến."
   ]
  },
  {
   "cell_type": "markdown",
   "id": "c2929e3c",
   "metadata": {},
   "source": [
    "### Line Plots (Đồ thị đường)\n",
    "\n",
    "Series và DataFrame có một thuộc tính `plot` để tạo một số loại đồ thị cơ bản. Theo mặc định, `plot()` tạo đồ thị đường (xem *Đồ thị Series đơn giản*):"
   ]
  },
  {
   "cell_type": "code",
   "execution_count": null,
   "id": "1255c1c2",
   "metadata": {},
   "outputs": [],
   "source": [
    "s = pd.Series(np.random.standard_normal(10).cumsum(), index=np.arange(0, 100, 10))\n",
    "s.plot()\n",
    "plt.show()"
   ]
  },
  {
   "cell_type": "markdown",
   "id": "2a38c505",
   "metadata": {},
   "source": [
    "Chỉ mục của đối tượng Series được truyền cho matplotlib để vẽ trên trục x, mặc dù bạn có thể vô hiệu hóa điều này bằng cách truyền `use_index=False`. Các vạch chia và giới hạn trục x có thể được điều chỉnh bằng các tùy chọn `xticks` và `xlim`, và trục y tương ứng với `yticks` và `ylim`. Xem *Bảng 9.3* để biết danh sách một phần các tùy chọn `plot`. Tôi sẽ bình luận thêm về một vài trong số chúng trong suốt phần này và để lại phần còn lại cho bạn khám phá.\n",
    "\n",
    "**Bảng 9.3: Các đối số phương thức Series.plot**\n",
    "\n",
    "| Đối số      | Mô tả                                                                                                  |\n",
    "|---------------|--------------------------------------------------------------------------------------------------------|\n",
    "| `label`       | Nhãn cho chú giải đồ thị                                                                                |\n",
    "| `ax`          | Đối tượng subplot matplotlib để vẽ trên đó; nếu không có gì được truyền, sử dụng subplot matplotlib đang hoạt động |\n",
    "| `style`       | Chuỗi kiểu, như `\"ko--\"`, được truyền cho matplotlib                                                    |\n",
    "| `alpha`       | Độ mờ của phần tô màu đồ thị (từ 0 đến 1)                                                               |\n",
    "| `kind`        | Có thể là `\"area\"`, `\"bar\"`, `\"barh\"`, `\"density\"`, `\"hist\"`, `\"kde\"`, `\"line\"`, hoặc `\"pie\"`; mặc định là `\"line\"` |\n",
    "| `figsize`     | Kích thước của đối tượng hình để tạo                                                                      |\n",
    "| `logx`        | Truyền `True` để chia tỷ lệ logarit trên trục x; truyền `\"sym\"` cho logarit đối xứng cho phép các giá trị âm |\n",
    "| `logy`        | Truyền `True` để chia tỷ lệ logarit trên trục y; truyền `\"sym\"` cho logarit đối xứng cho phép các giá trị âm |\n",
    "| `title`       | Tiêu đề để sử dụng cho đồ thị                                                                            |\n",
    "| `use_index`   | Sử dụng chỉ mục đối tượng cho các nhãn vạch chia                                                            |\n",
    "| `rot`         | Xoay các nhãn vạch chia (0 đến 360)                                                                      |\n",
    "| `xticks`      | Các giá trị để sử dụng cho các vạch chia trục x                                                               |\n",
    "| `yticks`      | Các giá trị để sử dụng cho các vạch chia trục y                                                               |\n",
    "| `xlim`        | Giới hạn trục x (ví dụ: `[0, 10]`)                                                                      |\n",
    "| `ylim`        | Giới hạn trục y                                                                                         |\n",
    "| `grid`        | Hiển thị lưới trục (tắt theo mặc định)                                                                      |\n",
    "\n",
    "Hầu hết các phương thức vẽ đồ thị của pandas đều chấp nhận một tham số `ax` tùy chọn, có thể là một đối tượng subplot matplotlib. Điều này mang lại cho bạn sự linh hoạt hơn trong việc bố trí các subplot trong một bố cục lưới.\n",
    "\n",
    "Phương thức `plot` của DataFrame vẽ mỗi cột của nó dưới dạng một đường khác nhau trên cùng một subplot, tự động tạo chú giải (xem *Đồ thị DataFrame đơn giản*):"
   ]
  },
  {
   "cell_type": "code",
   "execution_count": null,
   "id": "693824b5",
   "metadata": {},
   "outputs": [],
   "source": [
    "df = pd.DataFrame(np.random.standard_normal((10, 4)).cumsum(0),\n",
    "                  columns=[\"A\", \"B\", \"C\", \"D\"],\n",
    "                  index=np.arange(0, 100, 10))\n",
    "plt.style.use('grayscale') # Sử dụng style grayscale như trong sách\n",
    "df.plot()\n",
    "plt.show()"
   ]
  },
  {
   "cell_type": "markdown",
   "id": "1750dd89",
   "metadata": {},
   "source": [
    "**Lưu ý**\n",
    "\n",
    "Ở đây tôi đã sử dụng `plt.style.use('grayscale')` để chuyển sang một lược đồ màu phù hợp hơn cho việc xuất bản đen trắng, vì một số độc giả sẽ không thể xem được các đồ thị đầy đủ màu sắc.\n",
    "\n",
    "Thuộc tính `plot` chứa một \"họ\" các phương thức cho các loại đồ thị khác nhau. Ví dụ, `df.plot()` tương đương với `df.plot.line()`. Chúng ta sẽ khám phá một số phương thức này tiếp theo.\n",
    "\n",
    "**Lưu ý**\n",
    "\n",
    "Các đối số từ khóa bổ sung cho `plot` được truyền qua hàm vẽ đồ thị matplotlib tương ứng, vì vậy bạn có thể tùy chỉnh thêm các đồ thị này bằng cách tìm hiểu thêm về API matplotlib.\n",
    "\n",
    "DataFrame có một số tùy chọn cho phép một số linh hoạt về cách xử lý các cột, ví dụ, có vẽ tất cả chúng trên cùng một subplot hay tạo các subplot riêng biệt. Xem *Bảng 9.4* để biết thêm về những điều này.\n",
    "\n",
    "**Bảng 9.4: Các đối số plot cụ thể của DataFrame**\n",
    "\n",
    "| Đối số          | Mô tả                                                                                      |\n",
    "|-------------------|--------------------------------------------------------------------------------------------|\n",
    "| `subplots`        | Vẽ mỗi cột DataFrame trong một subplot riêng biệt                                            |\n",
    "| `layouts`         | Tuple 2 chiều (hàng, cột) cung cấp bố cục của các subplot                                      |\n",
    "| `sharex`          | Nếu `subplots=True`, chia sẻ cùng một trục x, liên kết các vạch chia và giới hạn                   |\n",
    "| `sharey`          | Nếu `subplots=True`, chia sẻ cùng một trục y                                                   |\n",
    "| `legend`          | Thêm chú giải subplot (Mặc định là `True`)                                                      |\n",
    "| `sort_columns`    | Vẽ các cột theo thứ tự bảng chữ cái; theo mặc định sử dụng thứ tự cột hiện có                 |\n",
    "\n",
    "**Lưu ý**\n",
    "\n",
    "Để vẽ đồ thị chuỗi thời gian, xem Chương 11: Chuỗi thời gian."
   ]
  },
  {
   "cell_type": "markdown",
   "id": "e5852b41",
   "metadata": {},
   "source": [
    "### Bar Plots (Đồ thị cột)\n",
    "\n",
    "`plot.bar()` và `plot.barh()` tạo các đồ thị cột dọc và ngang, tương ứng. Trong trường hợp này, chỉ mục Series hoặc DataFrame sẽ được sử dụng làm các vạch chia x (`bar`) hoặc y (`barh`) (xem *Đồ thị cột ngang và dọc*):"
   ]
  },
  {
   "cell_type": "code",
   "execution_count": null,
   "id": "d5798405",
   "metadata": {},
   "outputs": [],
   "source": [
    "fig, axes = plt.subplots(2, 1)\n",
    "data = pd.Series(np.random.uniform(size=16), index=list(\"abcdefghijklmnop\")) # Sửa lỗi typo 'p' cuối\n",
    "data.plot.bar(ax=axes[0], color=\"black\", alpha=0.7)\n",
    "data.plot.barh(ax=axes[1], color=\"black\", alpha=0.7)\n",
    "plt.tight_layout() # Để các subplot không bị chồng chéo\n",
    "plt.show()"
   ]
  },
  {
   "cell_type": "markdown",
   "id": "88d64083",
   "metadata": {},
   "source": [
    "Với một DataFrame, các đồ thị cột nhóm các giá trị trong mỗi hàng thành các cột, đặt cạnh nhau, cho mỗi giá trị. Xem *Đồ thị cột DataFrame*:"
   ]
  },
  {
   "cell_type": "code",
   "execution_count": null,
   "id": "cc758827",
   "metadata": {},
   "outputs": [],
   "source": [
    "df = pd.DataFrame(np.random.uniform(size=(6, 4)),\n",
    "                  index=[\"one\", \"two\", \"three\", \"four\", \"five\", \"six\"],\n",
    "                  columns=pd.Index([\"A\", \"B\", \"C\", \"D\"], name=\"Genus\"))\n",
    "df.plot.bar()\n",
    "plt.show()"
   ]
  },
  {
   "cell_type": "markdown",
   "id": "58994ac2",
   "metadata": {},
   "source": [
    "Lưu ý rằng tên “Genus” trên các cột của DataFrame được sử dụng để đặt tiêu đề cho chú giải.\n",
    "\n",
    "Chúng ta tạo các đồ thị cột xếp chồng từ một DataFrame bằng cách truyền `stacked=True`, dẫn đến giá trị trong mỗi hàng được xếp chồng lên nhau theo chiều ngang (xem *Đồ thị cột xếp chồng DataFrame*):"
   ]
  },
  {
   "cell_type": "code",
   "execution_count": null,
   "id": "fd03dca4",
   "metadata": {},
   "outputs": [],
   "source": [
    "df = pd.DataFrame(np.random.uniform(size=(6, 4)), # Tạo lại df vì cell trước có thể chạy độc lập\n",
    "                  index=[\"one\", \"two\", \"three\", \"four\", \"five\", \"six\"],\n",
    "                  columns=pd.Index([\"A\", \"B\", \"C\", \"D\"], name=\"Genus\"))\n",
    "df.plot.barh(stacked=True, alpha=0.5)\n",
    "plt.show()"
   ]
  },
  {
   "cell_type": "markdown",
   "id": "a1a2a3d9",
   "metadata": {},
   "source": [
    "**Lưu ý**\n",
    "\n",
    "Một công thức hữu ích cho các đồ thị cột là trực quan hóa tần suất giá trị của một Series bằng cách sử dụng `value_counts`: `s.value_counts().plot.bar()`.\n",
    "\n",
    "Hãy xem một ví dụ về tập dữ liệu tiền boa nhà hàng. Giả sử chúng ta muốn tạo một đồ thị cột xếp chồng hiển thị tỷ lệ phần trăm các điểm dữ liệu cho mỗi quy mô bữa tiệc cho mỗi ngày. Tôi tải dữ liệu bằng `read_csv` và tạo một bảng chéo theo ngày và quy mô bữa tiệc. Hàm `pandas.crosstab` là một cách thuận tiện để tính toán một bảng tần suất đơn giản từ hai cột DataFrame:"
   ]
  },
  {
   "cell_type": "code",
   "execution_count": null,
   "id": "19630933",
   "metadata": {},
   "outputs": [],
   "source": [
    "# Create tips.csv file for the example\n",
    "tips_csv_content = \"total_bill,tip,smoker,day,time,size\\n16.99,1.01,No,Sun,Dinner,2\\n10.34,1.66,No,Sun,Dinner,3\\n21.01,3.5,No,Sun,Dinner,3\\n23.68,3.31,No,Sun,Dinner,2\\n24.59,3.61,No,Sun,Dinner,4\\n25.29,4.71,No,Sun,Dinner,4\\n8.77,2.0,No,Sun,Dinner,2\\n26.88,3.12,No,Sun,Dinner,4\\n15.04,1.96,No,Sun,Dinner,2\\n14.78,3.22,No,Sun,Dinner,2\\n10.27,1.73,No,Sun,Dinner,2\\n35.26,5.0,No,Sun,Dinner,4\\n15.42,1.58,No,Sun,Dinner,2\\n18.43,3.0,No,Sun,Dinner,4\\n14.83,3.02,No,Sun,Dinner,2\\n21.58,3.92,No,Sun,Dinner,2\\n10.33,1.67,No,Sun,Dinner,3\\n16.29,3.71,No,Sun,Dinner,3\\n16.97,3.5,No,Sun,Dinner,3\\n20.65,3.35,No,Sat,Dinner,3\\n17.92,4.08,No,Sat,Dinner,2\\n20.29,2.75,No,Sat,Dinner,2\\n15.77,2.23,No,Sat,Dinner,2\\n39.42,7.58,No,Sat,Dinner,4\\n19.82,3.18,No,Sat,Dinner,2\\n17.81,2.34,No,Sat,Dinner,4\\n13.37,2.0,No,Sat,Dinner,2\\n12.69,2.0,No,Sat,Dinner,2\\n21.7,4.3,No,Sat,Dinner,4\\n19.65,3.0,No,Sat,Dinner,2\\n9.55,1.45,No,Sat,Dinner,2\\n18.35,2.5,No,Sat,Dinner,4\\n15.06,3.0,No,Sat,Dinner,2\\n20.69,2.45,No,Sat,Dinner,4\\n17.78,3.27,No,Sat,Dinner,2\\n24.06,2.94,No,Sat,Dinner,3\\n16.31,2.0,No,Sat,Dinner,3\\n16.93,3.07,No,Sat,Dinner,3\\n18.69,2.31,No,Sat,Dinner,3\\n31.27,5.0,No,Sat,Dinner,3\\n16.04,2.24,No,Sat,Dinner,3\\n17.46,2.54,No,Sat,Dinner,2\\n13.94,3.06,No,Sat,Dinner,2\\n9.68,1.32,No,Sat,Dinner,2\\n30.4,5.6,No,Sat,Dinner,4\\n18.29,3.0,No,Sat,Dinner,2\\n22.23,5.0,No,Sat,Dinner,2\\n32.4,6.0,No,Sat,Dinner,4\\n28.55,2.05,No,Sat,Dinner,3\\n18.04,3.0,No,Sat,Dinner,2\\n12.54,2.5,No,Sat,Dinner,2\\n10.29,2.6,No,Sat,Dinner,2\\n34.83,5.17,No,Sat,Dinner,4\\n11.59,1.5,No,Sat,Dinner,2\\n7.74,1.44,No,Sat,Dinner,2\\n30.07,4.3,No,Sat,Dinner,3\\n12.02,1.97,No,Sat,Dinner,2\\n20.0,2.08,No,Sat,Dinner,2\\n17.07,3.0,No,Sat,Dinner,3\\n10.51,1.25,No,Sat,Dinner,2\\n17.51,3.0,Yes,Sun,Dinner,2\\n24.55,2.0,No,Sun,Dinner,4\\n19.77,2.0,No,Sun,Dinner,4\\n29.85,5.14,No,Sun,Dinner,5\\n48.17,5.0,No,Sun,Dinner,6\\n25.0,3.75,No,Sun,Dinner,4\\n13.81,2.0,No,Sun,Dinner,2\\n11.02,1.98,No,Sun,Dinner,2\\n18.29,3.76,Yes,Sat,Dinner,4\\n16.47,2.0,No,Sat,Dinner,2\\n26.59,3.41,No,Sat,Dinner,3\\n38.73,3.0,Yes,Sat,Dinner,4\\n24.27,2.03,No,Sat,Dinner,2\\n12.76,2.23,No,Sat,Dinner,2\\n30.06,2.0,No,Sat,Dinner,3\\n25.89,5.16,No,Sat,Dinner,4\\n48.33,9.0,No,Sat,Dinner,4\\n13.03,2.0,No,Sat,Dinner,2\\n18.29,3.0,No,Sat,Dinner,2\\n22.12,2.88,Yes,Sat,Dinner,2\\n24.01,2.0,Yes,Sat,Dinner,4\\n15.69,1.5,No,Sat,Dinner,2\\n11.61,3.39,No,Sat,Dinner,2\\n10.77,1.47,No,Sat,Dinner,2\\n15.53,3.0,Yes,Sat,Dinner,2\\n10.07,1.83,No,Sat,Dinner,1\\n12.6,1.0,No,Sat,Dinner,2\\n32.83,1.17,Yes,Sat,Dinner,2\\n35.83,4.67,No,Sat,Dinner,3\\n29.03,5.92,No,Sat,Dinner,3\\n27.18,2.0,Yes,Sat,Dinner,2\\n22.67,2.0,Yes,Sat,Dinner,2\\n17.82,1.75,No,Sat,Dinner,2\\n18.78,3.0,No,Thur,Dinner,2\\n14.26,2.5,No,Thur,Lunch,2\\n15.95,2.0,No,Thur,Lunch,2\\n12.48,2.52,No,Thur,Lunch,2\\n29.8,4.2,No,Thur,Lunch,6\\n8.51,1.25,No,Thur,Lunch,2\\n10.33,2.0,No,Thur,Lunch,2\\n14.15,2.0,No,Thur,Lunch,2\\n16.27,2.5,No,Thur,Lunch,2\\n10.09,2.0,No,Thur,Lunch,2\\n20.45,3.0,No,Thur,Lunch,4\\n13.28,2.72,No,Thur,Lunch,2\\n22.76,3.0,No,Thur,Lunch,2\\n17.29,2.71,No,Thur,Lunch,3\\n13.0,2.0,No,Thur,Lunch,2\\n13.51,2.0,No,Thur,Lunch,2\\n18.71,4.0,No,Thur,Lunch,3\\n12.74,2.01,No,Thur,Lunch,2\\n13.0,2.0,No,Thur,Lunch,2\\n16.4,2.5,No,Thur,Lunch,2\\n20.53,4.0,No,Thur,Lunch,4\\n16.47,3.23,No,Thur,Lunch,3\\n26.34,3.0,No,Thur,Lunch,4\\n23.33,5.65,No,Thur,Lunch,2\\n11.02,1.5,No,Thur,Lunch,2\\n14.48,2.0,Yes,Thur,Lunch,2\\n9.78,1.73,No,Thur,Lunch,2\\n7.51,2.0,No,Thur,Lunch,2\\n10.65,1.5,No,Thur,Lunch,2\\n12.43,1.8,No,Thur,Lunch,2\\n24.08,2.92,No,Thur,Lunch,4\\n11.69,2.31,No,Thur,Lunch,2\\n13.42,1.58,No,Thur,Lunch,2\\n14.26,2.74,No,Thur,Lunch,2\\n15.79,3.21,No,Thur,Lunch,2\\n8.58,1.92,Yes,Thur,Lunch,1\\n13.42,3.08,No,Thur,Lunch,2\\n16.21,2.0,No,Thur,Lunch,2\\n13.94,2.56,No,Thur,Lunch,2\\n9.68,1.32,No,Thur,Lunch,2\\n10.58,1.42,No,Thur,Lunch,2\\n10.63,2.0,Yes,Sat,Dinner,2\\n50.81,10.0,Yes,Sat,Dinner,3\\n15.81,3.16,Yes,Sat,Dinner,2\\n7.25,1.0,No,Sat,Dinner,1\\n12.6,1.5,No,Sat,Dinner,2\\n11.35,2.5,No,Sat,Dinner,2\\n15.38,3.0,Yes,Sat,Dinner,2\\n44.3,2.5,Yes,Sat,Dinner,3\\n22.42,3.48,Yes,Sat,Dinner,2\\n20.92,4.08,No,Sat,Dinner,2\\n15.77,2.23,No,Sat,Dinner,2\\n10.27,2.0,No,Sat,Dinner,2\\n12.03,1.5,No,Sat,Dinner,2\\n21.01,3.0,Yes,Sat,Dinner,2\\n12.46,1.5,No,Sat,Dinner,2\\n34.3,3.5,No,Sat,Dinner,3\\n22.82,2.18,No,Sat,Dinner,3\\n28.97,3.0,Yes,Fri,Dinner,2\\n22.49,3.5,No,Fri,Dinner,2\\n5.75,1.0,Yes,Fri,Dinner,2\\n16.32,4.3,No,Fri,Dinner,2\\n22.75,3.25,No,Fri,Dinner,2\\n40.17,4.73,Yes,Fri,Dinner,4\\n27.28,4.0,Yes,Fri,Dinner,2\\n12.03,2.97,No,Fri,Dinner,2\\n21.01,3.0,Yes,Fri,Dinner,2\\n12.43,1.8,No,Fri,Dinner,2\\n11.35,2.5,No,Fri,Dinner,2\\n13.27,2.5,No,Fri,Dinner,2\\n12.16,2.2,Yes,Fri,Lunch,2\\n28.17,6.5,No,Sat,Dinner,3\\n12.9,1.1,No,Sat,Dinner,2\\n7.25,5.15,Yes,Sun,Dinner,2\\n31.85,3.18,No,Sun,Dinner,2\\n16.82,4.0,No,Sun,Dinner,3\\n32.9,3.11,Yes,Sun,Dinner,2\\n17.89,2.0,Yes,Sun,Dinner,2\\n14.48,2.0,No,Sun,Dinner,2\\n9.6,4.0,No,Sun,Dinner,2\\n34.63,3.55,No,Sun,Dinner,2\\n34.65,3.68,No,Sun,Dinner,4\\n23.33,2.67,No,Sun,Dinner,2\\n25.28,5.0,No,Sun,Dinner,2\\n10.51,1.25,No,Sun,Dinner,2\\n14.07,2.5,No,Sun,Dinner,2\\n13.13,2.0,No,Sun,Dinner,2\\n17.26,2.74,No,Sun,Dinner,3\\n25.56,4.34,No,Sun,Dinner,4\\n19.49,3.51,No,Sun,Dinner,2\\n38.01,3.0,Yes,Sun,Dinner,4\\n23.95,2.55,No,Sun,Dinner,2\\n25.71,4.0,No,Sun,Dinner,3\\n17.31,3.5,No,Sun,Dinner,3\\n29.93,5.07,No,Sun,Dinner,4\\n10.65,2.0,No,Sun,Dinner,2\\n20.9,3.5,No,Sun,Dinner,3\\n30.46,2.0,No,Sun,Dinner,5\\n18.15,3.5,No,Sun,Dinner,3\\n23.1,4.0,No,Sun,Dinner,3\\n15.69,3.0,No,Sun,Dinner,3\\n19.81,4.19,No,Thur,Lunch,2\\n28.44,2.56,Yes,Thur,Lunch,2\\n15.48,2.02,Yes,Thur,Lunch,2\\n16.58,4.0,Yes,Thur,Lunch,2\\n7.56,1.44,No,Thur,Lunch,2\\n10.34,2.0,Yes,Thur,Lunch,2\\n43.11,5.0,Yes,Thur,Lunch,4\\n19.0,3.0,Yes,Thur,Lunch,2\\n13.0,2.0,Yes,Thur,Lunch,2\\n14.52,2.0,No,Thur,Lunch,2\\n11.38,2.0,No,Thur,Lunch,2\\n22.82,2.18,No,Thur,Lunch,3\\n19.08,1.5,No,Thur,Lunch,2\\n20.27,2.83,No,Thur,Lunch,2\\n11.17,1.5,No,Thur,Lunch,2\\n12.26,2.0,No,Thur,Lunch,2\\n18.26,3.25,No,Thur,Lunch,2\\n8.52,1.48,No,Thur,Lunch,2\\n24.01,2.0,No,Thur,Lunch,4\\n15.43,2.0,No,Thur,Lunch,2\\n14.73,2.2,No,Thur,Lunch,2\\n10.51,1.49,No,Thur,Lunch,2\\n12.02,2.0,No,Thur,Lunch,2\\n17.07,2.0,No,Thur,Lunch,2\\n16.43,2.3,No,Thur,Lunch,2\\n20.23,2.01,No,Thur,Lunch,2\\n11.25,2.0,No,Thur,Lunch,2\\n21.16,3.0,No,Thur,Lunch,2\\n13.16,2.0,No,Thur,Lunch,2\\n27.05,5.0,No,Thur,Lunch,6\\n16.45,2.47,No,Thur,Lunch,2\\n20.59,3.41,No,Thur,Lunch,4\\n16.66,3.4,No,Thur,Lunch,2\\n12.86,2.12,No,Thur,Lunch,2\\n17.47,3.5,No,Thur,Lunch,2\\n30.08,4.0,No,Thur,Lunch,3\\n8.35,1.5,No,Fri,Lunch,2\\n18.64,1.36,No,Fri,Lunch,3\\n11.87,1.63,No,Fri,Lunch,2\\n9.78,2.23,No,Fri,Lunch,2\\n12.13,1.87,No,Fri,Lunch,2\\n10.09,2.41,No,Fri,Lunch,2\\n13.42,1.58,Yes,Fri,Lunch,2\\n16.27,2.5,Yes,Fri,Lunch,2\\n27.2,4.0,No,Thur,Lunch,5\\n12.76,2.23,No,Thur,Lunch,2\\n10.07,1.83,No,Thur,Lunch,1\\n3.07,1.0,Yes,Sat,Dinner,1\\n20.29,3.21,Yes,Sat,Dinner,2\\n13.81,2.0,Yes,Sat,Dinner,2\\n11.24,1.76,No,Sat,Dinner,2\\n45.35,3.5,No,Sun,Dinner,3\\n23.17,6.5,No,Sun,Dinner,4\\n31.71,4.5,No,Sun,Dinner,4\\n28.15,3.0,No,Sun,Dinner,5\\n11.59,2.41,No,Sun,Dinner,2\\n7.25,1.0,No,Sun,Dinner,1\\n38.07,4.0,No,Sun,Dinner,3\\n26.41,1.5,No,Sat,Dinner,2\\n20.76,2.24,No,Sun,Dinner,2\\n31.21,4.0,No,Sun,Dinner,3\\n16.31,2.0,No,Sun,Dinner,2\\n22.12,3.13,No,Sun,Dinner,2\\n24.06,3.19,No,Sun,Dinner,3\\n48.27,6.73,No,Sat,Dinner,4\\n25.0,3.0,No,Sat,Dinner,3\\n13.39,2.61,No,Sat,Dinner,2\\n16.49,2.0,No,Sat,Dinner,2\\n21.5,3.5,No,Sun,Dinner,2\\n12.66,2.5,No,Sun,Dinner,2\\n16.0,3.0,No,Sun,Dinner,2\\n29.8,4.29,No,Sun,Dinner,2\\n9.94,1.56,No,Sun,Dinner,2\\n19.44,3.0,Yes,Thur,Lunch,2\\n32.68,5.0,Yes,Thur,Lunch,2\\n15.98,2.03,No,Thur,Lunch,2\\n34.81,5.2,No,Thur,Lunch,4\\n13.03,2.0,No,Thur,Lunch,2\\n18.28,4.0,No,Thur,Lunch,2\\n24.71,5.85,No,Thur,Lunch,2\\n21.16,3.09,No,Thur,Lunch,2\\n28.97,3.0,Yes,Fri,Dinner,2\\n17.29,3.21,No,Thur,Lunch,2\\n19.49,3.01,No,Thur,Lunch,2\\n14.16,2.0,No,Thur,Lunch,2\\n18.05,2.0,No,Thur,Lunch,3\\n20.08,3.15,No,Thur,Lunch,3\\n11.45,2.55,No,Thur,Lunch,2\\n29.03,5.92,No,Sat,Dinner,3\\n27.18,2.0,No,Sat,Dinner,2\\n22.67,2.0,Yes,Sat,Dinner,2\\n17.82,1.75,No,Sat,Dinner,2\\n18.78,3.0,No,Thur,Dinner,2\\n\"\n",
    "with open(\"tips.csv\", \"w\") as f:\n",
    "    f.write(tips_csv_content)\n",
    "\n",
    "tips = pd.read_csv(\"tips.csv\")\n",
    "party_counts = pd.crosstab(tips[\"day\"], tips[\"size\"])\n",
    "party_counts = party_counts.reindex(index=[\"Thur\", \"Fri\", \"Sat\", \"Sun\"])\n",
    "party_counts"
   ]
  },
  {
   "cell_type": "markdown",
   "id": "4b093cca",
   "metadata": {},
   "source": [
    "Vì có không nhiều bữa tiệc một và sáu người, tôi loại bỏ chúng ở đây:"
   ]
  },
  {
   "cell_type": "code",
   "execution_count": null,
   "id": "284d360e",
   "metadata": {},
   "outputs": [],
   "source": [
    "# Tiếp tục từ cell trước\n",
    "party_counts = party_counts.loc[:, 2:5]\n",
    "party_counts"
   ]
  },
  {
   "cell_type": "markdown",
   "id": "554bfe97",
   "metadata": {},
   "source": [
    "Sau đó, chuẩn hóa để mỗi hàng có tổng bằng 1 và tạo đồ thị (xem *Phần trăm các bữa tiệc theo quy mô trong mỗi ngày*):"
   ]
  },
  {
   "cell_type": "code",
   "execution_count": null,
   "id": "99384aa6",
   "metadata": {},
   "outputs": [],
   "source": [
    "# Tiếp tục từ cell trước\n",
    "party_pcts = party_counts.div(party_counts.sum(axis=\"columns\"), axis=\"index\")\n",
    "party_pcts.plot.bar(stacked=True)\n",
    "plt.show()"
   ]
  },
  {
   "cell_type": "markdown",
   "id": "038f5a29",
   "metadata": {},
   "source": [
    "Vì vậy, bạn có thể thấy rằng quy mô bữa tiệc dường như tăng vào cuối tuần trong tập dữ liệu này.\n",
    "\n",
    "Với dữ liệu yêu cầu tổng hợp hoặc tóm tắt trước khi tạo đồ thị, việc sử dụng gói seaborn có thể làm cho mọi thứ đơn giản hơn nhiều (cài đặt nó bằng `conda install seaborn`). Hãy xem xét tỷ lệ phần trăm tiền boa theo ngày với seaborn (xem *Tỷ lệ phần trăm tiền boa theo ngày với các thanh lỗi* cho đồ thị kết quả):"
   ]
  },
  {
   "cell_type": "code",
   "execution_count": null,
   "id": "dc1b9637",
   "metadata": {},
   "outputs": [],
   "source": [
    "import seaborn as sns\n",
    "\n",
    "tips = pd.read_csv(\"tips.csv\") # Tải lại dữ liệu gốc tips\n",
    "tips[\"tip_pct\"] = tips[\"tip\"] / (tips[\"total_bill\"] - tips[\"tip\"])\n",
    "sns.barplot(x=\"tip_pct\", y=\"day\", data=tips, orient=\"h\")\n",
    "plt.show()"
   ]
  },
  {
   "cell_type": "markdown",
   "id": "2f62308f",
   "metadata": {},
   "source": [
    "Các hàm vẽ đồ thị trong seaborn nhận một đối số `data`, có thể là một DataFrame pandas. Các đối số khác tham chiếu đến tên cột. Bởi vì có nhiều quan sát cho mỗi giá trị trong `day`, các thanh là giá trị trung bình của `tip_pct`. Các đường màu đen được vẽ trên các thanh biểu thị khoảng tin cậy 95% (điều này có thể được cấu hình thông qua các đối số tùy chọn).\n",
    "\n",
    "`seaborn.barplot` có một tùy chọn `hue` cho phép chúng ta chia nhỏ theo một giá trị phân loại bổ sung (xem *Tỷ lệ phần trăm tiền boa theo ngày và thời gian*):"
   ]
  },
  {
   "cell_type": "code",
   "execution_count": null,
   "id": "222b9bf7",
   "metadata": {},
   "outputs": [],
   "source": [
    "tips = pd.read_csv(\"tips.csv\") # Tải lại dữ liệu gốc tips\n",
    "tips[\"tip_pct\"] = tips[\"tip\"] / (tips[\"total_bill\"] - tips[\"tip\"])\n",
    "sns.barplot(x=\"tip_pct\", y=\"day\", hue=\"time\", data=tips, orient=\"h\")\n",
    "plt.show()"
   ]
  },
  {
   "cell_type": "markdown",
   "id": "e18f678d",
   "metadata": {},
   "source": [
    "Lưu ý rằng seaborn đã tự động thay đổi tính thẩm mỹ của đồ thị: bảng màu mặc định, nền đồ thị và màu đường lưới. Bạn có thể chuyển đổi giữa các giao diện đồ thị khác nhau bằng cách sử dụng `seaborn.set_style`:"
   ]
  },
  {
   "cell_type": "code",
   "execution_count": null,
   "id": "8f98400e",
   "metadata": {},
   "outputs": [],
   "source": [
    "sns.set_style(\"whitegrid\")\n",
    "# sns.set_palette(\"Greys_r\") # Dòng này được đề cập trong text nhưng không có hình minh họa cụ thể sau khi chạy\n",
    "# Để thấy hiệu ứng, bạn có thể chạy lại một trong các đồ thị seaborn ở trên sau khi chạy dòng này."
   ]
  },
  {
   "cell_type": "markdown",
   "id": "205ed51f",
   "metadata": {},
   "source": [
    "Khi tạo đồ thị cho phương tiện in đen trắng, bạn có thể thấy hữu ích khi đặt bảng màu thang độ xám, như sau:\n",
    "\n",
    "`sns.set_palette(\"Greys_r\")`"
   ]
  },
  {
   "cell_type": "markdown",
   "id": "fcddb575",
   "metadata": {},
   "source": [
    "### Histograms (Biểu đồ tần suất) và Density Plots (Đồ thị mật độ)\n",
    "\n",
    "Biểu đồ tần suất là một loại đồ thị cột hiển thị tần suất giá trị một cách rời rạc. Các điểm dữ liệu được chia thành các thùng rời rạc, cách đều nhau và số lượng điểm dữ liệu trong mỗi thùng được vẽ. Sử dụng dữ liệu tiền boa từ trước, chúng ta có thể tạo biểu đồ tần suất tỷ lệ phần trăm tiền boa của tổng hóa đơn bằng phương thức `plot.hist` trên Series (xem *Biểu đồ tần suất tỷ lệ phần trăm tiền boa*):"
   ]
  },
  {
   "cell_type": "code",
   "execution_count": null,
   "id": "1eaa4711",
   "metadata": {},
   "outputs": [],
   "source": [
    "tips = pd.read_csv(\"tips.csv\") # Tải lại dữ liệu gốc tips\n",
    "tips[\"tip_pct\"] = tips[\"tip\"] / (tips[\"total_bill\"] - tips[\"tip\"])\n",
    "tips[\"tip_pct\"].plot.hist(bins=50)\n",
    "plt.show()"
   ]
  },
  {
   "cell_type": "markdown",
   "id": "ab6c94d9",
   "metadata": {},
   "source": [
    "Một loại đồ thị liên quan là đồ thị mật độ, được hình thành bằng cách tính toán ước tính của một phân phối xác suất liên tục có thể đã tạo ra dữ liệu quan sát được. Quy trình thông thường là xấp xỉ phân phối này dưới dạng hỗn hợp của các \"hạt nhân\"—tức là các phân phối đơn giản hơn như phân phối chuẩn. Do đó, các đồ thị mật độ còn được gọi là đồ thị ước tính mật độ hạt nhân (KDE). Sử dụng `plot.density` tạo một đồ thị mật độ bằng cách sử dụng ước tính hỗn hợp các phân phối chuẩn thông thường (xem *Đồ thị mật độ tỷ lệ phần trăm tiền boa*):"
   ]
  },
  {
   "cell_type": "code",
   "execution_count": null,
   "id": "917f2cb7",
   "metadata": {},
   "outputs": [],
   "source": [
    "tips = pd.read_csv(\"tips.csv\") # Tải lại dữ liệu gốc tips\n",
    "tips[\"tip_pct\"] = tips[\"tip\"] / (tips[\"total_bill\"] - tips[\"tip\"])\n",
    "tips[\"tip_pct\"].plot.density()\n",
    "plt.show()\n",
    "# Lưu ý: Sách đề cập `conda install scipy` nếu chưa có, nhưng code này không trực tiếp dùng SciPy (pandas dùng nó ngầm)"
   ]
  },
  {
   "cell_type": "markdown",
   "id": "c14b2442",
   "metadata": {},
   "source": [
    "seaborn giúp việc tạo biểu đồ tần suất và đồ thị mật độ trở nên dễ dàng hơn thông qua phương thức `histplot` của nó, có thể vẽ cả biểu đồ tần suất và ước tính mật độ liên tục đồng thời. Ví dụ, hãy xem xét một phân phối hai mode bao gồm các lần rút từ hai phân phối chuẩn tiêu chuẩn khác nhau (xem *Biểu đồ tần suất chuẩn hóa của hỗn hợp chuẩn*):"
   ]
  },
  {
   "cell_type": "code",
   "execution_count": null,
   "id": "7e60a3a3",
   "metadata": {},
   "outputs": [],
   "source": [
    "comp1 = np.random.standard_normal(200)\n",
    "comp2 = 10 + 2 * np.random.standard_normal(200)\n",
    "values = pd.Series(np.concatenate([comp1, comp2]))\n",
    "sns.histplot(values, bins=100, color=\"black\")\n",
    "plt.show()"
   ]
  },
  {
   "cell_type": "markdown",
   "id": "f9eba0b9",
   "metadata": {},
   "source": [
    "### Scatter or Point Plots (Đồ thị điểm hoặc phân tán)\n",
    "\n",
    "Đồ thị điểm hoặc đồ thị phân tán có thể là một cách hữu ích để kiểm tra mối quan hệ giữa hai chuỗi dữ liệu một chiều. Ví dụ, ở đây chúng ta tải tập dữ liệu `macrodata` từ dự án `statsmodels`, chọn một vài biến, sau đó tính toán chênh lệch logarit:"
   ]
  },
  {
   "cell_type": "code",
   "execution_count": null,
   "id": "9e404262",
   "metadata": {},
   "outputs": [],
   "source": [
    "# Create macrodata.csv for the example\n",
    "macro_csv_content = \"year,quarter,realgdp,realcons,realinv,realgovt,realdpi,cpi,m1,tbilrate,unemp,pop,infl,realint\\n1959,1,2710.349,1707.4,286.898,470.045,1886.9,28.98,139.7,2.82,5.8,177.146,0.00,0.00\\n1959,2,2778.801,1733.7,310.859,481.301,1919.7,29.15,141.7,3.08,5.1,177.830,2.34,0.74\\n1959,3,2775.488,1751.8,289.226,491.260,1916.4,29.35,140.5,3.82,5.3,178.657,2.74,1.09\\n1959,4,2785.204,1753.7,299.356,484.052,1931.3,29.37,140.0,4.33,5.6,179.386,0.27,4.06\\n1960,1,2847.699,1770.5,311.046,462.199,1955.5,29.54,139.6,3.50,5.2,180.007,2.31,1.19\\n2008,3,13324.600,9366.0,1990.693,991.551,9838.3,216.889,1474.7,1.17,6.0,305.270,7.71,-6.54\\n2008,4,13141.920,9256.0,1882.668,1007.223,9920.4,212.174,1576.5,0.12,6.9,305.952,-8.79,8.91\\n2009,1,12925.410,9209.2,1558.494,996.287,9926.4,212.671,1592.8,0.22,8.1,306.547,0.94,-0.71\\n2009,2,12901.504,9189.0,1456.678,1023.528,10077.5,214.469,1653.6,0.18,9.2,307.241,3.37,-3.19\\n2009,3,12990.341,9256.1,1486.398,1044.088,10040.6,216.385,1673.9,0.12,9.6,308.013,3.56,-3.44\"\n",
    "with open(\"macrodata.csv\", \"w\") as f:\n",
    "    f.write(macro_csv_content)\n",
    "\n",
    "macro = pd.read_csv(\"macrodata.csv\")\n",
    "data = macro[[\"cpi\", \"m1\", \"tbilrate\", \"unemp\"]]\n",
    "trans_data = np.log(data).diff().dropna()\n",
    "trans_data.tail()"
   ]
  },
  {
   "cell_type": "markdown",
   "id": "7ad4a407",
   "metadata": {},
   "source": [
    "Sau đó, chúng ta có thể sử dụng phương thức `regplot` của seaborn, tạo một đồ thị phân tán và khớp một đường hồi quy tuyến tính (xem *Đồ thị hồi quy/phân tán seaborn*):"
   ]
  },
  {
   "cell_type": "code",
   "execution_count": null,
   "id": "5f10f684",
   "metadata": {},
   "outputs": [],
   "source": [
    "# Tiếp tục từ cell trước\n",
    "ax = sns.regplot(x=\"m1\", y=\"unemp\", data=trans_data)\n",
    "ax.set_title(\"Changes in log(m1) versus log(unemp)\")\n",
    "plt.show()"
   ]
  },
  {
   "cell_type": "markdown",
   "id": "97e6fa4c",
   "metadata": {},
   "source": [
    "Trong phân tích dữ liệu khám phá, việc có thể xem tất cả các đồ thị phân tán giữa một nhóm các biến là hữu ích; điều này được gọi là đồ thị cặp hoặc ma trận đồ thị phân tán. Việc tạo một đồ thị như vậy từ đầu là một chút công việc, vì vậy seaborn có một hàm `pairplot` tiện lợi hỗ trợ đặt biểu đồ tần suất hoặc ước tính mật độ của mỗi biến dọc theo đường chéo (xem *Ma trận đồ thị cặp của dữ liệu vĩ mô statsmodels* cho đồ thị kết quả):"
   ]
  },
  {
   "cell_type": "code",
   "execution_count": null,
   "id": "690c4c1c",
   "metadata": {},
   "outputs": [],
   "source": [
    "# Tiếp tục từ cell trước (trans_data đã được định nghĩa)\n",
    "sns.pairplot(trans_data, diag_kind=\"kde\", plot_kws={\"alpha\": 0.2})\n",
    "plt.show()"
   ]
  },
  {
   "cell_type": "markdown",
   "id": "dfa08e4c",
   "metadata": {},
   "source": [
    "Bạn có thể nhận thấy đối số `plot_kws`. Điều này cho phép chúng ta truyền các tùy chọn cấu hình xuống các lệnh gọi vẽ đồ thị riêng lẻ trên các phần tử ngoài đường chéo. Hãy xem docstring `seaborn.pairplot` để biết các tùy chọn cấu hình chi tiết hơn."
   ]
  },
  {
   "cell_type": "markdown",
   "id": "cb8193fd",
   "metadata": {},
   "source": [
    "### Facet Grids (Lưới đa diện) và Categorical Data (Dữ liệu phân loại)\n",
    "\n",
    "Còn về các tập dữ liệu mà chúng ta có các chiều nhóm bổ sung thì sao? Một cách để trực quan hóa dữ liệu với nhiều biến phân loại là sử dụng lưới đa diện, là một bố cục hai chiều của các đồ thị trong đó dữ liệu được chia trên các đồ thị trên mỗi trục dựa trên các giá trị riêng biệt của một biến nhất định. seaborn có một hàm tích hợp hữu ích `catplot` giúp đơn giản hóa việc tạo nhiều loại đồ thị đa diện được chia theo các biến phân loại (xem *Tỷ lệ phần trăm tiền boa theo ngày/thời gian/người hút thuốc* cho đồ thị kết quả):"
   ]
  },
  {
   "cell_type": "code",
   "execution_count": null,
   "id": "16436342",
   "metadata": {},
   "outputs": [],
   "source": [
    "tips = pd.read_csv(\"tips.csv\") # Tải lại dữ liệu gốc tips\n",
    "tips[\"tip_pct\"] = tips[\"tip\"] / (tips[\"total_bill\"] - tips[\"tip\"])\n",
    "sns.catplot(x=\"day\", y=\"tip_pct\", hue=\"time\", col=\"smoker\",\n",
    "            kind=\"bar\", data=tips[tips.tip_pct < 1])\n",
    "plt.show()"
   ]
  },
  {
   "cell_type": "markdown",
   "id": "4cb132f1",
   "metadata": {},
   "source": [
    "Thay vì nhóm theo `\"time\"` bằng các màu cột khác nhau trong một facet, chúng ta cũng có thể mở rộng lưới facet bằng cách thêm một hàng cho mỗi giá trị `time` (xem *Tỷ lệ phần trăm tiền boa theo ngày được chia theo thời gian/người hút thuốc*):"
   ]
  },
  {
   "cell_type": "code",
   "execution_count": null,
   "id": "a7de2c68",
   "metadata": {},
   "outputs": [],
   "source": [
    "tips = pd.read_csv(\"tips.csv\") # Tải lại dữ liệu gốc tips\n",
    "tips[\"tip_pct\"] = tips[\"tip\"] / (tips[\"total_bill\"] - tips[\"tip\"])\n",
    "sns.catplot(x=\"day\", y=\"tip_pct\", row=\"time\",\n",
    "            col=\"smoker\",\n",
    "            kind=\"bar\", data=tips[tips.tip_pct < 1])\n",
    "plt.show()"
   ]
  },
  {
   "cell_type": "markdown",
   "id": "b0ef9c30",
   "metadata": {},
   "source": [
    "`catplot` hỗ trợ các loại đồ thị khác có thể hữu ích tùy thuộc vào những gì bạn đang cố gắng hiển thị. Ví dụ, đồ thị hộp (hiển thị trung vị, tứ phân vị và các điểm ngoại lai) có thể là một loại hình trực quan hiệu quả (xem *Đồ thị hộp tỷ lệ phần trăm tiền boa theo ngày*):"
   ]
  },
  {
   "cell_type": "code",
   "execution_count": null,
   "id": "1a4c566e",
   "metadata": {},
   "outputs": [],
   "source": [
    "tips = pd.read_csv(\"tips.csv\") # Tải lại dữ liệu gốc tips\n",
    "tips[\"tip_pct\"] = tips[\"tip\"] / (tips[\"total_bill\"] - tips[\"tip\"])\n",
    "sns.catplot(x=\"tip_pct\", y=\"day\", kind=\"box\",\n",
    "            data=tips[tips.tip_pct < 0.5])\n",
    "plt.show()"
   ]
  },
  {
   "cell_type": "markdown",
   "id": "d64034c0",
   "metadata": {},
   "source": [
    "Bạn có thể tạo các đồ thị lưới facet của riêng mình bằng cách sử dụng lớp `seaborn.FacetGrid` tổng quát hơn. Xem tài liệu seaborn để biết thêm."
   ]
  },
  {
   "cell_type": "markdown",
   "id": "47dd40d3",
   "metadata": {},
   "source": [
    "## 9.3 Các Công cụ Trực quan hóa Python Khác\n",
    "\n",
    "Như thường lệ với mã nguồn mở, có rất nhiều lựa chọn để tạo đồ họa trong Python (quá nhiều để liệt kê). Kể từ năm 2010, nhiều nỗ lực phát triển đã tập trung vào việc tạo đồ họa tương tác để xuất bản trên web. Với các công cụ như Altair, Bokeh và Plotly, giờ đây có thể chỉ định các đồ họa tương tác, động trong Python dành cho việc sử dụng với các trình duyệt web.\n",
    "\n",
    "Để tạo đồ họa tĩnh cho bản in hoặc web, tôi khuyên bạn nên sử dụng matplotlib và các thư viện được xây dựng trên matplotlib, như pandas và seaborn, cho nhu cầu của bạn. Đối với các yêu cầu trực quan hóa dữ liệu khác, có thể hữu ích khi tìm hiểu cách sử dụng một trong các công cụ có sẵn khác. Tôi khuyến khích bạn khám phá hệ sinh thái khi nó tiếp tục phát triển và đổi mới trong tương lai.\n",
    "\n",
    "Một cuốn sách tuyệt vời về trực quan hóa dữ liệu là *Fundamentals of Data Visualization* của Claus O. Wilke (O'Reilly), có sẵn dưới dạng bản in hoặc trên trang web của Claus tại https://clauswilke.com/dataviz."
   ]
  },
  {
   "cell_type": "markdown",
   "id": "4997565f",
   "metadata": {},
   "source": [
    "## 9.4 Kết luận\n",
    "\n",
    "Mục tiêu của chương này là giúp bạn làm quen với một số kiến thức cơ bản về trực quan hóa dữ liệu bằng pandas, matplotlib và seaborn. Nếu việc truyền đạt kết quả phân tích dữ liệu một cách trực quan là quan trọng trong công việc của bạn, tôi khuyến khích bạn tìm kiếm các nguồn tài liệu để tìm hiểu thêm về trực quan hóa dữ liệu hiệu quả. Đây là một lĩnh vực nghiên cứu năng động, và bạn có thể thực hành với nhiều tài nguyên học tập tuyệt vời có sẵn trực tuyến và dưới dạng bản in.\n",
    "\n",
    "Trong chương tiếp theo, chúng ta sẽ chuyển sự chú ý sang tổng hợp dữ liệu và các thao tác nhóm với pandas."
   ]
  }
 ],
 "metadata": {
  "kernelspec": {
   "display_name": "Python 3 (ipykernel)",
   "language": "python",
   "name": "python3"
  },
  "language_info": {
   "codemirror_mode": {
    "name": "ipython",
    "version": 3
   },
   "file_extension": ".py",
   "mimetype": "text/x-python",
   "name": "python",
   "nbconvert_exporter": "python",
   "pygments_lexer": "ipython3",
   "version": "3.13.2"
  }
 },
 "nbformat": 4,
 "nbformat_minor": 5
}