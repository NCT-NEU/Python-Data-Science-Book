{
 "cells": [
  {
   "cell_type": "markdown",
   "id": "3f847e8e-7940-49fe-8118-2284993c6212",
   "metadata": {},
   "source": [
    "# Chương 7: Nhập và lưu trữ dữ liệu\n",
    "<hr>"
   ]
  },
  {
   "cell_type": "markdown",
   "id": "79fbd8d0",
   "metadata": {},
   "source": [
    "Truy cập dữ liệu là bước khởi đầu thiết yếu trong hầu hết các quy trình làm việc của nhà khoa học dữ liệu. Đây là một chủ đề có phạm vi rộng, đủ để phát triển thành một chuyên khảo riêng. Trong khuôn khổ chương này, nội dung sẽ tập trung vào các thao tác đọc và ghi dữ liệu bằng thư viện pandas, mặc dù trong thực tiễn, có nhiều công cụ bổ trợ khác có thể được sử dụng tùy theo ngữ cảnh và yêu cầu cụ thể của bài toán. Để khai thác đầy đủ các tính năng của pandas liên quan đến nhập xuất dữ liệu, người đọc được khuyến khích tham khảo thêm tài liệu chính thức từ dự án pandas.\n",
    "\n",
    "Các hoạt động nhập và xuất dữ liệu thường được phân loại thành một số nhóm chính như sau:\n",
    "\n",
    "    * Đọc dữ liệu từ các tệp văn bản và các định dạng văn bản tối ưu hơn trên đĩa cứng;\n",
    "    * Tải dữ liệu từ các hệ quản trị cơ sở dữ liệu;\n",
    "    * Tương tác với các nguồn dữ liệu qua mạng, chẳng hạn như thông qua các API web.\n",
    "\n",
    "Trong chương này, các nhóm nội dung nêu trên sẽ lần lượt được trình bày. Cuối chương, tài liệu sẽ cung cấp một tổng quan ngắn gọn về định dạng tệp nhị phân HDF5 – một định dạng phổ biến trong lưu trữ dữ liệu khoa học – cũng như cách thức thao tác với các tệp dữ liệu định dạng Microsoft Excel."
   ]
  },
  {
   "cell_type": "markdown",
   "id": "1e6d04b1",
   "metadata": {},
   "source": [
    "## Đọc và lưu dữ liệu ở định dạng văn bản\n",
    "\n",
    "Thư viện pandas cung cấp một số hàm để dễ dàng đọc dữ liệu dạng bảng dưới dạng đối tượng DataFrame. Bảng ... tóm tắt khá đầy đủ, mặc dù một vài trong số đó, như `read_csv` và `read_table` có lẽ là những hàm bạn đọc sẽ sử dụng nhiều nhất."
   ]
  },
  {
   "cell_type": "markdown",
   "id": "41c167ca",
   "metadata": {},
   "source": [
    "Bảng ... các hàm đọc dữ liệu trong pandas\n",
    "\n",
    "| Hàm         | Mô tả                                                                                                |\n",
    "|---------------|------------------------------------------------------------------------------------------------------|\n",
    "| `read_csv`    | Tải dữ liệu được phân tách từ một tệp, URL, hoặc đối tượng tương tự tệp; dấu phân tách mặc định là dấu phẩy             |\n",
    "| `read_table`  | Tải dữ liệu được phân tách từ một tệp, URL, hoặc đối tượng tương tự tệp; dấu phân tách mặc định là ký tự tab ('\\t')     |\n",
    "| `read_fwf`    | Đọc dữ liệu ở định dạng cột có độ rộng cố định (tức là, không có dấu phân tách)                                              |\n",
    "| `read_clipboard` | Phiên bản của `read_csv` đọc dữ liệu từ clipboard; hữu ích để chuyển đổi bảng từ các trang web thành DataFrame |\n",
    "| `read_excel`  | Đọc dữ liệu dạng bảng từ tệp Excel XLS hoặc XLSX                                                              |\n",
    "| `read_hdf`    | Đọc các tệp HDF5 được viết bằng pandas                                                                              |\n",
    "| `read_html`   | Đọc tất cả các bảng tìm thấy trong tài liệu HTML đã cho                                                               |\n",
    "| `read_json`   | Đọc dữ liệu từ một chuỗi biểu diễn JSON (JavaScript Object Notation)                                               |\n",
    "| `read_feather`| Đọc định dạng tệp nhị phân Feather                                                                               |\n",
    "| `read_orc`    | Đọc định dạng tệp nhị phân Apache ORC                                                                                |\n",
    "| `read_parquet`| Đọc định dạng tệp nhị phân Apache Parquet                                                                           |\n",
    "| `read_pickle` | Đọc một đối tượng Python tùy ý được lưu trữ ở định dạng pickle của Python                                                    |\n",
    "| `read_sas`    | Đọc một tập dữ liệu SAS được lưu trữ ở một trong các định dạng tùy chỉnh của hệ thống SAS                                    |\n",
    "| `read_spss`   | Đọc một tệp dữ liệu được tạo bởi SPSS                                                                              |\n",
    "| `read_sql_query`| Đọc kết quả của một truy vấn SQL (sử dụng SQLAlchemy) dưới dạng DataFrame                                         |\n",
    "| `read_sql_table`| Đọc toàn bộ bảng SQL (sử dụng SQLAlchemy) dưới dạng DataFrame                                                      |\n",
    "| `read_stata`  | Đọc một tập dữ liệu từ định dạng tệp Stata                                                                              |\n",
    "| `read_xml`    | Đọc một tập hợp các bảng tìm thấy trong một tệp XML đã cho                                                              |\n",
    "\n",
    "Trong phần này, chúng ta sẽ cung cấp một cái nhìn tổng quan về cơ chế hoạt động của các hàm nhập dữ liệu, đặc biệt là khi làm việc với các tệp văn bản. Việc xử lý dữ liệu từ tệp văn bản thường tiềm ẩn nhiều thách thức do tính không đồng nhất của cấu trúc dữ liệu thực tế. Do đó, các hàm phân tích cú pháp trong pandas (như `read_csv`, `read_table`, v.v.) được thiết kế với nhiều tham số linh hoạt nhằm hỗ trợ người dùng xử lý các tình huống ngoại lệ một cách hiệu quả.\n",
    "\n",
    "Mặc dù nhiều tham số trong số này là tùy chọn và có thể bỏ qua trong các tình huống đơn giản, nhưng để làm chủ công cụ, người học cần hiểu rõ một số tham số quan trọng thường xuyên được sử dụng.\n",
    "\n",
    "Một số hàm như `read_csv` còn hỗ trợ cơ chế suy luận kiểu dữ liệu (type inference). Điều này đặc biệt hữu ích vì định dạng tệp CSV không cung cấp thông tin rõ ràng về kiểu dữ liệu của từng cột. Do đó, `pandas` sẽ cố gắng tự động xác định xem một cột có chứa số thực, số nguyên, giá trị logic (boolean), hay chuỗi ký tự. Tuy nhiên, trong một số trường hợp đặc biệt — như dữ liệu ngày tháng, hoặc các kiểu dữ liệu do người dùng định nghĩa — việc suy luận tự động có thể không chính xác, và người dùng cần chỉ định rõ kiểu mong muốn để đảm bảo quá trình xử lý dữ liệu diễn ra đúng đắn.\n",
    "\n",
    "Để minh họa, chúng ta sẽ bắt đầu với một ví dụ đơn giản: đọc một tệp CSV nhỏ bằng hàm `read_csv`"
   ]
  },
  {
   "cell_type": "code",
   "execution_count": 1,
   "id": "8e720916",
   "metadata": {},
   "outputs": [
    {
     "name": "stdout",
     "output_type": "stream",
     "text": [
      "a,b,c,d,message\n",
      "1,2,3,4,hello\n",
      "5,6,7,8,world\n",
      "9,10,11,12,foo\n"
     ]
    }
   ],
   "source": [
    "# Lệnh này dùng cho môi trường shell (Linux/macOS)\n",
    "# !cat examples/ex1.csv\n",
    "# Trên Windows, bạn có thể dùng:\n",
    "# !type .\\examples\\ex1.csv\n",
    "\n",
    "# Để mô phỏng output:\n",
    "print(\"a,b,c,d,message\\n1,2,3,4,hello\\n5,6,7,8,world\\n9,10,11,12,foo\")"
   ]
  },
  {
   "cell_type": "markdown",
   "id": "3e1ba1fa",
   "metadata": {},
   "source": [
    "Do đây là dữ liệu được phân tách bằng dấu phẩy, chúng ta có thể sử dụng `read_csv` để đọc nó vào một DataFrame:"
   ]
  },
  {
   "cell_type": "code",
   "execution_count": 7,
   "id": "2bda1550",
   "metadata": {},
   "outputs": [
    {
     "data": {
      "text/html": [
       "<div>\n",
       "<style scoped>\n",
       "    .dataframe tbody tr th:only-of-type {\n",
       "        vertical-align: middle;\n",
       "    }\n",
       "\n",
       "    .dataframe tbody tr th {\n",
       "        vertical-align: top;\n",
       "    }\n",
       "\n",
       "    .dataframe thead th {\n",
       "        text-align: right;\n",
       "    }\n",
       "</style>\n",
       "<table border=\"1\" class=\"dataframe\">\n",
       "  <thead>\n",
       "    <tr style=\"text-align: right;\">\n",
       "      <th></th>\n",
       "      <th>a</th>\n",
       "      <th>b</th>\n",
       "      <th>c</th>\n",
       "      <th>d</th>\n",
       "      <th>message</th>\n",
       "    </tr>\n",
       "  </thead>\n",
       "  <tbody>\n",
       "    <tr>\n",
       "      <th>0</th>\n",
       "      <td>1</td>\n",
       "      <td>2</td>\n",
       "      <td>3</td>\n",
       "      <td>4</td>\n",
       "      <td>hello</td>\n",
       "    </tr>\n",
       "    <tr>\n",
       "      <th>1</th>\n",
       "      <td>5</td>\n",
       "      <td>6</td>\n",
       "      <td>7</td>\n",
       "      <td>8</td>\n",
       "      <td>world</td>\n",
       "    </tr>\n",
       "    <tr>\n",
       "      <th>2</th>\n",
       "      <td>9</td>\n",
       "      <td>10</td>\n",
       "      <td>11</td>\n",
       "      <td>12</td>\n",
       "      <td>foo</td>\n",
       "    </tr>\n",
       "  </tbody>\n",
       "</table>\n",
       "</div>"
      ],
      "text/plain": [
       "   a   b   c   d message\n",
       "0  1   2   3   4   hello\n",
       "1  5   6   7   8   world\n",
       "2  9  10  11  12     foo"
      ]
     },
     "execution_count": 7,
     "metadata": {},
     "output_type": "execute_result"
    }
   ],
   "source": [
    "import pandas as pd\n",
    "import numpy as np\n",
    "\n",
    "df = pd.read_csv(\"data/ex1.csv\")\n",
    "df"
   ]
  },
  {
   "cell_type": "markdown",
   "id": "1e27c281",
   "metadata": {},
   "source": [
    "Hàm đọc dữ liệu của `pandas` luôn mặc định hiểu dòng đầu tiên trong file là tên các cột. Trong trường hợp dòng đầu tiên là dữ liệu chứ không phải tên cột, chúng ta sử dụng tham số `header=None`. Ví dụ chúng ta có dữ liệu như sau"
   ]
  },
  {
   "cell_type": "code",
   "execution_count": 10,
   "id": "df127228-9a0d-43da-8c87-9eafe81a76ea",
   "metadata": {},
   "outputs": [
    {
     "name": "stdout",
     "output_type": "stream",
     "text": [
      "1,2,3,4,hello\n",
      "5,6,7,8,world\n",
      "9,10,11,12,foo\n"
     ]
    }
   ],
   "source": [
    "# Để mô phỏng output:\n",
    "print(\"1,2,3,4,hello\\n5,6,7,8,world\\n9,10,11,12,foo\")"
   ]
  },
  {
   "cell_type": "markdown",
   "id": "25ff3235",
   "metadata": {},
   "source": [
    "Giả sử dữ liệu được lưu trong một file .csv là \"ex2.csv\". Câu lệnh để đọc dữ liệu như sau:"
   ]
  },
  {
   "cell_type": "code",
   "execution_count": 14,
   "id": "4015f647",
   "metadata": {},
   "outputs": [
    {
     "data": {
      "text/html": [
       "<div>\n",
       "<style scoped>\n",
       "    .dataframe tbody tr th:only-of-type {\n",
       "        vertical-align: middle;\n",
       "    }\n",
       "\n",
       "    .dataframe tbody tr th {\n",
       "        vertical-align: top;\n",
       "    }\n",
       "\n",
       "    .dataframe thead th {\n",
       "        text-align: right;\n",
       "    }\n",
       "</style>\n",
       "<table border=\"1\" class=\"dataframe\">\n",
       "  <thead>\n",
       "    <tr style=\"text-align: right;\">\n",
       "      <th></th>\n",
       "      <th>0</th>\n",
       "      <th>1</th>\n",
       "      <th>2</th>\n",
       "      <th>3</th>\n",
       "      <th>4</th>\n",
       "    </tr>\n",
       "  </thead>\n",
       "  <tbody>\n",
       "    <tr>\n",
       "      <th>0</th>\n",
       "      <td>1</td>\n",
       "      <td>2</td>\n",
       "      <td>3</td>\n",
       "      <td>4</td>\n",
       "      <td>hello</td>\n",
       "    </tr>\n",
       "    <tr>\n",
       "      <th>1</th>\n",
       "      <td>5</td>\n",
       "      <td>6</td>\n",
       "      <td>7</td>\n",
       "      <td>8</td>\n",
       "      <td>world</td>\n",
       "    </tr>\n",
       "    <tr>\n",
       "      <th>2</th>\n",
       "      <td>9</td>\n",
       "      <td>10</td>\n",
       "      <td>11</td>\n",
       "      <td>12</td>\n",
       "      <td>foo</td>\n",
       "    </tr>\n",
       "  </tbody>\n",
       "</table>\n",
       "</div>"
      ],
      "text/plain": [
       "   0   1   2   3      4\n",
       "0  1   2   3   4  hello\n",
       "1  5   6   7   8  world\n",
       "2  9  10  11  12    foo"
      ]
     },
     "execution_count": 14,
     "metadata": {},
     "output_type": "execute_result"
    }
   ],
   "source": [
    "pd.read_csv(\"data/ex2.csv\", header=None)"
   ]
  },
  {
   "cell_type": "code",
   "execution_count": null,
   "id": "c6779f6d-72e7-41b7-b62a-f7228fa175a6",
   "metadata": {},
   "outputs": [],
   "source": [
    "Hoặc chúng ta có thể gán tên cột dữ liệu bằng tham số `names` trong hàm `read_csv`"
   ]
  },
  {
   "cell_type": "code",
   "execution_count": 13,
   "id": "29d04f0c",
   "metadata": {},
   "outputs": [
    {
     "data": {
      "text/html": [
       "<div>\n",
       "<style scoped>\n",
       "    .dataframe tbody tr th:only-of-type {\n",
       "        vertical-align: middle;\n",
       "    }\n",
       "\n",
       "    .dataframe tbody tr th {\n",
       "        vertical-align: top;\n",
       "    }\n",
       "\n",
       "    .dataframe thead th {\n",
       "        text-align: right;\n",
       "    }\n",
       "</style>\n",
       "<table border=\"1\" class=\"dataframe\">\n",
       "  <thead>\n",
       "    <tr style=\"text-align: right;\">\n",
       "      <th></th>\n",
       "      <th>a</th>\n",
       "      <th>b</th>\n",
       "      <th>c</th>\n",
       "      <th>d</th>\n",
       "      <th>message</th>\n",
       "    </tr>\n",
       "  </thead>\n",
       "  <tbody>\n",
       "    <tr>\n",
       "      <th>0</th>\n",
       "      <td>1</td>\n",
       "      <td>2</td>\n",
       "      <td>3</td>\n",
       "      <td>4</td>\n",
       "      <td>hello</td>\n",
       "    </tr>\n",
       "    <tr>\n",
       "      <th>1</th>\n",
       "      <td>5</td>\n",
       "      <td>6</td>\n",
       "      <td>7</td>\n",
       "      <td>8</td>\n",
       "      <td>world</td>\n",
       "    </tr>\n",
       "    <tr>\n",
       "      <th>2</th>\n",
       "      <td>9</td>\n",
       "      <td>10</td>\n",
       "      <td>11</td>\n",
       "      <td>12</td>\n",
       "      <td>foo</td>\n",
       "    </tr>\n",
       "  </tbody>\n",
       "</table>\n",
       "</div>"
      ],
      "text/plain": [
       "   a   b   c   d message\n",
       "0  1   2   3   4   hello\n",
       "1  5   6   7   8   world\n",
       "2  9  10  11  12     foo"
      ]
     },
     "execution_count": 13,
     "metadata": {},
     "output_type": "execute_result"
    }
   ],
   "source": [
    "pd.read_csv(\"data/ex2.csv\", names=[\"a\", \"b\", \"c\", \"d\", \"message\"])"
   ]
  },
  {
   "cell_type": "markdown",
   "id": "6e951b8d",
   "metadata": {},
   "source": [
    "Trong trường hợp bạn đọc muốn một cột, chẳng hạn cột `message` là chỉ số hàng của DataFrame hãy sử dụng tham số `index_col`:"
   ]
  },
  {
   "cell_type": "code",
   "execution_count": 16,
   "id": "0c976f47",
   "metadata": {},
   "outputs": [
    {
     "data": {
      "text/html": [
       "<div>\n",
       "<style scoped>\n",
       "    .dataframe tbody tr th:only-of-type {\n",
       "        vertical-align: middle;\n",
       "    }\n",
       "\n",
       "    .dataframe tbody tr th {\n",
       "        vertical-align: top;\n",
       "    }\n",
       "\n",
       "    .dataframe thead th {\n",
       "        text-align: right;\n",
       "    }\n",
       "</style>\n",
       "<table border=\"1\" class=\"dataframe\">\n",
       "  <thead>\n",
       "    <tr style=\"text-align: right;\">\n",
       "      <th></th>\n",
       "      <th>a</th>\n",
       "      <th>b</th>\n",
       "      <th>c</th>\n",
       "      <th>d</th>\n",
       "    </tr>\n",
       "    <tr>\n",
       "      <th>message</th>\n",
       "      <th></th>\n",
       "      <th></th>\n",
       "      <th></th>\n",
       "      <th></th>\n",
       "    </tr>\n",
       "  </thead>\n",
       "  <tbody>\n",
       "    <tr>\n",
       "      <th>hello</th>\n",
       "      <td>1</td>\n",
       "      <td>2</td>\n",
       "      <td>3</td>\n",
       "      <td>4</td>\n",
       "    </tr>\n",
       "    <tr>\n",
       "      <th>world</th>\n",
       "      <td>5</td>\n",
       "      <td>6</td>\n",
       "      <td>7</td>\n",
       "      <td>8</td>\n",
       "    </tr>\n",
       "    <tr>\n",
       "      <th>foo</th>\n",
       "      <td>9</td>\n",
       "      <td>10</td>\n",
       "      <td>11</td>\n",
       "      <td>12</td>\n",
       "    </tr>\n",
       "  </tbody>\n",
       "</table>\n",
       "</div>"
      ],
      "text/plain": [
       "         a   b   c   d\n",
       "message               \n",
       "hello    1   2   3   4\n",
       "world    5   6   7   8\n",
       "foo      9  10  11  12"
      ]
     },
     "execution_count": 16,
     "metadata": {},
     "output_type": "execute_result"
    }
   ],
   "source": [
    "names = [\"a\", \"b\", \"c\", \"d\", \"message\"]\n",
    "pd.read_csv(\"data/ex2.csv\", names=names, index_col=\"message\")"
   ]
  },
  {
   "cell_type": "markdown",
   "id": "0c05eac5",
   "metadata": {},
   "source": [
    "Trong trường hợp bạn muốn tạo một chỉ số được phân cấp qua nhiều cột, hãy khởi tạo một danh sách các số hoặc tên cột:"
   ]
  },
  {
   "cell_type": "code",
   "execution_count": 18,
   "id": "a39c847c",
   "metadata": {},
   "outputs": [
    {
     "name": "stdout",
     "output_type": "stream",
     "text": [
      "key1,key2,value1,value2\n",
      "one,a,1,2\n",
      "one,b,3,4\n",
      "one,c,5,6\n",
      "one,d,7,8\n",
      "two,a,9,10\n",
      "two,b,11,12\n",
      "two,c,13,14\n",
      "two,d,15,16\n"
     ]
    }
   ],
   "source": [
    "# !cat examples/csv_mindex.csv\n",
    "print(\"key1,key2,value1,value2\\none,a,1,2\\none,b,3,4\\none,c,5,6\\none,d,7,8\\ntwo,a,9,10\\ntwo,b,11,12\\ntwo,c,13,14\\ntwo,d,15,16\")\n",
    "\n",
    "# Tạo tệp csv_mindex.csv giả lập\n",
    "with open(\"data/csv_mindex.csv\", \"w\") as f:\n",
    "    f.write(\"key1,key2,value1,value2\\none,a,1,2\\none,b,3,4\\none,c,5,6\\none,d,7,8\\ntwo,a,9,10\\ntwo,b,11,12\\ntwo,c,13,14\\ntwo,d,15,16\")"
   ]
  },
  {
   "cell_type": "code",
   "execution_count": 19,
   "id": "9f82c0f1",
   "metadata": {},
   "outputs": [
    {
     "data": {
      "text/html": [
       "<div>\n",
       "<style scoped>\n",
       "    .dataframe tbody tr th:only-of-type {\n",
       "        vertical-align: middle;\n",
       "    }\n",
       "\n",
       "    .dataframe tbody tr th {\n",
       "        vertical-align: top;\n",
       "    }\n",
       "\n",
       "    .dataframe thead th {\n",
       "        text-align: right;\n",
       "    }\n",
       "</style>\n",
       "<table border=\"1\" class=\"dataframe\">\n",
       "  <thead>\n",
       "    <tr style=\"text-align: right;\">\n",
       "      <th></th>\n",
       "      <th></th>\n",
       "      <th>value1</th>\n",
       "      <th>value2</th>\n",
       "    </tr>\n",
       "    <tr>\n",
       "      <th>key1</th>\n",
       "      <th>key2</th>\n",
       "      <th></th>\n",
       "      <th></th>\n",
       "    </tr>\n",
       "  </thead>\n",
       "  <tbody>\n",
       "    <tr>\n",
       "      <th rowspan=\"4\" valign=\"top\">one</th>\n",
       "      <th>a</th>\n",
       "      <td>1</td>\n",
       "      <td>2</td>\n",
       "    </tr>\n",
       "    <tr>\n",
       "      <th>b</th>\n",
       "      <td>3</td>\n",
       "      <td>4</td>\n",
       "    </tr>\n",
       "    <tr>\n",
       "      <th>c</th>\n",
       "      <td>5</td>\n",
       "      <td>6</td>\n",
       "    </tr>\n",
       "    <tr>\n",
       "      <th>d</th>\n",
       "      <td>7</td>\n",
       "      <td>8</td>\n",
       "    </tr>\n",
       "    <tr>\n",
       "      <th rowspan=\"4\" valign=\"top\">two</th>\n",
       "      <th>a</th>\n",
       "      <td>9</td>\n",
       "      <td>10</td>\n",
       "    </tr>\n",
       "    <tr>\n",
       "      <th>b</th>\n",
       "      <td>11</td>\n",
       "      <td>12</td>\n",
       "    </tr>\n",
       "    <tr>\n",
       "      <th>c</th>\n",
       "      <td>13</td>\n",
       "      <td>14</td>\n",
       "    </tr>\n",
       "    <tr>\n",
       "      <th>d</th>\n",
       "      <td>15</td>\n",
       "      <td>16</td>\n",
       "    </tr>\n",
       "  </tbody>\n",
       "</table>\n",
       "</div>"
      ],
      "text/plain": [
       "           value1  value2\n",
       "key1 key2                \n",
       "one  a          1       2\n",
       "     b          3       4\n",
       "     c          5       6\n",
       "     d          7       8\n",
       "two  a          9      10\n",
       "     b         11      12\n",
       "     c         13      14\n",
       "     d         15      16"
      ]
     },
     "execution_count": 19,
     "metadata": {},
     "output_type": "execute_result"
    }
   ],
   "source": [
    "parsed = pd.read_csv(\"data/csv_mindex.csv\",\n",
    "                       index_col=[\"key1\", \"key2\"])\n",
    "parsed"
   ]
  },
  {
   "cell_type": "markdown",
   "id": "ffe95fbe",
   "metadata": {},
   "source": [
    "Trong nhiều trường hợp, một bảng có thể không sử dụng dấu phân tách cố định, mà sử dụng khoảng trắng hoặc một ký tự khác khác để tách các cột. Hãy xem xét một tệp văn bản như sau:"
   ]
  },
  {
   "cell_type": "code",
   "execution_count": 20,
   "id": "77737d51",
   "metadata": {},
   "outputs": [
    {
     "name": "stdout",
     "output_type": "stream",
     "text": [
      "            A         B         C\n",
      "aaa -0.264438 -1.026059 -0.619500\n",
      "bbb  0.927272  0.302904 -0.032399\n",
      "ccc -0.264273 -0.386314 -0.217601\n",
      "ddd -0.871858 -0.348382  1.100491\n"
     ]
    }
   ],
   "source": [
    "# !cat examples/ex3.txt\n",
    "print(\"            A         B         C\\naaa -0.264438 -1.026059 -0.619500\\nbbb  0.927272  0.302904 -0.032399\\nccc -0.264273 -0.386314 -0.217601\\nddd -0.871858 -0.348382  1.100491\")\n",
    "\n",
    "# Tạo tệp ex3.txt giả lập\n",
    "with open(\"data/ex3.txt\", \"w\") as f:\n",
    "    f.write(\"            A         B         C\\n\")\n",
    "    f.write(\"aaa -0.264438 -1.026059 -0.619500\\n\")\n",
    "    f.write(\"bbb  0.927272  0.302904 -0.032399\\n\")\n",
    "    f.write(\"ccc -0.264273 -0.386314 -0.217601\\n\")\n",
    "    f.write(\"ddd -0.871858 -0.348382  1.100491\\n\")"
   ]
  },
  {
   "cell_type": "markdown",
   "id": "b337bbe7",
   "metadata": {},
   "source": [
    "Trong trường hợp này, chúng ta có thể sử dụng một **biểu thức chính quy** làm dấu phân tách cho `read_csv`. Khi phân tách giữa các cột là một hay một số khoảng trắng, biểu thức chính quy biểu thị là `\\s+`. Do đó, hàm đọc dữ liệu sẽ như sau:"
   ]
  },
  {
   "cell_type": "code",
   "execution_count": 21,
   "id": "65c701e9",
   "metadata": {},
   "outputs": [
    {
     "name": "stderr",
     "output_type": "stream",
     "text": [
      "<>:1: SyntaxWarning: invalid escape sequence '\\s'\n",
      "<>:1: SyntaxWarning: invalid escape sequence '\\s'\n",
      "C:\\Users\\AD\\AppData\\Local\\Temp\\ipykernel_23328\\2689389327.py:1: SyntaxWarning: invalid escape sequence '\\s'\n",
      "  result = pd.read_csv(\"data/ex3.txt\", sep=\"\\s+\")\n"
     ]
    },
    {
     "data": {
      "text/html": [
       "<div>\n",
       "<style scoped>\n",
       "    .dataframe tbody tr th:only-of-type {\n",
       "        vertical-align: middle;\n",
       "    }\n",
       "\n",
       "    .dataframe tbody tr th {\n",
       "        vertical-align: top;\n",
       "    }\n",
       "\n",
       "    .dataframe thead th {\n",
       "        text-align: right;\n",
       "    }\n",
       "</style>\n",
       "<table border=\"1\" class=\"dataframe\">\n",
       "  <thead>\n",
       "    <tr style=\"text-align: right;\">\n",
       "      <th></th>\n",
       "      <th>A</th>\n",
       "      <th>B</th>\n",
       "      <th>C</th>\n",
       "    </tr>\n",
       "  </thead>\n",
       "  <tbody>\n",
       "    <tr>\n",
       "      <th>aaa</th>\n",
       "      <td>-0.264438</td>\n",
       "      <td>-1.026059</td>\n",
       "      <td>-0.619500</td>\n",
       "    </tr>\n",
       "    <tr>\n",
       "      <th>bbb</th>\n",
       "      <td>0.927272</td>\n",
       "      <td>0.302904</td>\n",
       "      <td>-0.032399</td>\n",
       "    </tr>\n",
       "    <tr>\n",
       "      <th>ccc</th>\n",
       "      <td>-0.264273</td>\n",
       "      <td>-0.386314</td>\n",
       "      <td>-0.217601</td>\n",
       "    </tr>\n",
       "    <tr>\n",
       "      <th>ddd</th>\n",
       "      <td>-0.871858</td>\n",
       "      <td>-0.348382</td>\n",
       "      <td>1.100491</td>\n",
       "    </tr>\n",
       "  </tbody>\n",
       "</table>\n",
       "</div>"
      ],
      "text/plain": [
       "            A         B         C\n",
       "aaa -0.264438 -1.026059 -0.619500\n",
       "bbb  0.927272  0.302904 -0.032399\n",
       "ccc -0.264273 -0.386314 -0.217601\n",
       "ddd -0.871858 -0.348382  1.100491"
      ]
     },
     "execution_count": 21,
     "metadata": {},
     "output_type": "execute_result"
    }
   ],
   "source": [
    "result = pd.read_csv(\"data/ex3.txt\", sep=\"\\s+\")\n",
    "result"
   ]
  },
  {
   "cell_type": "markdown",
   "id": "46d22fbc",
   "metadata": {},
   "source": [
    "Trong trường hợp số lượng giá trị trong dòng tiêu đề nhỏ hơn số lượng giá trị trong các dòng dữ liệu khác, hàm `read_csv` sẽ suy luận rằng cột đầu tiên không thuộc về dữ liệu chính mà đóng vai trò là chỉ số của đối tượng `DataFrame`. Đây là một cơ chế mặc định của `pandas` khi xử lý các tệp dữ liệu có cấu trúc không chuẩn.\n",
    "\n",
    "Các hàm phân tích cú pháp trong `pandas` được thiết kế với nhiều tham số linh hoạt nhằm hỗ trợ người dùng xử lý các tình huống ngoại lệ có thể phát sinh trong thực tiễn. Ví dụ, nếu muốn loại bỏ một số dòng cụ thể khỏi quá trình đọc dữ liệu, người dùng có thể sử dụng tham số `skiprows`. Ví dụ chúng ta có một file .csv như sau:"
   ]
  },
  {
   "cell_type": "code",
   "execution_count": 22,
   "id": "6cbffc78",
   "metadata": {},
   "outputs": [
    {
     "name": "stdout",
     "output_type": "stream",
     "text": [
      "# hey!\n",
      "a,b,c,d,message\n",
      "# just wanted to make things more difficult for you\n",
      "# who reads CSV files with computers, anyway?\n",
      "1,2,3,4,hello\n",
      "5,6,7,8,world\n",
      "9,10,11,12,foo\n"
     ]
    }
   ],
   "source": [
    "# !cat examples/ex4.csv\n",
    "print(\"# hey!\\na,b,c,d,message\\n# just wanted to make things more difficult for you\\n# who reads CSV files with computers, anyway?\\n1,2,3,4,hello\\n5,6,7,8,world\\n9,10,11,12,foo\")\n",
    "\n",
    "# Tạo tệp ex4.csv giả lập\n",
    "with open(\"data/ex4.csv\", \"w\") as f:\n",
    "    f.write(\"# hey!\\n\")\n",
    "    f.write(\"a,b,c,d,message\\n\")\n",
    "    f.write(\"# just wanted to make things more difficult for you\\n\")\n",
    "    f.write(\"# who reads CSV files with computers, anyway?\\n\")\n",
    "    f.write(\"1,2,3,4,hello\\n\")\n",
    "    f.write(\"5,6,7,8,world\\n\")\n",
    "    f.write(\"9,10,11,12,foo\\n\")"
   ]
  },
  {
   "cell_type": "code",
   "execution_count": null,
   "id": "eeb81e68-fbb9-46a9-8f0b-4b2ed50b1f23",
   "metadata": {},
   "outputs": [],
   "source": [
    "Chúng ta sử loại các dòng không cần thiết như sau:"
   ]
  },
  {
   "cell_type": "code",
   "execution_count": null,
   "id": "0cbfabeb",
   "metadata": {},
   "outputs": [],
   "source": [
    "pd.read_csv(\"data/ex4.csv\", skiprows=[0, 2, 3])"
   ]
  },
  {
   "cell_type": "markdown",
   "id": "f6b32509",
   "metadata": {},
   "source": [
    "Việc xử lý các giá trị bị thiếu là một vấn đề quan trọng và thường xuyên phức tạp. Dữ liệu bị thiếu thường không có mặt (chuỗi rỗng) hoặc được đánh dấu bằng một số giá trị sentinel. Theo mặc định, pandas sử dụng một tập hợp các giá trị sentinel phổ biến, như `NA` và `NULL`:"
   ]
  },
  {
   "cell_type": "code",
   "execution_count": 23,
   "id": "859229c1",
   "metadata": {},
   "outputs": [
    {
     "name": "stdout",
     "output_type": "stream",
     "text": [
      "something,a,b,c,d,message\n",
      "one,1,2,3,4,NA\n",
      "two,5,6,,8,world\n",
      "three,9,10,11,12,foo\n"
     ]
    }
   ],
   "source": [
    "# !cat examples/ex5.csv\n",
    "print(\"something,a,b,c,d,message\\none,1,2,3,4,NA\\ntwo,5,6,,8,world\\nthree,9,10,11,12,foo\")\n",
    "\n",
    "# Tạo tệp ex5.csv giả lập\n",
    "with open(\"data/ex5.csv\", \"w\") as f:\n",
    "    f.write(\"something,a,b,c,d,message\\n\")\n",
    "    f.write(\"one,1,2,3,4,NA\\n\")\n",
    "    f.write(\"two,5,6,,8,world\\n\")\n",
    "    f.write(\"three,9,10,11,12,foo\\n\")"
   ]
  },
  {
   "cell_type": "code",
   "execution_count": 25,
   "id": "14a232bf",
   "metadata": {},
   "outputs": [
    {
     "data": {
      "text/html": [
       "<div>\n",
       "<style scoped>\n",
       "    .dataframe tbody tr th:only-of-type {\n",
       "        vertical-align: middle;\n",
       "    }\n",
       "\n",
       "    .dataframe tbody tr th {\n",
       "        vertical-align: top;\n",
       "    }\n",
       "\n",
       "    .dataframe thead th {\n",
       "        text-align: right;\n",
       "    }\n",
       "</style>\n",
       "<table border=\"1\" class=\"dataframe\">\n",
       "  <thead>\n",
       "    <tr style=\"text-align: right;\">\n",
       "      <th></th>\n",
       "      <th>something</th>\n",
       "      <th>a</th>\n",
       "      <th>b</th>\n",
       "      <th>c</th>\n",
       "      <th>d</th>\n",
       "      <th>message</th>\n",
       "    </tr>\n",
       "  </thead>\n",
       "  <tbody>\n",
       "    <tr>\n",
       "      <th>0</th>\n",
       "      <td>one</td>\n",
       "      <td>1</td>\n",
       "      <td>2</td>\n",
       "      <td>3.0</td>\n",
       "      <td>4</td>\n",
       "      <td>NaN</td>\n",
       "    </tr>\n",
       "    <tr>\n",
       "      <th>1</th>\n",
       "      <td>two</td>\n",
       "      <td>5</td>\n",
       "      <td>6</td>\n",
       "      <td>NaN</td>\n",
       "      <td>8</td>\n",
       "      <td>world</td>\n",
       "    </tr>\n",
       "    <tr>\n",
       "      <th>2</th>\n",
       "      <td>three</td>\n",
       "      <td>9</td>\n",
       "      <td>10</td>\n",
       "      <td>11.0</td>\n",
       "      <td>12</td>\n",
       "      <td>foo</td>\n",
       "    </tr>\n",
       "  </tbody>\n",
       "</table>\n",
       "</div>"
      ],
      "text/plain": [
       "  something  a   b     c   d message\n",
       "0       one  1   2   3.0   4     NaN\n",
       "1       two  5   6   NaN   8   world\n",
       "2     three  9  10  11.0  12     foo"
      ]
     },
     "execution_count": 25,
     "metadata": {},
     "output_type": "execute_result"
    }
   ],
   "source": [
    "result = pd.read_csv(\"data/ex5.csv\")\n",
    "result"
   ]
  },
  {
   "cell_type": "markdown",
   "id": "e2bd7819",
   "metadata": {},
   "source": [
    "Nhớ lại rằng pandas xuất các giá trị bị thiếu dưới dạng `NaN`, vì vậy chúng ta có hai giá trị null hoặc thiếu trong `result`:"
   ]
  },
  {
   "cell_type": "code",
   "execution_count": 26,
   "id": "9f8f6f88",
   "metadata": {},
   "outputs": [
    {
     "data": {
      "text/html": [
       "<div>\n",
       "<style scoped>\n",
       "    .dataframe tbody tr th:only-of-type {\n",
       "        vertical-align: middle;\n",
       "    }\n",
       "\n",
       "    .dataframe tbody tr th {\n",
       "        vertical-align: top;\n",
       "    }\n",
       "\n",
       "    .dataframe thead th {\n",
       "        text-align: right;\n",
       "    }\n",
       "</style>\n",
       "<table border=\"1\" class=\"dataframe\">\n",
       "  <thead>\n",
       "    <tr style=\"text-align: right;\">\n",
       "      <th></th>\n",
       "      <th>something</th>\n",
       "      <th>a</th>\n",
       "      <th>b</th>\n",
       "      <th>c</th>\n",
       "      <th>d</th>\n",
       "      <th>message</th>\n",
       "    </tr>\n",
       "  </thead>\n",
       "  <tbody>\n",
       "    <tr>\n",
       "      <th>0</th>\n",
       "      <td>False</td>\n",
       "      <td>False</td>\n",
       "      <td>False</td>\n",
       "      <td>False</td>\n",
       "      <td>False</td>\n",
       "      <td>True</td>\n",
       "    </tr>\n",
       "    <tr>\n",
       "      <th>1</th>\n",
       "      <td>False</td>\n",
       "      <td>False</td>\n",
       "      <td>False</td>\n",
       "      <td>True</td>\n",
       "      <td>False</td>\n",
       "      <td>False</td>\n",
       "    </tr>\n",
       "    <tr>\n",
       "      <th>2</th>\n",
       "      <td>False</td>\n",
       "      <td>False</td>\n",
       "      <td>False</td>\n",
       "      <td>False</td>\n",
       "      <td>False</td>\n",
       "      <td>False</td>\n",
       "    </tr>\n",
       "  </tbody>\n",
       "</table>\n",
       "</div>"
      ],
      "text/plain": [
       "   something      a      b      c      d  message\n",
       "0      False  False  False  False  False     True\n",
       "1      False  False  False   True  False    False\n",
       "2      False  False  False  False  False    False"
      ]
     },
     "execution_count": 26,
     "metadata": {},
     "output_type": "execute_result"
    }
   ],
   "source": [
    "pd.isna(result)"
   ]
  },
  {
   "cell_type": "markdown",
   "id": "6e2462c2",
   "metadata": {},
   "source": [
    "Tham số `na_values` được sử dụng để gán giá trị cho các vị trí không quan sát được:"
   ]
  },
  {
   "cell_type": "code",
   "execution_count": 28,
   "id": "f8369638",
   "metadata": {},
   "outputs": [
    {
     "data": {
      "text/html": [
       "<div>\n",
       "<style scoped>\n",
       "    .dataframe tbody tr th:only-of-type {\n",
       "        vertical-align: middle;\n",
       "    }\n",
       "\n",
       "    .dataframe tbody tr th {\n",
       "        vertical-align: top;\n",
       "    }\n",
       "\n",
       "    .dataframe thead th {\n",
       "        text-align: right;\n",
       "    }\n",
       "</style>\n",
       "<table border=\"1\" class=\"dataframe\">\n",
       "  <thead>\n",
       "    <tr style=\"text-align: right;\">\n",
       "      <th></th>\n",
       "      <th>something</th>\n",
       "      <th>a</th>\n",
       "      <th>b</th>\n",
       "      <th>c</th>\n",
       "      <th>d</th>\n",
       "      <th>message</th>\n",
       "    </tr>\n",
       "  </thead>\n",
       "  <tbody>\n",
       "    <tr>\n",
       "      <th>0</th>\n",
       "      <td>one</td>\n",
       "      <td>1</td>\n",
       "      <td>2</td>\n",
       "      <td>3.0</td>\n",
       "      <td>4</td>\n",
       "      <td>NaN</td>\n",
       "    </tr>\n",
       "    <tr>\n",
       "      <th>1</th>\n",
       "      <td>two</td>\n",
       "      <td>5</td>\n",
       "      <td>6</td>\n",
       "      <td>NaN</td>\n",
       "      <td>8</td>\n",
       "      <td>world</td>\n",
       "    </tr>\n",
       "    <tr>\n",
       "      <th>2</th>\n",
       "      <td>three</td>\n",
       "      <td>9</td>\n",
       "      <td>10</td>\n",
       "      <td>11.0</td>\n",
       "      <td>12</td>\n",
       "      <td>foo</td>\n",
       "    </tr>\n",
       "  </tbody>\n",
       "</table>\n",
       "</div>"
      ],
      "text/plain": [
       "  something  a   b     c   d message\n",
       "0       one  1   2   3.0   4     NaN\n",
       "1       two  5   6   NaN   8   world\n",
       "2     three  9  10  11.0  12     foo"
      ]
     },
     "execution_count": 28,
     "metadata": {},
     "output_type": "execute_result"
    }
   ],
   "source": [
    "result = pd.read_csv(\"data/ex5.csv\", na_values=[\"NULL\"]) # Sẽ không thay đổi gì ở đây vì NULL không có trong ex5.csv và NA đã là mặc định\n",
    "result"
   ]
  },
  {
   "cell_type": "markdown",
   "id": "b2fb241f",
   "metadata": {},
   "source": [
    "Mặc dù hiếm khi xảy ra, nhưng đôi khi chúng ta cần chuyển đổi các giá trị thành `NaN`. Phương pháp để thực hiện việc này là sử dụng một từ điển để gán giá trị cho tham số `na_values`"
   ]
  },
  {
   "cell_type": "code",
   "execution_count": 33,
   "id": "2f93ffc0",
   "metadata": {},
   "outputs": [
    {
     "data": {
      "text/html": [
       "<div>\n",
       "<style scoped>\n",
       "    .dataframe tbody tr th:only-of-type {\n",
       "        vertical-align: middle;\n",
       "    }\n",
       "\n",
       "    .dataframe tbody tr th {\n",
       "        vertical-align: top;\n",
       "    }\n",
       "\n",
       "    .dataframe thead th {\n",
       "        text-align: right;\n",
       "    }\n",
       "</style>\n",
       "<table border=\"1\" class=\"dataframe\">\n",
       "  <thead>\n",
       "    <tr style=\"text-align: right;\">\n",
       "      <th></th>\n",
       "      <th>something</th>\n",
       "      <th>a</th>\n",
       "      <th>b</th>\n",
       "      <th>c</th>\n",
       "      <th>d</th>\n",
       "      <th>message</th>\n",
       "    </tr>\n",
       "  </thead>\n",
       "  <tbody>\n",
       "    <tr>\n",
       "      <th>0</th>\n",
       "      <td>one</td>\n",
       "      <td>1</td>\n",
       "      <td>2</td>\n",
       "      <td>3</td>\n",
       "      <td>4</td>\n",
       "      <td>NaN</td>\n",
       "    </tr>\n",
       "    <tr>\n",
       "      <th>1</th>\n",
       "      <td>NaN</td>\n",
       "      <td>5</td>\n",
       "      <td>6</td>\n",
       "      <td></td>\n",
       "      <td>8</td>\n",
       "      <td>world</td>\n",
       "    </tr>\n",
       "    <tr>\n",
       "      <th>2</th>\n",
       "      <td>three</td>\n",
       "      <td>9</td>\n",
       "      <td>10</td>\n",
       "      <td>11</td>\n",
       "      <td>12</td>\n",
       "      <td>NaN</td>\n",
       "    </tr>\n",
       "  </tbody>\n",
       "</table>\n",
       "</div>"
      ],
      "text/plain": [
       "  something  a   b   c   d message\n",
       "0       one  1   2   3   4     NaN\n",
       "1       NaN  5   6       8   world\n",
       "2     three  9  10  11  12     NaN"
      ]
     },
     "execution_count": 33,
     "metadata": {},
     "output_type": "execute_result"
    }
   ],
   "source": [
    "vals = {\"message\": [\"foo\", \"NA\"], \"something\": [\"two\"]}\n",
    "pd.read_csv(\"data/ex5.csv\", na_values = vals,\n",
    "              keep_default_na=False) # Thêm keep_default_na=False để NA mặc định không được dùng"
   ]
  },
  {
   "cell_type": "markdown",
   "id": "c0435f06",
   "metadata": {},
   "source": [
    "Bảng .... liệt kê một số tùy chọn thường được sử dụng trong `pandas.read_csv`."
   ]
  },
  {
   "cell_type": "markdown",
   "id": "5299ab17",
   "metadata": {},
   "source": [
    "Bảng 6-2: Một số tham số của hàm `pandas.read_csv`\n",
    "\n",
    "| Tham số          | Mô tả                                                                                                                            |\n",
    "|-------------------|----------------------------------------------------------------------------------------------------------------------------------|\n",
    "| `path`              | Chuỗi chỉ ra vị trí hệ thống tệp, URL, hoặc đối tượng tương tự tệp.                                                   |\n",
    "| `sep` hoặc `delimiter`| Chuỗi ký tự hoặc biểu thức chính quy được sử dụng để tách các trường trong mỗi hàng.                                                         |\n",
    "| `header`            | Số hàng để sử dụng làm tên cột; mặc định là 0 (dòng đầu tiên), nhưng nên là `None` nếu không có dòng tiêu đề.                           |\n",
    "| `index_col`         | Số cột hoặc tên cột để sử dụng làm chỉ số hàng trong kết quả; có thể là một tên/số duy nhất hoặc một danh sách chúng cho một chỉ mục phân cấp. |\n",
    "| `names`             | Danh sách tên cột cho kết quả.                                                               |\n",
    "| `skiprows`          | Số dòng ở đầu tệp cần bỏ qua hoặc danh sách các số dòng (bắt đầu từ 0) cần bỏ qua.                     |\n",
    "| `na_values`         | Chuỗi các giá trị cần thay thế bằng NA. Chúng được thêm vào danh sách mặc định trừ khi `keep_default_na=False` được truyền.                                                                              |\n",
    "| `keep_default_na`   | Có sử dụng danh sách giá trị NA mặc định hay không (`True` theo mặc định).                                                                  |\n",
    "| `comment`           | Ký tự để tách các nhận xét khỏi cuối các dòng.                                                             |\n",
    "| `parse_dates`       | Cố gắng phân tích cú pháp dữ liệu thành `datetime`; `False` theo mặc định. Nếu `True`, sẽ cố gắng phân tích cú pháp tất cả các cột. Nếu không, có thể chỉ định một danh sách các số cột hoặc tên cột để phân tích cú pháp. Nếu một phần tử của danh sách là tuple hoặc danh sách, nó sẽ kết hợp nhiều cột lại với nhau và phân tích cú pháp thành ngày (ví dụ, nếu ngày/giờ được tách ra làm hai cột). |\n",
    "| `keep_date_col`     | Nếu nối các cột để phân tích cú pháp ngày, giữ lại các cột đã nối; `False` theo mặc định.                                              |\n",
    "| `converters`        | Từ điển chứa ánh xạ số cột hoặc tên cột tới các hàm (ví dụ, `{\"foo\": f}` sẽ áp dụng hàm `f` cho tất cả các giá trị trong cột \"foo\"). |\n",
    "| `dayfirst`          | Khi phân tích cú pháp các ngày không rõ ràng, coi như định dạng quốc tế (ví dụ, `7/6/2012` -> 7 tháng 6, 2012); `False` theo mặc định. |\n",
    "| `date_parser`       | Hàm để sử dụng để phân tích cú pháp ngày.                                                                                             |\n",
    "| `nrows`             | Số dòng cần đọc từ đầu tệp (không tính tiêu đề).                                                                                             |\n",
    "| `iterator`          | Trả về một đối tượng `TextFileReader` để đọc tệp theo từng phần. Đối tượng này cũng có thể được sử dụng với câu lệnh `with`.                                   |\n",
    "| `chunksize`         | Đối với lặp lại, kích thước của các phần tệp.                                                                                   |\n",
    "| `skip_footer`       | Số dòng cần bỏ qua ở cuối tệp.                                                    |\n",
    "| `verbose`           | In thông tin phân tích cú pháp khác nhau, như thời gian dành cho mỗi giai đoạn của quá trình chuyển đổi tệp và thông tin sử dụng bộ nhớ.                                    |\n",
    "| `encoding`          | Mã hóa văn bản (ví dụ, `\"utf-8\"` cho văn bản mã hóa UTF-8). Mặc định là `\"utf-8\"` nếu `None`.                       |\n",
    "| `squeeze`           | Nếu dữ liệu được phân tích cú pháp chỉ chứa một cột, trả về một Series.                                                                   |\n",
    "| `thousands`         | Dấu phân tách hàng nghìn (ví dụ, `\",\"` hoặc `\".\"`); mặc định là `None`.                                                                   |\n",
    "| `decimal`           | Dấu phân tách thập phân trong số (ví dụ, `\".\"` hoặc `\",\"`); mặc định là `\".\"`.                                                        |\n",
    "| `engine`            | Công cụ phân tích cú pháp và chuyển đổi CSV để sử dụng; có thể là `\"c\"`, `\"python\"`, hoặc `\"pyarrow\"`. Mặc định là `\"c\"`, mặc dù công cụ `\"pyarrow\"` mới hơn có thể phân tích một số tệp nhanh hơn nhiều. Công cụ `\"python\"` chậm hơn nhưng hỗ trợ một số tính năng mà các công cụ khác không có. |"
   ]
  },
  {
   "cell_type": "markdown",
   "id": "1bf0f451-0a00-4e49-9911-69534a9d01d0",
   "metadata": {},
   "source": [
    "### Đọc dữ liệu văn bản theo từng phần\n",
    "<hr>"
   ]
  },
  {
   "cell_type": "markdown",
   "id": "fe5f0cf1",
   "metadata": {},
   "source": [
    "Khi xử lý các tệp dữ liệu rất lớn hoặc để tìm ra tập hợp các tham số chính xác để xử lý một tệp lớn đúng cách, bạn có thể muốn chỉ đọc một phần nhỏ của tệp hoặc đọc lần lượt qua các phần nhỏ của tệp. Để tránh hiển thị dữ liệu bị tràn dòng, trước khi xem xét một tệp lớn, chúng ta sẽ hạn chế số dòng hiển thị của `pandas` như sau:"
   ]
  },
  {
   "cell_type": "code",
   "execution_count": null,
   "id": "6fb78ccf",
   "metadata": {},
   "outputs": [],
   "source": [
    "pd.options.display.max_rows = 6"
   ]
  },
  {
   "cell_type": "markdown",
   "id": "8b4a9689",
   "metadata": {},
   "source": [
    "Bây giờ chúng ta có:"
   ]
  },
  {
   "cell_type": "code",
   "execution_count": 34,
   "id": "ce1606bb",
   "metadata": {},
   "outputs": [
    {
     "data": {
      "text/html": [
       "<div>\n",
       "<style scoped>\n",
       "    .dataframe tbody tr th:only-of-type {\n",
       "        vertical-align: middle;\n",
       "    }\n",
       "\n",
       "    .dataframe tbody tr th {\n",
       "        vertical-align: top;\n",
       "    }\n",
       "\n",
       "    .dataframe thead th {\n",
       "        text-align: right;\n",
       "    }\n",
       "</style>\n",
       "<table border=\"1\" class=\"dataframe\">\n",
       "  <thead>\n",
       "    <tr style=\"text-align: right;\">\n",
       "      <th></th>\n",
       "      <th>one</th>\n",
       "      <th>two</th>\n",
       "      <th>three</th>\n",
       "      <th>four</th>\n",
       "      <th>key</th>\n",
       "    </tr>\n",
       "  </thead>\n",
       "  <tbody>\n",
       "    <tr>\n",
       "      <th>0</th>\n",
       "      <td>-0.356175</td>\n",
       "      <td>-0.482113</td>\n",
       "      <td>-0.507278</td>\n",
       "      <td>-0.934626</td>\n",
       "      <td>W</td>\n",
       "    </tr>\n",
       "    <tr>\n",
       "      <th>1</th>\n",
       "      <td>1.585085</td>\n",
       "      <td>1.841935</td>\n",
       "      <td>-1.042228</td>\n",
       "      <td>-1.025426</td>\n",
       "      <td>C</td>\n",
       "    </tr>\n",
       "    <tr>\n",
       "      <th>2</th>\n",
       "      <td>0.640408</td>\n",
       "      <td>-1.066684</td>\n",
       "      <td>0.278641</td>\n",
       "      <td>-0.414255</td>\n",
       "      <td>F</td>\n",
       "    </tr>\n",
       "    <tr>\n",
       "      <th>3</th>\n",
       "      <td>0.326434</td>\n",
       "      <td>-0.458086</td>\n",
       "      <td>-1.372874</td>\n",
       "      <td>0.171574</td>\n",
       "      <td>Z</td>\n",
       "    </tr>\n",
       "    <tr>\n",
       "      <th>4</th>\n",
       "      <td>0.287408</td>\n",
       "      <td>0.321350</td>\n",
       "      <td>-0.128788</td>\n",
       "      <td>0.991900</td>\n",
       "      <td>C</td>\n",
       "    </tr>\n",
       "    <tr>\n",
       "      <th>...</th>\n",
       "      <td>...</td>\n",
       "      <td>...</td>\n",
       "      <td>...</td>\n",
       "      <td>...</td>\n",
       "      <td>...</td>\n",
       "    </tr>\n",
       "    <tr>\n",
       "      <th>9995</th>\n",
       "      <td>0.543649</td>\n",
       "      <td>-1.251549</td>\n",
       "      <td>-1.158379</td>\n",
       "      <td>-1.034230</td>\n",
       "      <td>B</td>\n",
       "    </tr>\n",
       "    <tr>\n",
       "      <th>9996</th>\n",
       "      <td>0.053509</td>\n",
       "      <td>-0.202851</td>\n",
       "      <td>-1.475204</td>\n",
       "      <td>0.834955</td>\n",
       "      <td>G</td>\n",
       "    </tr>\n",
       "    <tr>\n",
       "      <th>9997</th>\n",
       "      <td>0.695790</td>\n",
       "      <td>0.317303</td>\n",
       "      <td>1.993931</td>\n",
       "      <td>-1.062276</td>\n",
       "      <td>I</td>\n",
       "    </tr>\n",
       "    <tr>\n",
       "      <th>9998</th>\n",
       "      <td>0.010298</td>\n",
       "      <td>-1.610878</td>\n",
       "      <td>1.664979</td>\n",
       "      <td>-1.200185</td>\n",
       "      <td>V</td>\n",
       "    </tr>\n",
       "    <tr>\n",
       "      <th>9999</th>\n",
       "      <td>-0.185866</td>\n",
       "      <td>-0.593253</td>\n",
       "      <td>-0.162879</td>\n",
       "      <td>0.312306</td>\n",
       "      <td>B</td>\n",
       "    </tr>\n",
       "  </tbody>\n",
       "</table>\n",
       "<p>10000 rows × 5 columns</p>\n",
       "</div>"
      ],
      "text/plain": [
       "           one       two     three      four key\n",
       "0    -0.356175 -0.482113 -0.507278 -0.934626   W\n",
       "1     1.585085  1.841935 -1.042228 -1.025426   C\n",
       "2     0.640408 -1.066684  0.278641 -0.414255   F\n",
       "3     0.326434 -0.458086 -1.372874  0.171574   Z\n",
       "4     0.287408  0.321350 -0.128788  0.991900   C\n",
       "...        ...       ...       ...       ...  ..\n",
       "9995  0.543649 -1.251549 -1.158379 -1.034230   B\n",
       "9996  0.053509 -0.202851 -1.475204  0.834955   G\n",
       "9997  0.695790  0.317303  1.993931 -1.062276   I\n",
       "9998  0.010298 -1.610878  1.664979 -1.200185   V\n",
       "9999 -0.185866 -0.593253 -0.162879  0.312306   B\n",
       "\n",
       "[10000 rows x 5 columns]"
      ]
     },
     "execution_count": 34,
     "metadata": {},
     "output_type": "execute_result"
    }
   ],
   "source": [
    "# Tạo tệp ex6.csv giả lập lớn\n",
    "import numpy as np\n",
    "num_rows = 10000\n",
    "data_ex6 = pd.DataFrame({\n",
    "    'one': np.random.randn(num_rows),\n",
    "    'two': np.random.randn(num_rows),\n",
    "    'three': np.random.randn(num_rows),\n",
    "    'four': np.random.randn(num_rows),\n",
    "    'key': np.random.choice(list('ABCDEFGHIJKLMNOPQRSTUVWXYZ'), num_rows)\n",
    "})\n",
    "data_ex6.to_csv(\"data/ex6.csv\", index=False)\n",
    "\n",
    "result = pd.read_csv(\"data/ex6.csv\")\n",
    "result"
   ]
  },
  {
   "cell_type": "markdown",
   "id": "249261b0",
   "metadata": {},
   "source": [
    "Dấu ba chấm `...` trong hiển thị cho biết các hàng ở giữa DataFrame đã bị bỏ qua.\n",
    "\n",
    "Nếu bạn muốn chỉ đọc một số lượng nhỏ các hàng (mà không đọc toàn bộ tệp), hãy chỉ định điều đó bằng `nrows`:"
   ]
  },
  {
   "cell_type": "code",
   "execution_count": 35,
   "id": "8eb1fb25",
   "metadata": {},
   "outputs": [
    {
     "data": {
      "text/html": [
       "<div>\n",
       "<style scoped>\n",
       "    .dataframe tbody tr th:only-of-type {\n",
       "        vertical-align: middle;\n",
       "    }\n",
       "\n",
       "    .dataframe tbody tr th {\n",
       "        vertical-align: top;\n",
       "    }\n",
       "\n",
       "    .dataframe thead th {\n",
       "        text-align: right;\n",
       "    }\n",
       "</style>\n",
       "<table border=\"1\" class=\"dataframe\">\n",
       "  <thead>\n",
       "    <tr style=\"text-align: right;\">\n",
       "      <th></th>\n",
       "      <th>one</th>\n",
       "      <th>two</th>\n",
       "      <th>three</th>\n",
       "      <th>four</th>\n",
       "      <th>key</th>\n",
       "    </tr>\n",
       "  </thead>\n",
       "  <tbody>\n",
       "    <tr>\n",
       "      <th>0</th>\n",
       "      <td>-0.356175</td>\n",
       "      <td>-0.482113</td>\n",
       "      <td>-0.507278</td>\n",
       "      <td>-0.934626</td>\n",
       "      <td>W</td>\n",
       "    </tr>\n",
       "    <tr>\n",
       "      <th>1</th>\n",
       "      <td>1.585085</td>\n",
       "      <td>1.841935</td>\n",
       "      <td>-1.042228</td>\n",
       "      <td>-1.025426</td>\n",
       "      <td>C</td>\n",
       "    </tr>\n",
       "    <tr>\n",
       "      <th>2</th>\n",
       "      <td>0.640408</td>\n",
       "      <td>-1.066684</td>\n",
       "      <td>0.278641</td>\n",
       "      <td>-0.414255</td>\n",
       "      <td>F</td>\n",
       "    </tr>\n",
       "    <tr>\n",
       "      <th>3</th>\n",
       "      <td>0.326434</td>\n",
       "      <td>-0.458086</td>\n",
       "      <td>-1.372874</td>\n",
       "      <td>0.171574</td>\n",
       "      <td>Z</td>\n",
       "    </tr>\n",
       "    <tr>\n",
       "      <th>4</th>\n",
       "      <td>0.287408</td>\n",
       "      <td>0.321350</td>\n",
       "      <td>-0.128788</td>\n",
       "      <td>0.991900</td>\n",
       "      <td>C</td>\n",
       "    </tr>\n",
       "  </tbody>\n",
       "</table>\n",
       "</div>"
      ],
      "text/plain": [
       "        one       two     three      four key\n",
       "0 -0.356175 -0.482113 -0.507278 -0.934626   W\n",
       "1  1.585085  1.841935 -1.042228 -1.025426   C\n",
       "2  0.640408 -1.066684  0.278641 -0.414255   F\n",
       "3  0.326434 -0.458086 -1.372874  0.171574   Z\n",
       "4  0.287408  0.321350 -0.128788  0.991900   C"
      ]
     },
     "execution_count": 35,
     "metadata": {},
     "output_type": "execute_result"
    }
   ],
   "source": [
    "pd.read_csv(\"data/ex6.csv\", nrows=5)"
   ]
  },
  {
   "cell_type": "markdown",
   "id": "4afc83f1",
   "metadata": {},
   "source": [
    "Để đọc một tệp dữ liệu theo từng phần, hay còn được gọi là đọc theo từng \"chunk\", hãy chỉ định một `chunksize` làm số lượng hàng:"
   ]
  },
  {
   "cell_type": "code",
   "execution_count": 36,
   "id": "7812644f",
   "metadata": {},
   "outputs": [
    {
     "data": {
      "text/plain": [
       "pandas.io.parsers.readers.TextFileReader"
      ]
     },
     "execution_count": 36,
     "metadata": {},
     "output_type": "execute_result"
    }
   ],
   "source": [
    "chunker = pd.read_csv(\"data/ex6.csv\", chunksize=1000)\n",
    "type(chunker)"
   ]
  },
  {
   "cell_type": "markdown",
   "id": "d8ccb498",
   "metadata": {},
   "source": [
    "Đối tượng `TextFileReader` được trả về bởi `pandas.read_csv` cho phép bạn lặp qua các phần của tệp theo kích thước `chunksize`. Ví dụ, chúng ta có thể lặp qua `ex6.csv`, tổng hợp các giá trị trong cột \"key\" như sau:"
   ]
  },
  {
   "cell_type": "code",
   "execution_count": 39,
   "id": "33dbaff4",
   "metadata": {},
   "outputs": [],
   "source": [
    "chunker = pd.read_csv(\"data/ex6.csv\", chunksize=1000)\n",
    "res = pd.Series([], dtype='int64') \n",
    "for piece in chunker:\n",
    "    res = res.add(piece[\"key\"].value_counts(), fill_value=0)\n",
    "res = res.sort_values(ascending=False)"
   ]
  },
  {
   "cell_type": "markdown",
   "id": "ffcf2e57",
   "metadata": {},
   "source": [
    "Sau đó, chúng ta có:"
   ]
  },
  {
   "cell_type": "code",
   "execution_count": 40,
   "id": "8c2e0e6d",
   "metadata": {},
   "outputs": [
    {
     "data": {
      "text/plain": [
       "key\n",
       "M    430.0\n",
       "O    413.0\n",
       "U    413.0\n",
       "A    409.0\n",
       "J    408.0\n",
       "C    404.0\n",
       "V    401.0\n",
       "D    398.0\n",
       "R    395.0\n",
       "S    392.0\n",
       "dtype: float64"
      ]
     },
     "execution_count": 40,
     "metadata": {},
     "output_type": "execute_result"
    }
   ],
   "source": [
    "res[:10]"
   ]
  },
  {
   "cell_type": "markdown",
   "id": "59875330",
   "metadata": {},
   "source": [
    "`TextFileReader` cũng được trang bị phương thức `get_chunk` cho phép bạn đọc các phần có kích thước tùy ý."
   ]
  },
  {
   "cell_type": "markdown",
   "id": "2cfd7e22-0921-403c-81ae-b15a8323cd77",
   "metadata": {},
   "source": [
    "### Ghi dữ liệu vào văn bản\n",
    "<hr>"
   ]
  },
  {
   "cell_type": "markdown",
   "id": "76e41805",
   "metadata": {},
   "source": [
    "Dữ liệu sau khi được xử lý cũng có thể được xuất ra một định dạng văn bản được phân tách. Ví dụ với một data đã được tạo ở trên"
   ]
  },
  {
   "cell_type": "code",
   "execution_count": 41,
   "id": "af082ec3",
   "metadata": {},
   "outputs": [
    {
     "data": {
      "text/html": [
       "<div>\n",
       "<style scoped>\n",
       "    .dataframe tbody tr th:only-of-type {\n",
       "        vertical-align: middle;\n",
       "    }\n",
       "\n",
       "    .dataframe tbody tr th {\n",
       "        vertical-align: top;\n",
       "    }\n",
       "\n",
       "    .dataframe thead th {\n",
       "        text-align: right;\n",
       "    }\n",
       "</style>\n",
       "<table border=\"1\" class=\"dataframe\">\n",
       "  <thead>\n",
       "    <tr style=\"text-align: right;\">\n",
       "      <th></th>\n",
       "      <th>something</th>\n",
       "      <th>a</th>\n",
       "      <th>b</th>\n",
       "      <th>c</th>\n",
       "      <th>d</th>\n",
       "      <th>message</th>\n",
       "    </tr>\n",
       "  </thead>\n",
       "  <tbody>\n",
       "    <tr>\n",
       "      <th>0</th>\n",
       "      <td>one</td>\n",
       "      <td>1</td>\n",
       "      <td>2</td>\n",
       "      <td>3.0</td>\n",
       "      <td>4</td>\n",
       "      <td>NaN</td>\n",
       "    </tr>\n",
       "    <tr>\n",
       "      <th>1</th>\n",
       "      <td>two</td>\n",
       "      <td>5</td>\n",
       "      <td>6</td>\n",
       "      <td>NaN</td>\n",
       "      <td>8</td>\n",
       "      <td>world</td>\n",
       "    </tr>\n",
       "    <tr>\n",
       "      <th>2</th>\n",
       "      <td>three</td>\n",
       "      <td>9</td>\n",
       "      <td>10</td>\n",
       "      <td>11.0</td>\n",
       "      <td>12</td>\n",
       "      <td>foo</td>\n",
       "    </tr>\n",
       "  </tbody>\n",
       "</table>\n",
       "</div>"
      ],
      "text/plain": [
       "  something  a   b     c   d message\n",
       "0       one  1   2   3.0   4     NaN\n",
       "1       two  5   6   NaN   8   world\n",
       "2     three  9  10  11.0  12     foo"
      ]
     },
     "execution_count": 41,
     "metadata": {},
     "output_type": "execute_result"
    }
   ],
   "source": [
    "data = pd.read_csv(\"data/ex5.csv\")\n",
    "data"
   ]
  },
  {
   "cell_type": "markdown",
   "id": "90b1fc86",
   "metadata": {},
   "source": [
    "Phương thức `to_csv` của DataFrame được dùng để ghi dữ liệu ra một tệp được phân tách bằng dấu phẩy:"
   ]
  },
  {
   "cell_type": "code",
   "execution_count": 44,
   "id": "21ce5447",
   "metadata": {},
   "outputs": [],
   "source": [
    "data.to_csv(\"data/out.csv\")"
   ]
  },
  {
   "cell_type": "code",
   "execution_count": 45,
   "id": "037ab702",
   "metadata": {},
   "outputs": [
    {
     "name": "stdout",
     "output_type": "stream",
     "text": [
      "|something|a|b|c|d|message\n",
      "0|one|1|2|3.0|4|\n",
      "1|two|5|6||8|world\n",
      "2|three|9|10|11.0|12|foo\n",
      "\n"
     ]
    }
   ],
   "source": [
    "# !cat examples/out.csv\n",
    "with open(\"data/out.csv\", \"r\") as f:\n",
    "    print(f.read())"
   ]
  },
  {
   "cell_type": "markdown",
   "id": "dae90ff0",
   "metadata": {},
   "source": [
    "Các ký tự phân tách khác dấy phẩy cũng có thể được sử dụng bằng cách sử dụng tham số `sep`"
   ]
  },
  {
   "cell_type": "code",
   "execution_count": null,
   "id": "c7e30998",
   "metadata": {},
   "outputs": [],
   "source": [
    "data.to_csv(\"data/out.csv\", sep = \"|\")"
   ]
  },
  {
   "cell_type": "code",
   "execution_count": null,
   "id": "2a1d2baf-19bd-43df-ad0e-331b1496f4f6",
   "metadata": {},
   "outputs": [],
   "source": [
    "# !cat examples/out.csv\n",
    "with open(\"data/out.csv\", \"r\") as f:\n",
    "    print(f.read())"
   ]
  },
  {
   "cell_type": "markdown",
   "id": "d441c7e2",
   "metadata": {},
   "source": [
    "Các giá trị bị thiếu xuất hiện dưới dạng rỗng trong văn bản đầu ra. Bạn có thể muốn biểu thị chúng bằng một số giá trị khác bằng cách sử dụng tham số `na_rep`"
   ]
  },
  {
   "cell_type": "code",
   "execution_count": null,
   "id": "515571db",
   "metadata": {},
   "outputs": [],
   "source": [
    "data.to_csv(sys.stdout, na_rep=\"NULL\")"
   ]
  },
  {
   "cell_type": "markdown",
   "id": "3bdeafa2",
   "metadata": {},
   "source": [
    "Nếu không có các tùy chọn khác được chỉ định, cả chỉ số hàng và cột đều được ghi. Nếu không muốn ghi chỉ số hàng và cột, hãy sửa dụng các tham số `index` và `header`"
   ]
  },
  {
   "cell_type": "code",
   "execution_count": null,
   "id": "3da5a6a1",
   "metadata": {},
   "outputs": [],
   "source": [
    "data.to_csv(sys.stdout, index=False, header=False)"
   ]
  },
  {
   "cell_type": "markdown",
   "id": "5799d6d3",
   "metadata": {},
   "source": [
    "### Dữ liệu JSON\n",
    "\n",
    "JSON (viết tắt của JavaScript Object Notation) đã trở thành một trong những định dạng chuẩn để gửi dữ liệu bằng các yêu cầu HTTP giữa các trình duyệt web và các ứng dụng khác. Đây là một định dạng dữ liệu tự do hơn nhiều so với định dạng văn bản dạng bảng như CSV. Đây là một ví dụ:"
   ]
  },
  {
   "cell_type": "code",
   "execution_count": 52,
   "id": "a9cd6bad",
   "metadata": {},
   "outputs": [],
   "source": [
    "obj = \"\"\"{\n",
    "    \"name\": \"Wes\",\n",
    "    \"cities_lived\": [\"Akron\", \"Nashville\", \"New York\", \"San Francisco\"],\n",
    "    \"pet\": null,\n",
    "    \"siblings\": [{\n",
    "        \"name\": \"Scott\",\n",
    "        \"age\": 34, \n",
    "        \"hobbies\": [\"guitars\", \"soccer\"]\n",
    "    }, {\n",
    "        \"name\": \"Katie\",\n",
    "        \"age\": 42,\n",
    "        \"hobbies\": [\"diving\", \"art\"]\n",
    "    }]\n",
    "} \"\"\""
   ]
  },
  {
   "cell_type": "markdown",
   "id": "4853b57c",
   "metadata": {},
   "source": [
    "Biểu diễn dữ liệu JSON rất gần với ngôn ngữ Python hợp lệ ngoại trừ giá trị `null` và một số sắc thái khác, chẳng hạn như không cho phép dấu phẩy ở cuối danh sách. Các kiểu cơ bản là đối tượng (từ điển), mảng (danh sách), chuỗi, số, boolean và null. Tất cả các khóa trong một đối tượng phải là chuỗi. Có một số thư viện Python để đọc và ghi dữ liệu JSON. Chúng ta sẽ sử dụng thư viện `json` đã được tích hợp sẵn vào thư viện chuẩn Python.\n",
    "\n",
    "Để chuyển đổi một chuỗi JSON thành dạng Python, hãy sử dụng `json.loads`:"
   ]
  },
  {
   "cell_type": "code",
   "execution_count": 53,
   "id": "870f7bf9",
   "metadata": {},
   "outputs": [
    {
     "data": {
      "text/plain": [
       "{'name': 'Wes',\n",
       " 'cities_lived': ['Akron', 'Nashville', 'New York', 'San Francisco'],\n",
       " 'pet': None,\n",
       " 'siblings': [{'name': 'Scott', 'age': 34, 'hobbies': ['guitars', 'soccer']},\n",
       "  {'name': 'Katie', 'age': 42, 'hobbies': ['diving', 'art']}]}"
      ]
     },
     "execution_count": 53,
     "metadata": {},
     "output_type": "execute_result"
    }
   ],
   "source": [
    "import json\n",
    "result = json.loads(obj)\n",
    "result"
   ]
  },
  {
   "cell_type": "markdown",
   "id": "a8747191",
   "metadata": {},
   "source": [
    "`json.dumps`, ngược lại, chuyển đổi một đối tượng Python trở lại thành JSON:"
   ]
  },
  {
   "cell_type": "code",
   "execution_count": 54,
   "id": "889e17a6",
   "metadata": {},
   "outputs": [
    {
     "data": {
      "text/plain": [
       "'{\"name\": \"Wes\", \"cities_lived\": [\"Akron\", \"Nashville\", \"New York\", \"San Francisco\"], \"pet\": null, \"siblings\": [{\"name\": \"Scott\", \"age\": 34, \"hobbies\": [\"guitars\", \"soccer\"]}, {\"name\": \"Katie\", \"age\": 42, \"hobbies\": [\"diving\", \"art\"]}]}'"
      ]
     },
     "execution_count": 54,
     "metadata": {},
     "output_type": "execute_result"
    }
   ],
   "source": [
    "asjson = json.dumps(result)\n",
    "asjson"
   ]
  },
  {
   "cell_type": "markdown",
   "id": "1a7d89cb",
   "metadata": {},
   "source": [
    "Cách bạn chuyển đổi một đối tượng JSON hoặc danh sách các đối tượng thành DataFrame hoặc một cấu trúc dữ liệu khác cho phân tích sẽ tùy thuộc vào bạn. Một cách thuận tiện là truyền một danh sách các từ điển (trước đây là các đối tượng JSON) cho hàm tạo DataFrame và chọn một tập hợp con các trường dữ liệu:"
   ]
  },
  {
   "cell_type": "code",
   "execution_count": 55,
   "id": "31d8ba9f",
   "metadata": {},
   "outputs": [
    {
     "data": {
      "text/html": [
       "<div>\n",
       "<style scoped>\n",
       "    .dataframe tbody tr th:only-of-type {\n",
       "        vertical-align: middle;\n",
       "    }\n",
       "\n",
       "    .dataframe tbody tr th {\n",
       "        vertical-align: top;\n",
       "    }\n",
       "\n",
       "    .dataframe thead th {\n",
       "        text-align: right;\n",
       "    }\n",
       "</style>\n",
       "<table border=\"1\" class=\"dataframe\">\n",
       "  <thead>\n",
       "    <tr style=\"text-align: right;\">\n",
       "      <th></th>\n",
       "      <th>name</th>\n",
       "      <th>age</th>\n",
       "    </tr>\n",
       "  </thead>\n",
       "  <tbody>\n",
       "    <tr>\n",
       "      <th>0</th>\n",
       "      <td>Scott</td>\n",
       "      <td>34</td>\n",
       "    </tr>\n",
       "    <tr>\n",
       "      <th>1</th>\n",
       "      <td>Katie</td>\n",
       "      <td>42</td>\n",
       "    </tr>\n",
       "  </tbody>\n",
       "</table>\n",
       "</div>"
      ],
      "text/plain": [
       "    name  age\n",
       "0  Scott   34\n",
       "1  Katie   42"
      ]
     },
     "execution_count": 55,
     "metadata": {},
     "output_type": "execute_result"
    }
   ],
   "source": [
    "siblings = pd.DataFrame(result[\"siblings\"], columns=[\"name\", \"age\"])\n",
    "siblings"
   ]
  },
  {
   "cell_type": "markdown",
   "id": "cb28c325",
   "metadata": {},
   "source": [
    "Hàm `pandas.read_json` có thể tự động chuyển đổi các tập dữ liệu JSON theo một số cách sắp xếp cụ thể thành Series hoặc DataFrame. Ví dụ:"
   ]
  },
  {
   "cell_type": "code",
   "execution_count": 56,
   "id": "6628d2a4",
   "metadata": {},
   "outputs": [
    {
     "name": "stdout",
     "output_type": "stream",
     "text": [
      "[{\"a\": 1, \"b\": 2, \"c\": 3},\n",
      " {\"a\": 4, \"b\": 5, \"c\": 6},\n",
      " {\"a\": 7, \"b\": 8, \"c\": 9}]\n"
     ]
    }
   ],
   "source": [
    "# !cat examples/example.json\n",
    "print('[{\"a\": 1, \"b\": 2, \"c\": 3},\\n {\"a\": 4, \"b\": 5, \"c\": 6},\\n {\"a\": 7, \"b\": 8, \"c\": 9}]')\n",
    "\n",
    "# Tạo tệp example.json giả lập\n",
    "with open(\"data/example.json\", \"w\") as f:\n",
    "    f.write('[{\"a\": 1, \"b\": 2, \"c\": 3},\\n {\"a\": 4, \"b\": 5, \"c\": 6},\\n {\"a\": 7, \"b\": 8, \"c\": 9}]')"
   ]
  },
  {
   "cell_type": "markdown",
   "id": "adcaa520",
   "metadata": {},
   "source": [
    "Các tùy chọn mặc định cho `pandas.read_json` giả định rằng mỗi đối tượng trong mảng JSON là một hàng trong bảng:"
   ]
  },
  {
   "cell_type": "code",
   "execution_count": 57,
   "id": "88e4ae58",
   "metadata": {},
   "outputs": [
    {
     "data": {
      "text/html": [
       "<div>\n",
       "<style scoped>\n",
       "    .dataframe tbody tr th:only-of-type {\n",
       "        vertical-align: middle;\n",
       "    }\n",
       "\n",
       "    .dataframe tbody tr th {\n",
       "        vertical-align: top;\n",
       "    }\n",
       "\n",
       "    .dataframe thead th {\n",
       "        text-align: right;\n",
       "    }\n",
       "</style>\n",
       "<table border=\"1\" class=\"dataframe\">\n",
       "  <thead>\n",
       "    <tr style=\"text-align: right;\">\n",
       "      <th></th>\n",
       "      <th>a</th>\n",
       "      <th>b</th>\n",
       "      <th>c</th>\n",
       "    </tr>\n",
       "  </thead>\n",
       "  <tbody>\n",
       "    <tr>\n",
       "      <th>0</th>\n",
       "      <td>1</td>\n",
       "      <td>2</td>\n",
       "      <td>3</td>\n",
       "    </tr>\n",
       "    <tr>\n",
       "      <th>1</th>\n",
       "      <td>4</td>\n",
       "      <td>5</td>\n",
       "      <td>6</td>\n",
       "    </tr>\n",
       "    <tr>\n",
       "      <th>2</th>\n",
       "      <td>7</td>\n",
       "      <td>8</td>\n",
       "      <td>9</td>\n",
       "    </tr>\n",
       "  </tbody>\n",
       "</table>\n",
       "</div>"
      ],
      "text/plain": [
       "   a  b  c\n",
       "0  1  2  3\n",
       "1  4  5  6\n",
       "2  7  8  9"
      ]
     },
     "execution_count": 57,
     "metadata": {},
     "output_type": "execute_result"
    }
   ],
   "source": [
    "data = pd.read_json(\"data/example.json\")\n",
    "data"
   ]
  },
  {
   "cell_type": "markdown",
   "id": "9a7e6183",
   "metadata": {},
   "source": [
    "Chúng ta sẽ thực hành nhiều hơn với dữ liệu dạng JSON trong phần phân tích dữ liệu của cuốn sách này."
   ]
  },
  {
   "cell_type": "markdown",
   "id": "fc8a9b91-6223-4401-9416-aa429ef6abeb",
   "metadata": {},
   "source": [
    "## Thu thập dữ liệu web\n",
    "<hr>"
   ]
  },
  {
   "cell_type": "markdown",
   "id": "daed7b48",
   "metadata": {},
   "source": [
    "Python có nhiều thư viện để đọc và ghi dữ liệu ở các định dạng HTML và XML phổ biến. Điển hình có thể kể đến `lxml`, `Beautiful Soup` và `html5lib`. Trong khi `lxml` thường nhanh hơn đáng kể trong việc phân tích cú pháp các tệp XML và HTML rất lớn, các thư viện khác như `Beautiful Soup` và `html5lib` có thể xử lý tốt hơn các tệp HTML hoặc XML bị lỗi.\n",
    "\n",
    "`pandas` sử dụng hàm `pandas.read_html` để tự động phân tích cú pháp các bảng từ các tệp HTML và cố gắng chuyển thành các đối tượng DataFrame. Trước  tiên, bạn đọc phải cài đặt một số thư viện bổ sung được sử dụng bởi `read_html`:"
   ]
  },
  {
   "cell_type": "code",
   "execution_count": null,
   "id": "d480f1d0",
   "metadata": {},
   "outputs": [],
   "source": [
    "# conda install lxml beautifulsoup4 html5lib\n",
    "# Nếu bạn không dùng conda, pip install lxml beautifulsoup4 html5lib cũng sẽ hoạt động."
   ]
  },
  {
   "cell_type": "markdown",
   "id": "fef819b6",
   "metadata": {},
   "source": [
    "Hàm `pandas.read_html` có một số tùy chọn, nhưng hàm sẽ mặc định tìm kiếm và cố gắng phân tích cú pháp tất cả dữ liệu dạng bảng chứa trong các thẻ `<table>`. Hãy quan sát ví dụ sau:"
   ]
  },
  {
   "cell_type": "code",
   "execution_count": 65,
   "id": "a72718ed",
   "metadata": {},
   "outputs": [
    {
     "data": {
      "text/plain": [
       "1"
      ]
     },
     "execution_count": 65,
     "metadata": {},
     "output_type": "execute_result"
    }
   ],
   "source": [
    "# Tạo tệp fdic_failed_bank_list.html giả lập \n",
    "# Nội dung thực tế của tệp này khá dài, đây là phiên bản rút gọn với cấu trúc tương tự\n",
    "html_content = \"\"\"\n",
    "<table>\n",
    "  <thead>\n",
    "    <tr>\n",
    "      <th>Bank Name</th>\n",
    "      <th>City</th>\n",
    "      <th>ST</th>\n",
    "      <th>CERT</th>\n",
    "      <th>Acquiring Institution</th>\n",
    "      <th>Closing Date</th>\n",
    "      <th>Updated Date</th>\n",
    "    </tr>\n",
    "  </thead>\n",
    "  <tbody>\n",
    "    <tr>\n",
    "      <td>Allied Bank</td>\n",
    "      <td>Mulberry</td>\n",
    "      <td>AR</td>\n",
    "      <td>91</td>\n",
    "      <td>Today's Bank</td>\n",
    "      <td>September 23, 2016</td>\n",
    "      <td>November 17, 2016</td>\n",
    "    </tr>\n",
    "    <tr>\n",
    "      <td>The Woodbury Banking Company</td>\n",
    "      <td>Woodbury</td>\n",
    "      <td>GA</td>\n",
    "      <td>11297</td>\n",
    "      <td>United Bank</td>\n",
    "      <td>August 19, 2016</td>\n",
    "      <td>November 17, 2016</td>\n",
    "    </tr>\n",
    "  </tbody>\n",
    "</table>\n",
    "\"\"\"\n",
    "import os\n",
    "if not os.path.exists(\"examples\"):\n",
    "    os.makedirs(\"examples\")\n",
    "with open(\"examples/fdic_failed_bank_list.html\", \"w\") as f:\n",
    "    f.write(html_content)\n",
    "\n",
    "tables = pd.read_html(\"examples/fdic_failed_bank_list.html\")\n",
    "len(tables)"
   ]
  },
  {
   "cell_type": "code",
   "execution_count": 66,
   "id": "c2847935",
   "metadata": {},
   "outputs": [
    {
     "data": {
      "text/html": [
       "<div>\n",
       "<style scoped>\n",
       "    .dataframe tbody tr th:only-of-type {\n",
       "        vertical-align: middle;\n",
       "    }\n",
       "\n",
       "    .dataframe tbody tr th {\n",
       "        vertical-align: top;\n",
       "    }\n",
       "\n",
       "    .dataframe thead th {\n",
       "        text-align: right;\n",
       "    }\n",
       "</style>\n",
       "<table border=\"1\" class=\"dataframe\">\n",
       "  <thead>\n",
       "    <tr style=\"text-align: right;\">\n",
       "      <th></th>\n",
       "      <th>Bank Name</th>\n",
       "      <th>City</th>\n",
       "      <th>ST</th>\n",
       "      <th>CERT</th>\n",
       "      <th>Acquiring Institution</th>\n",
       "      <th>Closing Date</th>\n",
       "      <th>Updated Date</th>\n",
       "    </tr>\n",
       "  </thead>\n",
       "  <tbody>\n",
       "    <tr>\n",
       "      <th>0</th>\n",
       "      <td>Allied Bank</td>\n",
       "      <td>Mulberry</td>\n",
       "      <td>AR</td>\n",
       "      <td>91</td>\n",
       "      <td>Today's Bank</td>\n",
       "      <td>September 23, 2016</td>\n",
       "      <td>November 17, 2016</td>\n",
       "    </tr>\n",
       "    <tr>\n",
       "      <th>1</th>\n",
       "      <td>The Woodbury Banking Company</td>\n",
       "      <td>Woodbury</td>\n",
       "      <td>GA</td>\n",
       "      <td>11297</td>\n",
       "      <td>United Bank</td>\n",
       "      <td>August 19, 2016</td>\n",
       "      <td>November 17, 2016</td>\n",
       "    </tr>\n",
       "  </tbody>\n",
       "</table>\n",
       "</div>"
      ],
      "text/plain": [
       "                      Bank Name      City  ST   CERT Acquiring Institution  \\\n",
       "0                   Allied Bank  Mulberry  AR     91          Today's Bank   \n",
       "1  The Woodbury Banking Company  Woodbury  GA  11297           United Bank   \n",
       "\n",
       "         Closing Date       Updated Date  \n",
       "0  September 23, 2016  November 17, 2016  \n",
       "1     August 19, 2016  November 17, 2016  "
      ]
     },
     "execution_count": 66,
     "metadata": {},
     "output_type": "execute_result"
    }
   ],
   "source": [
    "failures = tables[0]\n",
    "failures.head()"
   ]
  },
  {
   "cell_type": "markdown",
   "id": "af336dd1",
   "metadata": {},
   "source": [
    "Như bạn sẽ học trong các chương về xử lý và phân tích dữ liệu, từ đây chúng ta có thể tiến hành một số tính toán, chẳng hạn như số lượng ngân hàng phá sản theo năm:"
   ]
  },
  {
   "cell_type": "code",
   "execution_count": 67,
   "id": "8bbc91d5",
   "metadata": {},
   "outputs": [
    {
     "data": {
      "text/plain": [
       "Closing Date\n",
       "2016    2\n",
       "Name: count, dtype: int64"
      ]
     },
     "execution_count": 67,
     "metadata": {},
     "output_type": "execute_result"
    }
   ],
   "source": [
    "close_timestamps = pd.to_datetime(failures[\"Closing Date\"])\n",
    "close_timestamps.dt.year.value_counts()"
   ]
  },
  {
   "cell_type": "markdown",
   "id": "81b5c3c6",
   "metadata": {},
   "source": [
    "## Đọc dữ liệu từ Microsoft Excel\n",
    "\n",
    "`pandas` cũng hỗ trợ đọc dữ liệu dạng bảng được lưu trữ trong các tệp Excel từ phiên bản 2003 bằng cách sử dụng `pandas.ExcelFile` hoặc `pandas.read_excel`. Bên trong, các công cụ này sử dụng các thư viện bổ trợ `xlrd` và `openpyxl` để đọc các tệp XLS kiểu cũ và XLSX mới hơn, tương ứng. Các gói này phải được cài đặt riêng biệt với `pandas`"
   ]
  },
  {
   "cell_type": "code",
   "execution_count": 68,
   "id": "540d40e6",
   "metadata": {},
   "outputs": [
    {
     "name": "stdout",
     "output_type": "stream",
     "text": [
      "Collecting openpyxl\n",
      "  Downloading openpyxl-3.1.5-py2.py3-none-any.whl.metadata (2.5 kB)\n",
      "Collecting xlrd\n",
      "  Downloading xlrd-2.0.1-py2.py3-none-any.whl.metadata (3.4 kB)\n",
      "Collecting et-xmlfile (from openpyxl)\n",
      "  Downloading et_xmlfile-2.0.0-py3-none-any.whl.metadata (2.7 kB)\n",
      "Downloading openpyxl-3.1.5-py2.py3-none-any.whl (250 kB)\n",
      "Downloading xlrd-2.0.1-py2.py3-none-any.whl (96 kB)\n",
      "Downloading et_xmlfile-2.0.0-py3-none-any.whl (18 kB)\n",
      "Installing collected packages: xlrd, et-xmlfile, openpyxl\n",
      "Successfully installed et-xmlfile-2.0.0 openpyxl-3.1.5 xlrd-2.0.1\n"
     ]
    },
    {
     "name": "stderr",
     "output_type": "stream",
     "text": [
      "\n",
      "[notice] A new release of pip is available: 24.3.1 -> 25.1.1\n",
      "[notice] To update, run: python.exe -m pip install --upgrade pip\n"
     ]
    }
   ],
   "source": [
    "## !pip install openpyxl xlrd"
   ]
  },
  {
   "cell_type": "markdown",
   "id": "ad8cf8c6",
   "metadata": {},
   "source": [
    "Để sử dụng `pandas.ExcelFile`, hãy tạo một ví dụ:"
   ]
  },
  {
   "cell_type": "code",
   "execution_count": 69,
   "id": "5cbabd56",
   "metadata": {},
   "outputs": [
    {
     "name": "stdout",
     "output_type": "stream",
     "text": [
      "['Sheet1']\n"
     ]
    }
   ],
   "source": [
    "# Tạo tệp ex1.xlsx giả lập\n",
    "df_to_excel = pd.DataFrame({\n",
    "    'Unnamed: 0': [0, 1, 2],\n",
    "    'a': [1, 5, 9],\n",
    "    'b': [2, 6, 10],\n",
    "    'c': [3, 7, 11],\n",
    "    'd': [4, 8, 12],\n",
    "    'message': ['hello', 'world', 'foo']\n",
    "})\n",
    "try:\n",
    "    df_to_excel.to_excel(\"data/ex1.xlsx\", sheet_name=\"Sheet1\", index=False)\n",
    "    xlsx = pd.ExcelFile(\"data/ex1.xlsx\")\n",
    "except ImportError:\n",
    "    xlsx = None\n",
    "    print(\"Thư viện openpyxl chưa được cài đặt. Bỏ qua ví dụ Excel.\")\n",
    "\n",
    "if xlsx:\n",
    "    print(xlsx.sheet_names)"
   ]
  },
  {
   "cell_type": "markdown",
   "id": "293836b5",
   "metadata": {},
   "source": [
    "Dữ liệu được lưu trữ trong một trang tính sau đó có thể được đọc vào DataFrame bằng `parse`:"
   ]
  },
  {
   "cell_type": "code",
   "execution_count": 70,
   "id": "12fe902c",
   "metadata": {},
   "outputs": [
    {
     "name": "stdout",
     "output_type": "stream",
     "text": [
      "   Unnamed: 0  a   b   c   d message\n",
      "0           0  1   2   3   4   hello\n",
      "1           1  5   6   7   8   world\n",
      "2           2  9  10  11  12     foo\n"
     ]
    }
   ],
   "source": [
    "if xlsx:\n",
    "    print(xlsx.parse(sheet_name=\"Sheet1\"))"
   ]
  },
  {
   "cell_type": "markdown",
   "id": "5ec050d1",
   "metadata": {},
   "source": [
    "Bảng Excel này có một cột chỉ số, vì vậy chúng ta có thể chỉ định bằng tham số `index_col`:"
   ]
  },
  {
   "cell_type": "code",
   "execution_count": 71,
   "id": "2bd1b9a0",
   "metadata": {},
   "outputs": [
    {
     "name": "stdout",
     "output_type": "stream",
     "text": [
      "            a   b   c   d message\n",
      "Unnamed: 0                       \n",
      "0           1   2   3   4   hello\n",
      "1           5   6   7   8   world\n",
      "2           9  10  11  12     foo\n"
     ]
    }
   ],
   "source": [
    "if xlsx:\n",
    "    # Đọc lại với index_col, tệp gốc ex1.xlsx không có cột chỉ mục rõ ràng là cột 0\n",
    "    # để khớp với output của sách, chúng ta sẽ đọc lại tệp đã tạo\n",
    "    # và giả sử cột 'Unnamed: 0' là chỉ mục mong muốn\n",
    "    frame_excel_indexed = xlsx.parse(sheet_name=\"Sheet1\", index_col=0)\n",
    "    print(frame_excel_indexed)"
   ]
  },
  {
   "cell_type": "markdown",
   "id": "828239e0",
   "metadata": {},
   "source": [
    "Nếu bạn đang đọc nhiều trang tính trong một tệp, thì việc tạo `pandas.ExcelFile` sẽ nhanh hơn. Trong trường hợp bạn chỉ làm việc trên 1 trang tính cụ thể, bạn có thể sử dụng `pandas.read_excel`:"
   ]
  },
  {
   "cell_type": "code",
   "execution_count": 72,
   "id": "2feb3bfb",
   "metadata": {},
   "outputs": [
    {
     "name": "stdout",
     "output_type": "stream",
     "text": [
      "   Unnamed: 0  a   b   c   d message\n",
      "0           0  1   2   3   4   hello\n",
      "1           1  5   6   7   8   world\n",
      "2           2  9  10  11  12     foo\n"
     ]
    }
   ],
   "source": [
    "if xlsx: # Kiểm tra xem xlsx có được khởi tạo không\n",
    "    frame = pd.read_excel(\"data/ex1.xlsx\", sheet_name=\"Sheet1\")\n",
    "    print(frame)"
   ]
  },
  {
   "cell_type": "markdown",
   "id": "320a46d7",
   "metadata": {},
   "source": [
    "Để lưu dữ liệu `pandas` vào định dạng Excel, trước tiên bạn phải tạo một `ExcelWriter`, sau đó ghi dữ liệu vào đó bằng phương thức `to_excel`:"
   ]
  },
  {
   "cell_type": "code",
   "execution_count": 75,
   "id": "d4912cbb",
   "metadata": {},
   "outputs": [
    {
     "name": "stderr",
     "output_type": "stream",
     "text": [
      "C:\\Users\\AD\\AppData\\Local\\Temp\\ipykernel_23328\\253195818.py:4: FutureWarning: Starting with pandas version 3.0 all arguments of to_excel except for the argument 'excel_writer' will be keyword-only.\n",
      "  frame.to_excel(writer, \"Sheet1\")\n"
     ]
    }
   ],
   "source": [
    "if xlsx: # Sử dụng frame từ ô trước\n",
    "    try:\n",
    "        writer = pd.ExcelWriter(\"data/ex2.xlsx\")\n",
    "        frame.to_excel(writer, \"Sheet1\")\n",
    "        writer.close() # Sách gốc dùng writer.save() nhưng API mới hơn có thể dùng close()\n",
    "    except ImportError:\n",
    "        print(\"Thư viện openpyxl chưa được cài đặt để ghi Excel.\")"
   ]
  },
  {
   "cell_type": "markdown",
   "id": "b04b0b45",
   "metadata": {},
   "source": [
    "Bạn cũng có thể truyền đường dẫn tệp cho `to_excel` và tránh dùng `ExcelWriter`:"
   ]
  },
  {
   "cell_type": "code",
   "execution_count": 76,
   "id": "53b27ef5",
   "metadata": {},
   "outputs": [],
   "source": [
    "if xlsx: # Sử dụng frame từ ô trước\n",
    "    try:\n",
    "        frame.to_excel(\"data/ex2.xlsx\")\n",
    "    except ImportError:\n",
    "        print(\"Thư viện openpyxl chưa được cài đặt để ghi Excel.\")"
   ]
  },
  {
   "cell_type": "markdown",
   "id": "d82eb332-6e19-46aa-b975-42c9c28761be",
   "metadata": {},
   "source": [
    "## Tương tác với API Web\n",
    "<hr>"
   ]
  },
  {
   "cell_type": "markdown",
   "id": "34556a5e",
   "metadata": {},
   "source": [
    "Nhiều trang web có các API công khai cung cấp nguồn cấp dữ liệu qua JSON hoặc một số định dạng khác. Có một số cách để truy cập các API này từ Python; một phương pháp mà bạn đọc nên dùng là sử dụng thư viện `requests`"
   ]
  },
  {
   "cell_type": "code",
   "execution_count": 77,
   "id": "90d17342",
   "metadata": {},
   "outputs": [
    {
     "name": "stdout",
     "output_type": "stream",
     "text": [
      "Requirement already satisfied: requests in c:\\users\\ad\\appdata\\local\\programs\\python\\python313\\lib\\site-packages (2.32.3)\n",
      "Requirement already satisfied: charset-normalizer<4,>=2 in c:\\users\\ad\\appdata\\local\\programs\\python\\python313\\lib\\site-packages (from requests) (3.4.1)\n",
      "Requirement already satisfied: idna<4,>=2.5 in c:\\users\\ad\\appdata\\local\\programs\\python\\python313\\lib\\site-packages (from requests) (3.10)\n",
      "Requirement already satisfied: urllib3<3,>=1.21.1 in c:\\users\\ad\\appdata\\local\\programs\\python\\python313\\lib\\site-packages (from requests) (2.3.0)\n",
      "Requirement already satisfied: certifi>=2017.4.17 in c:\\users\\ad\\appdata\\local\\programs\\python\\python313\\lib\\site-packages (from requests) (2025.1.31)\n"
     ]
    },
    {
     "name": "stderr",
     "output_type": "stream",
     "text": [
      "\n",
      "[notice] A new release of pip is available: 24.3.1 -> 25.1.1\n",
      "[notice] To update, run: python.exe -m pip install --upgrade pip\n"
     ]
    }
   ],
   "source": [
    "#!pip install requests"
   ]
  },
  {
   "cell_type": "markdown",
   "id": "d55235e1",
   "metadata": {},
   "source": [
    "Dưới đây là một ví dụ về truy cập dữ liệu về các tỉnh thành, huyện, thị xã, xã tại Việt Nam. "
   ]
  },
  {
   "cell_type": "code",
   "execution_count": null,
   "id": "f31b8400",
   "metadata": {},
   "outputs": [],
   "source": [
    "import requests\n",
    "\n",
    "# Lấy dữ liệu tất cả tỉnh\n",
    "resp = requests.get(\"https://provinces.open-api.vn/api/p/\")\n",
    "resp.raise_for_status()\n",
    "provinces = pd.DataFrame(resp.json())\n",
    "provinces"
   ]
  },
  {
   "cell_type": "markdown",
   "id": "e06c28ec",
   "metadata": {},
   "source": [
    "Sau khi có code của các tỉnh, chúng ta có thể truy cập vào các đơn vị huyện, thị xã của tỉnh. Chẳng hạn như các quận huyện của Hà Nội"
   ]
  },
  {
   "cell_type": "code",
   "execution_count": null,
   "id": "f7e8842e",
   "metadata": {},
   "outputs": [],
   "source": [
    "# Lấy dữ liệu tỉnh Hà Nội (code=01) bao gồm quận/huyện\n",
    "resp2 = requests.get(\"https://provinces.open-api.vn/api/p/01?depth=2\")\n",
    "resp2.raise_for_status()\n",
    "hanoi = resp2.json()\n",
    "hanoi = pd.DataFrame(hanoi[\"districts\"])\n",
    "hanoi"
   ]
  },
  {
   "cell_type": "markdown",
   "id": "3149a76f",
   "metadata": {},
   "source": [
    "Sau cùng là thông tin về các phường của quận Ba Đình"
   ]
  },
  {
   "cell_type": "code",
   "execution_count": 142,
   "id": "a102cb15",
   "metadata": {},
   "outputs": [
    {
     "name": "stdout",
     "output_type": "stream",
     "text": [
      "    code               name\n",
      "0      1     Phường Phúc Xá\n",
      "1      4   Phường Trúc Bạch\n",
      "2      6   Phường Vĩnh Phúc\n",
      "3      7     Phường Cống Vị\n",
      "4      8   Phường Liễu Giai\n",
      "5     13  Phường Quán Thánh\n",
      "6     16     Phường Ngọc Hà\n",
      "7     19   Phường Điện Biên\n",
      "8     22     Phường Đội Cấn\n",
      "9     25  Phường Ngọc Khánh\n",
      "10    28      Phường Kim Mã\n",
      "11    31    Phường Giảng Võ\n",
      "12    34  Phường Thành Công\n"
     ]
    }
   ],
   "source": [
    "# Bước 3: Lấy phường thuộc Quận Ba Đình (code = 1)\n",
    "url_ba_dinh = \"https://provinces.open-api.vn/api/d/1?depth=2\"\n",
    "ba_dinh_data = requests.get(url_ba_dinh).json()\n",
    "\n",
    "# Đưa vào DataFrame\n",
    "df_wards = pd.DataFrame(ba_dinh_data['wards'])\n",
    "print(df_wards[['code', 'name']])"
   ]
  },
  {
   "cell_type": "markdown",
   "id": "1169b12f-4dd7-40ee-b403-76a8c9f308ed",
   "metadata": {},
   "source": [
    "## Tương tác với cơ sở dữ liệu\n",
    "<hr>"
   ]
  },
  {
   "cell_type": "markdown",
   "id": "ade5d8b2",
   "metadata": {},
   "source": [
    "Trong môi trường kinh doanh, nhiều dữ liệu có thể không được lưu trữ trong các tệp văn bản hoặc Excel. Các cơ sở dữ liệu quan hệ dựa trên SQL (chẳng hạn như SQL Server, PostgreSQL và MySQL) được sử dụng rộng rãi, và nhiều cơ sở dữ liệu thay thế đã trở nên khá phổ biến. Việc lựa chọn cơ sở dữ liệu thường phụ thuộc vào hiệu suất, tính toàn vẹn dữ liệu và nhu cầu mở rộng của một ứng dụng.\n",
    "\n",
    "`pandas` có một số hàm để đơn giản hóa việc tải kết quả của một truy vấn SQL vào DataFrame. Ví dụ, tôi sẽ tạo một cơ sở dữ liệu SQLite3 bằng trình điều khiển `sqlite3` tích hợp sẵn của Python:"
   ]
  },
  {
   "cell_type": "code",
   "execution_count": null,
   "id": "dec0b7fe",
   "metadata": {},
   "outputs": [],
   "source": [
    "import sqlite3\n",
    "\n",
    "query = \"\"\"\n",
    "CREATE TABLE test\n",
    "(a VARCHAR(20), b VARCHAR(20),\n",
    " c REAL,        d INTEGER\n",
    ");\"\"\"\n",
    "\n",
    "con = sqlite3.connect(\"mydata.sqlite\")\n",
    "try:\n",
    "    con.execute(query)\n",
    "    con.commit()\n",
    "except sqlite3.OperationalError as e:\n",
    "    print(f\"Lỗi khi tạo bảng (có thể bảng đã tồn tại): {e}\")"
   ]
  },
  {
   "cell_type": "markdown",
   "id": "b51eced2",
   "metadata": {},
   "source": [
    "Sau đó, chèn một vài hàng dữ liệu:"
   ]
  },
  {
   "cell_type": "code",
   "execution_count": null,
   "id": "4e94780e",
   "metadata": {},
   "outputs": [],
   "source": [
    "data_sql = [(\"Atlanta\", \"Georgia\", 1.25, 6),\n",
    "            (\"Tallahassee\", \"Florida\", 2.6, 3),\n",
    "            (\"Sacramento\", \"California\", 1.7, 5)]\n",
    "stmt = \"INSERT INTO test VALUES(?, ?, ?, ?)\"\n",
    "\n",
    "try:\n",
    "    con.executemany(stmt, data_sql)\n",
    "    con.commit()\n",
    "except sqlite3.IntegrityError as e:\n",
    "    print(f\"Lỗi khi chèn dữ liệu (có thể dữ liệu đã tồn tại): {e}\")"
   ]
  },
  {
   "cell_type": "markdown",
   "id": "e705e7a0",
   "metadata": {},
   "source": [
    "Hầu hết các trình điều khiển SQL Python trả về một danh sách các tuple khi chọn dữ liệu từ một bảng:"
   ]
  },
  {
   "cell_type": "code",
   "execution_count": null,
   "id": "a77a5dfd",
   "metadata": {},
   "outputs": [],
   "source": [
    "cursor = con.execute(\"SELECT * FROM test\")\n",
    "rows = cursor.fetchall()\n",
    "rows"
   ]
  },
  {
   "cell_type": "markdown",
   "id": "cdef24f7",
   "metadata": {},
   "source": [
    "Bạn có thể truyền danh sách các tuple cho hàm tạo DataFrame, nhưng bạn cũng cần tên cột, chứa trong thuộc tính `description` của con trỏ. Lưu ý rằng đối với SQLite3, mô tả con trỏ chỉ cung cấp tên cột, nhưng đối với một số trình điều khiển cơ sở dữ liệu khác, thông tin cột được cung cấp nhiều hơn:"
   ]
  },
  {
   "cell_type": "code",
   "execution_count": null,
   "id": "05bbf30a",
   "metadata": {},
   "outputs": [],
   "source": [
    "cursor.description"
   ]
  },
  {
   "cell_type": "code",
   "execution_count": null,
   "id": "0731e36d",
   "metadata": {},
   "outputs": [],
   "source": [
    "pd.DataFrame(rows, columns=[x[0] for x in cursor.description])"
   ]
  },
  {
   "cell_type": "markdown",
   "id": "1db25ed4",
   "metadata": {},
   "source": [
    "Đây là khá nhiều công việc xử lý mà bạn không muốn lặp lại mỗi khi truy vấn cơ sở dữ liệu. Dự án SQLAlchemy là một bộ công cụ SQL Python phổ biến giúp trừu tượng hóa nhiều khác biệt phổ biến giữa các cơ sở dữ liệu SQL. pandas có hàm `read_sql` cho phép bạn đọc dữ liệu dễ dàng từ một kết nối SQLAlchemy chung. Bạn có thể cài đặt SQLAlchemy bằng conda như sau:"
   ]
  },
  {
   "cell_type": "code",
   "execution_count": null,
   "id": "2859bdd6",
   "metadata": {},
   "outputs": [],
   "source": [
    "# conda install sqlalchemy"
   ]
  },
  {
   "cell_type": "markdown",
   "id": "45fd9ea5",
   "metadata": {},
   "source": [
    "Bây giờ, chúng ta sẽ kết nối với cùng một cơ sở dữ liệu SQLite bằng SQLAlchemy và đọc dữ liệu từ bảng đã tạo trước đó:"
   ]
  },
  {
   "cell_type": "code",
   "execution_count": null,
   "id": "0a4382fa",
   "metadata": {},
   "outputs": [],
   "source": [
    "try:\n",
    "    import sqlalchemy as sqla\n",
    "    db = sqla.create_engine(\"sqlite:///mydata.sqlite\")\n",
    "    print(pd.read_sql(\"SELECT * FROM test\", db))\n",
    "except ImportError:\n",
    "    print(\"Thư viện SQLAlchemy chưa được cài đặt. Bỏ qua ví dụ SQLAlchemy.\")\n",
    "finally:\n",
    "    con.close() # Đóng kết nối sqlite3 ban đầu\n",
    "    # Xóa tệp sqlite để các lần chạy sau không bị lỗi\n",
    "    if os.path.exists(\"mydata.sqlite\"):\n",
    "        os.remove(\"mydata.sqlite\")"
   ]
  },
  {
   "cell_type": "markdown",
   "id": "567e7897",
   "metadata": {},
   "source": [
    "Nhập dữ liệu thường là bước đầu tiên trong quy trình phân tích dữ liệu. Chúng ta đã xem xét một số công cụ hữu ích trong chương này sẽ giúp bạn bắt đầu. Trong các chương sắp tới, chúng ta sẽ tìm hiểu sâu hơn về xử lý dữ liệu, trực quan hóa dữ liệu, phân tích chuỗi thời gian và các chủ đề khác."
   ]
  }
 ],
 "metadata": {
  "kernelspec": {
   "display_name": "Python 3 (ipykernel)",
   "language": "python",
   "name": "python3"
  },
  "language_info": {
   "codemirror_mode": {
    "name": "ipython",
    "version": 3
   },
   "file_extension": ".py",
   "mimetype": "text/x-python",
   "name": "python",
   "nbconvert_exporter": "python",
   "pygments_lexer": "ipython3",
   "version": "3.13.2"
  }
 },
 "nbformat": 4,
 "nbformat_minor": 5
}
