{
 "cells": [
  {
   "cell_type": "markdown",
   "id": "d4cdef8e-c9ee-4b0a-8c75-dfc198b0e9e0",
   "metadata": {},
   "source": [
    "# Chương 5: Kiến thức cơ bản về NumPy\n",
    "<hr>"
   ]
  },
  {
   "cell_type": "markdown",
   "id": "38d19e18",
   "metadata": {},
   "source": [
    "`NumPy`, là viết tắt của Numerical Python, là một trong những thư viện nền tảng quan trọng nhất cho tính toán số học trong Python. Hầu hết các thư viện tính toán cung cấp các chức năng khoa học, như `SciPy` và `pandas`, đều sử dụng cấu trúc mảng từ `NumPy` làm nền tảng. Mặc dù `pandas` cung cấp các cấu trúc dữ liệu bậc cao phong phú và tiện lợi được xây dựng dựa trên `NumPy`, nhưng trong nhiều trường hợp chúng ta vẫn cần phải làm việc trực tiếp với các mảng `NumPy`.\n",
    "\n",
    "Dưới đây là một số tính năng mà NumPy cung cấp:\n",
    "\n",
    "*   `ndarray`, một đối tượng mảng N-chiều hiệu quả, cung cấp các phép toán **vector hóa** nhanh chóng và khả năng lan truyền linh hoạt.\n",
    "*   Các hàm chuẩn để thực hiện các phép toán trên toàn bộ mảng hoặc trên từng phần tử dữ liệu mà không cần viết vòng lặp.\n",
    "*   Các công cụ để đọc và ghi dữ liệu mảng vào đĩa và làm việc với các tệp được **ánh xạ bộ nhớ** (memory-mapped files).\n",
    "*   Các phép toán đại số tuyến tính, biến đổi Fourier và sinh số ngẫu nhiên.\n",
    "\n",
    "Ngoài các khả năng tính toán mạnh mẽ mà `NumPy` bổ sung cho Python, một trong những mục tiêu chính của thư viện này khi được tạo ra là để giải quyết vấn đề \"hai ngôn ngữ\" của Python. Điều này đề cập đến tình huống mà các nhà phát triển cần viết mã `C` hoặc `Fortran` hiệu suất cao để xử lý một lượng lớn dữ liệu, sau đó đưa các câu lệnh đó vào trong Python để dễ sử dụng. `NumPy` được thiết kế để làm cho việc tính toán trên dữ liệu lớn trở nên hiệu quả trong khi vẫn duy trì được tính dễ sử dụng của Python.\n",
    "\n",
    "Đối với hầu hết các ứng dụng phân tích dữ liệu, mối quan tâm chính đến `NumPy` sẽ tập trung vào các tính năng xử lý mảng của nó, đặc biệt là:\n",
    "\n",
    "*   Chuẩn bị dữ liệu: làm sạch, thao tác, chuẩn hóa, định hình lại, sắp xếp và lọc.\n",
    "*   Phân tích và mô hình hóa dữ liệu: áp dụng các phép toán và hàm thống kê và tổng hợp cho toàn bộ tập dữ liệu hoặc các tập con cụ thể. Các thuật toán học máy thường yêu cầu dữ liệu đầu vào phải ở dạng mảng `NumPy`.\n",
    "*   Mô phỏng: tạo dữ liệu ngẫu nhiên theo các phân phối đã biết và chạy các mô hình mô phỏng trên dữ liệu đó.\n",
    "*   Các loại thuật toán số khác: ví dụ, xử lý tín hiệu và lọc.\n",
    "\n",
    "Mặc dù `NumPy` cung cấp nền tảng tính toán cho nhiều loại ứng dụng khoa học dữ liệu, nhưng bạn đọc sẽ thường sử dụng thư viện `pandas` làm cơ sở cho hầu hết các công việc phân tích dữ liệu, đặc biệt là đối với dữ liệu dạng bảng. `pandas` cũng cung cấp một số chức năng dành riêng cho miền cụ thể hơn, chẳng hạn như xử lý chuỗi thời gian, mà `NumPy` không có. Như vậy, `NumPy` là thành phần quan trọng nhất của hệ sinh thái khoa học dữ liệu Python, nhưng bạn sẽ không nhất thiết phải sử dụng trực tiếp các hàm của `NumPy` mọi lúc.\n",
    "\n",
    "Trong chương này và xuyên suốt cuốn sách, tôi sẽ sử dụng quy ước chuẩn là nhập `NumPy` dưới tên `np`:"
   ]
  },
  {
   "cell_type": "code",
   "execution_count": 2,
   "id": "8f2f5d1d",
   "metadata": {},
   "outputs": [],
   "source": [
    "import numpy as np"
   ]
  },
  {
   "cell_type": "markdown",
   "id": "ba025bd2",
   "metadata": {},
   "source": [
    "Một số người có thể đề xuất không thực hiện `import numpy as np` và thay vào đó thực hiện `from numpy import *`. Thực tế thì không gian tên `numpy` rất lớn và chứa nhiều hàm có tên trùng với các hàm Python tích hợp sẵn (như `min` và `max`). Kết quả có thể dẫn đến các vấn đề khó theo dõi nếu bạn không cẩn thận.\n",
    "\n",
    "Khi bạn thấy `np.some_function`, điều này có nghĩa là một hàm hoặc đối tượng trong không gian tên cấp cao nhất của `NumPy`. Chúng ta sẽ thảo luận chi tiết về một số thành phần chính của `NumPy`, nhưng bạn đọc có thể khám phá không gian tên bằng cách sử dụng IPython hoặc Jupyter với tính năng tự động hoàn thành bằng phím Tab. Ví dụ, nếu bạn nhập `np.<TAB>`, bạn sẽ thấy một danh sách các mô-đun con (như `np.random`, `np.fft`, `np.linalg`, v.v.) và cả các hàm thường được sử dụng."
   ]
  },
  {
   "cell_type": "markdown",
   "id": "4003319c",
   "metadata": {},
   "source": [
    "## Đối tượng `ndarray` của NumPy\n",
    "\n",
    "Một trong những đặc điểm quan trọng của `NumPy` là đối tượng mảng N-chiều, hay `ndarray`. Đây là một đối tượng chứa đa chiều, nhanh chóng và linh hoạt cho các tập dữ liệu lớn trong Python. Các mảng cho phép bạn thực hiện các phép toán toán học trên toàn bộ khối dữ liệu bằng cách sử dụng cú pháp tương tự như các phép toán giữa các phần tử vô hướng (scalar elements). Có rất nhiều điều cần học về các mảng `NumPy`, nhưng chúng ta sẽ bắt đầu với những dạng cơ bản nhất.\n",
    "\n",
    "Để thấy cách các mảng `NumPy` tạo điều kiện cho các phép toán theo batch với cú pháp tối thiểu, trước tiên hãy xem xét một mảng `NumPy` nhỏ. Giả sử chúng ta có một số dữ liệu trong một danh sách Python:"
   ]
  },
  {
   "cell_type": "code",
   "execution_count": null,
   "id": "a13c8a7b",
   "metadata": {},
   "outputs": [],
   "source": [
    "my_arr = np.arange(1_000_000)\n",
    "my_list = list(range(1_000_000))"
   ]
  },
  {
   "cell_type": "markdown",
   "id": "7331bc34",
   "metadata": {},
   "source": [
    "Bây giờ, giả sử chúng ta muốn nhân mỗi phần tử với 2. Nếu làm điều này với Python thông thường, chúng ta phải lặp qua danh sách đó:"
   ]
  },
  {
   "cell_type": "code",
   "execution_count": null,
   "id": "1cd32efd",
   "metadata": {},
   "outputs": [],
   "source": [
    "for _ in range(10): my_list2 = [x * 2 for x in my_list]"
   ]
  },
  {
   "cell_type": "markdown",
   "id": "26b4bcb6",
   "metadata": {},
   "source": [
    "Nếu chúng ta thực hiện thao tác tương tự trên một mảng `NumPy`, nó sẽ trông như thế này:"
   ]
  },
  {
   "cell_type": "code",
   "execution_count": null,
   "id": "415d42d6",
   "metadata": {},
   "outputs": [],
   "source": [
    "for _ in range(10): my_arr2 = my_arr * 2"
   ]
  },
  {
   "cell_type": "markdown",
   "id": "dd1f0968",
   "metadata": {},
   "source": [
    "Vấn đề cốt lõi ở đây là thời gian thực hiện phép tính. Chúng ta có thể đo thời gian giữa việc không sử dụng và có sử dụng `NumPy` như sau:"
   ]
  },
  {
   "cell_type": "code",
   "execution_count": null,
   "id": "7ca7fa50",
   "metadata": {},
   "outputs": [],
   "source": [
    "import time\n",
    "t0 = time.time()\n",
    "for _ in range(10): my_list2 = [x * 2 for x in my_list]\n",
    "t1 = time.time()\n",
    "print(f\"List comprehension: {t1 - t0:.4f} s\")\n",
    "\n",
    "t0 = time.time()\n",
    "for _ in range(10): my_arr2 = my_arr * 2\n",
    "t1 = time.time()\n",
    "print(f\"NumPy array: {t1 - t0:.4f} s\")"
   ]
  },
  {
   "cell_type": "markdown",
   "id": "93217c57",
   "metadata": {},
   "source": [
    "Các phép toán trên véc-tơ của NumPy thường nhanh hơn so với các vòng lặp Python thuần túy trong bất kỳ loại tính toán nào. Trong các phần sau, chúng ta sẽ được tìm hiểu về cơ chế **broadcasting**, hay lan truyền, một tập hợp các quy tắc mạnh mẽ để áp dụng các phép toán giữa các mảng có kích thước khác nhau.\n",
    "\n",
    "Một `ndarray` là một đối tượng chứa dữ liệu đồng nhất; nghĩa là, tất cả các phần tử của nó phải có cùng một kiểu. Mỗi đối tượng có một `shape`, một `tuple` biểu thị kích thước của mỗi chiều, và một `dtype`, một đối tượng mô tả **kiểu dữ liệu** của mảng:"
   ]
  },
  {
   "cell_type": "code",
   "execution_count": null,
   "id": "28e75fa8",
   "metadata": {},
   "outputs": [],
   "source": [
    "data = np.array([[1.5, -0.1, 3], [0, -3, 6.5]])\n",
    "data"
   ]
  },
  {
   "cell_type": "markdown",
   "id": "2f813d73",
   "metadata": {},
   "source": [
    "Sau đó chúng ta có thể viết:"
   ]
  },
  {
   "cell_type": "code",
   "execution_count": null,
   "id": "42d8d6ca",
   "metadata": {},
   "outputs": [],
   "source": [
    "data * 10"
   ]
  },
  {
   "cell_type": "code",
   "execution_count": null,
   "id": "5defbe0a",
   "metadata": {},
   "outputs": [],
   "source": [
    "data + data"
   ]
  },
  {
   "cell_type": "markdown",
   "id": "db5767a0",
   "metadata": {},
   "source": [
    "Và kiểm tra `shape` và `dtype` của nó:"
   ]
  },
  {
   "cell_type": "code",
   "execution_count": null,
   "id": "c16183a9",
   "metadata": {},
   "outputs": [],
   "source": [
    "data.shape"
   ]
  },
  {
   "cell_type": "code",
   "execution_count": null,
   "id": "28d45156",
   "metadata": {},
   "outputs": [],
   "source": [
    "data.dtype"
   ]
  },
  {
   "cell_type": "markdown",
   "id": "7740c80a",
   "metadata": {},
   "source": [
    "Phần này sẽ giúp bạn làm quen với những điều cơ bản về việc sử dụng mảng `NumPy`."
   ]
  },
  {
   "cell_type": "markdown",
   "id": "0e0d51b1-5d97-4855-a937-5a3297774936",
   "metadata": {},
   "source": [
    "### Tạo một ndarray\n",
    "<hr>"
   ]
  },
  {
   "cell_type": "markdown",
   "id": "f87b9966",
   "metadata": {},
   "source": [
    "Cách dễ nhất để tạo một mảng là sử dụng hàm `array`. Chúng ta có thể tạo một mảng như sau:"
   ]
  },
  {
   "cell_type": "code",
   "execution_count": 4,
   "id": "d4006066",
   "metadata": {},
   "outputs": [
    {
     "data": {
      "text/plain": [
       "(5,)"
      ]
     },
     "execution_count": 4,
     "metadata": {},
     "output_type": "execute_result"
    }
   ],
   "source": [
    "data1 = [6, 7.5, 8, 0, 1]\n",
    "arr1 = np.array(data1)\n",
    "arr1"
   ]
  },
  {
   "cell_type": "markdown",
   "id": "2807fd5b",
   "metadata": {},
   "source": [
    "Khi các danh sách lồng nhau sẽ, Python sẽ chuyển đổi thành một mảng nhiều chiều:"
   ]
  },
  {
   "cell_type": "code",
   "execution_count": 5,
   "id": "e352bdb0",
   "metadata": {},
   "outputs": [
    {
     "data": {
      "text/plain": [
       "(2, 4)"
      ]
     },
     "execution_count": 5,
     "metadata": {},
     "output_type": "execute_result"
    }
   ],
   "source": [
    "data2 = [[1, 2, 3, 4], [5, 6, 7, 8]]\n",
    "arr2 = np.array(data2)\n",
    "arr2"
   ]
  },
  {
   "cell_type": "markdown",
   "id": "beaeb73b",
   "metadata": {},
   "source": [
    "Có thể hiểu `data2` là một danh sách các danh sách, mảng `arr2` có hai chiều với `shape` được suy ra từ dữ liệu. Chúng ta có thể xác nhận điều này bằng cách kiểm tra các thuộc tính `ndim` và `shape`:"
   ]
  },
  {
   "cell_type": "code",
   "execution_count": null,
   "id": "45374530",
   "metadata": {},
   "outputs": [],
   "source": [
    "arr2.ndim"
   ]
  },
  {
   "cell_type": "code",
   "execution_count": null,
   "id": "c1c58ede",
   "metadata": {},
   "outputs": [],
   "source": [
    "arr2.shape"
   ]
  },
  {
   "cell_type": "markdown",
   "id": "fd43d785",
   "metadata": {},
   "source": [
    "Trừ khi được chỉ định rõ ràng, hàm `np.array` cố gắng suy ra kiểu dữ liệu phù hợp cho mảng mà nó tạo ra. Kiểu dữ liệu được lưu trữ trong một đối tượng `dtype`. Trong hai ví dụ trước chúng ta có:"
   ]
  },
  {
   "cell_type": "code",
   "execution_count": 6,
   "id": "6ae0ebd6",
   "metadata": {},
   "outputs": [
    {
     "data": {
      "text/plain": [
       "dtype('float64')"
      ]
     },
     "execution_count": 6,
     "metadata": {},
     "output_type": "execute_result"
    }
   ],
   "source": [
    "arr1.dtype"
   ]
  },
  {
   "cell_type": "code",
   "execution_count": 7,
   "id": "e2bc2f30",
   "metadata": {},
   "outputs": [
    {
     "data": {
      "text/plain": [
       "dtype('int64')"
      ]
     },
     "execution_count": 7,
     "metadata": {},
     "output_type": "execute_result"
    }
   ],
   "source": [
    "arr2.dtype"
   ]
  },
  {
   "cell_type": "markdown",
   "id": "4a43d3de",
   "metadata": {},
   "source": [
    "Ngoài `np.array`, có một số hàm khác để tạo mảng mới. Ví dụ, `np.zeros` và `np.ones` tạo ra các mảng chỉ có các số 0 hoặc số 1 tương ứng với một chiều dài hoặc `shape` cho trước. `np.empty` tạo ra một mảng mà không khởi tạo các giá trị của nó cho bất kỳ giá trị cụ thể nào. Để tạo một mảng có `shape` cao hơn, hãy gán một `tuple` cho `shape`:"
   ]
  },
  {
   "cell_type": "code",
   "execution_count": null,
   "id": "864e3737",
   "metadata": {},
   "outputs": [],
   "source": [
    "np.zeros(10)"
   ]
  },
  {
   "cell_type": "code",
   "execution_count": 8,
   "id": "6f1fccce",
   "metadata": {},
   "outputs": [
    {
     "data": {
      "text/plain": [
       "array([[0., 0., 0., 0., 0., 0.],\n",
       "       [0., 0., 0., 0., 0., 0.],\n",
       "       [0., 0., 0., 0., 0., 0.]])"
      ]
     },
     "execution_count": 8,
     "metadata": {},
     "output_type": "execute_result"
    }
   ],
   "source": [
    "np.zeros((3, 6))"
   ]
  },
  {
   "cell_type": "code",
   "execution_count": null,
   "id": "374014bc",
   "metadata": {},
   "outputs": [],
   "source": [
    "np.empty((2, 3, 2))"
   ]
  },
  {
   "cell_type": "markdown",
   "id": "0e38dc82",
   "metadata": {},
   "source": [
    "> **Chú ý:** Có thể an toàn khi cho rằng `np.empty` sẽ trả về một mảng chứa toàn các giá trị rác. Trong một số trường hợp, nó có thể trả về các mảng chưa được khởi tạo chứa các giá trị 0 hoặc khác 0. Xem tài liệu để biết thêm chi tiết.\n",
    "\n",
    "`np.arange` là một phiên bản giống như `range` tích hợp sẵn của Python, nhưng trả về một mảng `Numpy` thay vì một danh sách của Python:"
   ]
  },
  {
   "cell_type": "code",
   "execution_count": 9,
   "id": "8bd804f1",
   "metadata": {},
   "outputs": [
    {
     "data": {
      "text/plain": [
       "array([ 0,  1,  2,  3,  4,  5,  6,  7,  8,  9, 10, 11, 12, 13, 14])"
      ]
     },
     "execution_count": 9,
     "metadata": {},
     "output_type": "execute_result"
    }
   ],
   "source": [
    "np.arange(15)"
   ]
  },
  {
   "cell_type": "markdown",
   "id": "9d3c0e40",
   "metadata": {},
   "source": [
    "Xem Bảng ... để biết danh sách một phần các hàm tạo mảng chuẩn.\n",
    "\n",
    "**Bảng ...: Một số hàm tạo mảng NumPy quan trọng**\n",
    "\n",
    "| Hàm | Mô tả |\n",
    "|---|---|\n",
    "| `array` | Chuyển đổi dữ liệu đầu vào (danh sách, tuple, mảng hoặc chuỗi khác) thành một ndarray, suy ra một dtype cho ndarray hoặc chỉ định rõ ràng một dtype. Dữ liệu được sao chép theo mặc định. |\n",
    "| `asarray` | Chuyển đổi đầu vào thành ndarray, nhưng không sao chép nếu đầu vào đã là một ndarray có dtype phù hợp. |\n",
    "| `arange` | Giống như `range` tích hợp sẵn nhưng trả về một ndarray thay vì một danh sách. |\n",
    "| `ones`, `ones_like` | Tạo một mảng chứa toàn số 1 với `shape` và `dtype` cho trước. `ones_like` lấy một mảng khác và tạo ra một mảng chứa toàn số 1 có cùng `shape` và `dtype`. |\n",
    "| `zeros`, `zeros_like` | Giống như `ones` và `ones_like` nhưng tạo ra các mảng chứa toàn số 0. |\n",
    "| `empty`, `empty_like` | Tạo các mảng mới bằng cách cấp phát bộ nhớ mới, nhưng không điền bất kỳ giá trị nào như `ones` và `zeros`. |\n",
    "| `full`, `full_like` | Tạo một mảng có `shape` và `dtype` cho trước với tất cả các giá trị được đặt thành \"giá trị điền\" được chỉ định. `full_like` lấy một mảng khác và tạo ra một mảng được điền có cùng `shape` và `dtype`. |\n",
    "| `eye`, `identity` | Tạo một ma trận đơn vị (identity matrix) vuông N × N (1 trên đường chéo và 0 ở những nơi khác). |"
   ]
  },
  {
   "cell_type": "markdown",
   "id": "d890f09e",
   "metadata": {},
   "source": [
    "### Kiểu dữ liệu cho ndarray\n",
    "\n",
    "*Kiểu dữ liệu* hay `dtype` là một đối tượng đặc biệt chứa thông tin (hoặc *siêu dữ liệu*, dữ liệu về dữ liệu) mà `ndarray` cần để diễn giải một khối bộ nhớ là một loại dữ liệu cụ thể:"
   ]
  },
  {
   "cell_type": "code",
   "execution_count": null,
   "id": "47472dba",
   "metadata": {},
   "outputs": [],
   "source": [
    "arr1_dtype = np.array([1, 2, 3], dtype=np.float64)\n",
    "arr2_dtype = np.array([1, 2, 3], dtype=np.int32)\n",
    "arr1_dtype.dtype"
   ]
  },
  {
   "cell_type": "code",
   "execution_count": null,
   "id": "77c376e5",
   "metadata": {},
   "outputs": [],
   "source": [
    "arr2_dtype.dtype"
   ]
  },
  {
   "cell_type": "markdown",
   "id": "92a6fedf",
   "metadata": {},
   "source": [
    "Các `dtype` là lý do tại sao `NumPy` rất mạnh mẽ và linh hoạt. Trong hầu hết các trường hợp, `dtype` giúp dễ dàng đọc và ghi dữ liệu dưới dạng nhị phân vào máy và cũng dễ dàng kết nối với các câu lệnh được viết bằng các ngôn ngữ như `C` hoặc `Fortran`.\n",
    "\n",
    "Các `dtype` kiểu số được đặt tên giống nhau: một tên kiểu, `float` hoặc `int`, theo sau là một số cho biết số bit trên mỗi phần tử. Bạn đọc xem Bảng dưới đây để biết danh sách đầy đủ các `dtype` được hỗ trợ. \n",
    "\n",
    "**Bảng ...: Các kiểu dữ liệu NumPy**\n",
    "\n",
    "| Kiểu | Mã kiểu | Mô tả |\n",
    "|---|---|---|\n",
    "| `int8`, `uint8` | `i1`, `u1` | Số nguyên 8 bit có dấu và không dấu |\n",
    "| `int16`, `uint16` | `i2`, `u2` | Số nguyên 16 bit có dấu và không dấu |\n",
    "| `int32`, `uint32` | `i4`, `u4` | Số nguyên 32 bit có dấu và không dấu |\n",
    "| `int64`, `uint64` | `i8`, `u8` | Số nguyên 64 bit có dấu và không dấu |\n",
    "| `float16` | `f2` | Số thực dấu phẩy động nửa độ chính xác (half-precision) |\n",
    "| `float32` | `f4` hoặc `f` | Số thực dấu phẩy động đơn độ chính xác (single-precision) tiêu chuẩn; tương thích với `float` trong C |\n",
    "| `float64` | `f8` hoặc `d` | Số thực dấu phẩy động độ chính xác kép (double-precision) tiêu chuẩn; tương thích với `double` trong C và `float` trong Python |\n",
    "| `float128` | `f16` hoặc `g` | Số thực dấu phẩy động độ chính xác mở rộng (extended-precision) |\n",
    "| `complex64`, `complex128`, `complex256` | `c8`, `c16`, `c32` | Số phức được biểu diễn bằng hai số thực dấu phẩy động 32, 64, hoặc 128 bit tương ứng |\n",
    "| `bool` | `?` | Kiểu Boolean lưu trữ các giá trị `True` và `False` |\n",
    "| `object` | `O` | Kiểu đối tượng Python; một giá trị có thể là bất kỳ đối tượng Python nào |\n",
    "| `string_` | `S` | Kiểu chuỗi ASCII có độ dài cố định (ví dụ, để khớp với `dtype` khi đọc một tệp). Độ dài của chuỗi được chỉ định bởi số theo sau, ví dụ, `S10` là một chuỗi 10 ký tự. NumPy không cung cấp `dtype` chuỗi Unicode có độ dài cố định. |\n",
    "| `unicode_` | `U` | Kiểu Unicode có độ dài cố định (ví dụ, `U10`). NumPy không cung cấp `dtype` chuỗi Unicode có độ dài thay đổi, không giống như pandas. |\n",
    "\n",
    "Bạn có thể chuyển đổi (cast) một mảng từ `dtype` này sang `dtype` khác bằng cách sử dụng phương thức `astype` của `ndarray`:"
   ]
  },
  {
   "cell_type": "code",
   "execution_count": null,
   "id": "08596690",
   "metadata": {},
   "outputs": [],
   "source": [
    "arr_astype = np.array([1, 2, 3, 4, 5])\n",
    "arr_astype.dtype"
   ]
  },
  {
   "cell_type": "code",
   "execution_count": null,
   "id": "fee4da08",
   "metadata": {},
   "outputs": [],
   "source": [
    "float_arr = arr_astype.astype(np.float64)\n",
    "float_arr.dtype"
   ]
  },
  {
   "cell_type": "markdown",
   "id": "44070872",
   "metadata": {},
   "source": [
    "Trong ví dụ này, các số nguyên được đổi kiểu thành số thực dấu phẩy động. Nếu tôi ép kiểu một số số thực dấu phẩy động thành kiểu số nguyên, phần thập phân sẽ bị cắt bỏ:"
   ]
  },
  {
   "cell_type": "code",
   "execution_count": null,
   "id": "88fedbe2",
   "metadata": {},
   "outputs": [],
   "source": [
    "arr_fp_to_int = np.array([3.7, -1.2, -2.6, 0.5, 12.9, 10.1])\n",
    "arr_fp_to_int"
   ]
  },
  {
   "cell_type": "code",
   "execution_count": null,
   "id": "b8dbe2a3",
   "metadata": {},
   "outputs": [],
   "source": [
    "arr_fp_to_int.astype(np.int32)"
   ]
  },
  {
   "cell_type": "markdown",
   "id": "99f4c4d2",
   "metadata": {},
   "source": [
    "Nếu bạn có một mảng các chuỗi biểu diễn các số, bạn có thể sử dụng `astype` để chuyển đổi chúng thành dạng số:"
   ]
  },
  {
   "cell_type": "code",
   "execution_count": null,
   "id": "19afbf75",
   "metadata": {},
   "outputs": [],
   "source": [
    "numeric_strings = np.array([\"1.25\", \"-9.6\", \"42\"], dtype=np.string_)\n",
    "numeric_strings.astype(float) # NumPy sẽ tự động suy ra np.float64"
   ]
  },
  {
   "cell_type": "markdown",
   "id": "ec2e30a7",
   "metadata": {},
   "source": [
    "> **Chú ý:** Việc gọi `astype` *luôn* tạo ra một mảng mới (một bản sao của dữ liệu), ngay cả khi `dtype` mới giống với `dtype` cũ.\n",
    "\n",
    "Bạn đọc cần lưu ý khi sử dụng `dtype` `numpy.string_`, vì dữ liệu chuỗi trong `Numpy` có độ dài cố định và có thể bị cắt bớt mà không có cảnh báo. \n",
    "\n",
    "Nếu việc đổi kiểu không thành công vì một lý do nào đó, một `ValueError` sẽ được đưa ra."
   ]
  },
  {
   "cell_type": "code",
   "execution_count": null,
   "id": "e87e23d6",
   "metadata": {},
   "outputs": [],
   "source": [
    "int_array = np.arange(10)\n",
    "calibers = np.array([.22, .270, .357, .380, .44, .50], dtype=np.float64)\n",
    "int_array.astype(calibers.dtype)"
   ]
  },
  {
   "cell_type": "markdown",
   "id": "1b99fbc0",
   "metadata": {},
   "source": [
    "Bạn cũng có thể sử dụng mã kiểu `dtype`:"
   ]
  },
  {
   "cell_type": "code",
   "execution_count": null,
   "id": "142fc420",
   "metadata": {},
   "outputs": [],
   "source": [
    "empty_uint32 = np.empty(8, dtype=\"u4\")\n",
    "empty_uint32"
   ]
  },
  {
   "cell_type": "markdown",
   "id": "82fc1862",
   "metadata": {},
   "source": [
    "> **Lưu ý:** Nếu bạn gặp khó khăn trong việc tìm ra `dtype` nào nên sử dụng với dữ liệu của mình thì không cần phải quá quan tâm. Bạn có thể dung `float64` cho hầu hết dữ liệu số thực dấu phẩy động. Việc sử dụng các `dtype` như `float32` thường là để tiết kiệm bộ nhớ khi làm việc với các tập dữ liệu rất lớn."
   ]
  },
  {
   "cell_type": "markdown",
   "id": "7b429904",
   "metadata": {},
   "source": [
    "### Các phép toán số học với mảng `NumPy`\n",
    "\n",
    "Các mảng rất quan trọng vì chúng cho phép chúng ta thể hiện các phép toán theo nhóm trên dữ liệu mà không cần viết bất kỳ vòng lặp `for` nào. `NumPy` gọi tính năng này là **véc-tơ hóa** (vectorization). Bất kỳ phép toán số học nào giữa các mảng có kích thước bằng nhau đều áp dụng phép toán đó theo từng phần tử (element-wise):"
   ]
  },
  {
   "cell_type": "code",
   "execution_count": null,
   "id": "fe174566",
   "metadata": {},
   "outputs": [],
   "source": [
    "arr_arith = np.array([[1., 2., 3.], [4., 5., 6.]])\n",
    "arr_arith"
   ]
  },
  {
   "cell_type": "code",
   "execution_count": null,
   "id": "bdca420e",
   "metadata": {},
   "outputs": [],
   "source": [
    "arr_arith * arr_arith"
   ]
  },
  {
   "cell_type": "code",
   "execution_count": null,
   "id": "46889326",
   "metadata": {},
   "outputs": [],
   "source": [
    "arr_arith - arr_arith"
   ]
  },
  {
   "cell_type": "markdown",
   "id": "2f5d1fe1",
   "metadata": {},
   "source": [
    "Các phép toán số học với các đại lượng vô hướng (scalar) truyền giá trị vô hướng đó cho mỗi phần tử trong mảng khi thực hiện phép toán:"
   ]
  },
  {
   "cell_type": "code",
   "execution_count": null,
   "id": "715fa8d1",
   "metadata": {},
   "outputs": [],
   "source": [
    "1 / arr_arith"
   ]
  },
  {
   "cell_type": "code",
   "execution_count": null,
   "id": "f0477a12",
   "metadata": {},
   "outputs": [],
   "source": [
    "arr_arith ** 2"
   ]
  },
  {
   "cell_type": "markdown",
   "id": "aa0af79b",
   "metadata": {},
   "source": [
    "Các phép so sánh giữa các mảng có cùng kích thước tạo ra một mảng kiểu logic"
   ]
  },
  {
   "cell_type": "code",
   "execution_count": null,
   "id": "55cea4aa",
   "metadata": {},
   "outputs": [],
   "source": [
    "arr2_arith = np.array([[0., 4., 1.], [7., 2., 12.]])\n",
    "arr2_arith"
   ]
  },
  {
   "cell_type": "code",
   "execution_count": null,
   "id": "4abe6725",
   "metadata": {},
   "outputs": [],
   "source": [
    "arr2_arith > arr_arith"
   ]
  },
  {
   "cell_type": "markdown",
   "id": "f882aa5f",
   "metadata": {},
   "source": [
    "Việc thực hiện các phép toán giữa các mảng có kích thước khác nhau được gọi là *broadcasting* và sẽ được thảo luận chi tiết hơn trong phần sau"
   ]
  },
  {
   "cell_type": "markdown",
   "id": "f7b8389d",
   "metadata": {},
   "source": [
    "### Chỉ số của mảng\n",
    "\n",
    "Chỉ số của mảng `NumPy` là một chủ đề rộng, vì có nhiều cách bạn có thể chọn một tập con dữ liệu của mình hoặc các phần tử riêng lẻ. Các mảng một chiều khá đơn giản; về bề ngoài, chúng hoạt động tương tự như một `list` trong Python:"
   ]
  },
  {
   "cell_type": "code",
   "execution_count": null,
   "id": "d6c9196e",
   "metadata": {},
   "outputs": [],
   "source": [
    "arr_slice_basic = np.arange(10)\n",
    "arr_slice_basic"
   ]
  },
  {
   "cell_type": "code",
   "execution_count": null,
   "id": "b1969bc7",
   "metadata": {},
   "outputs": [],
   "source": [
    "arr_slice_basic[5]"
   ]
  },
  {
   "cell_type": "code",
   "execution_count": null,
   "id": "7b95b4cb",
   "metadata": {},
   "outputs": [],
   "source": [
    "arr_slice_basic[5:8]"
   ]
  },
  {
   "cell_type": "code",
   "execution_count": null,
   "id": "495f4b9d",
   "metadata": {},
   "outputs": [],
   "source": [
    "arr_slice_basic[5:8] = 12\n",
    "arr_slice_basic"
   ]
  },
  {
   "cell_type": "markdown",
   "id": "9fc8e209",
   "metadata": {},
   "source": [
    "Như bạn thấy, nếu bạn gán một giá trị vô hướng cho một lát cắt, như trong `arr[5:8] = 12`, giá trị đó được truyền (hoặc *broadcasted*) cho toàn bộ lựa chọn. Sự khác biệt quan trọng đầu tiên so với danh sách Python tích hợp sẵn là các lát cắt mảng là các *khung nhìn* (views) trên mảng gốc. Điều này có nghĩa là dữ liệu không được sao chép, và bất kỳ sửa đổi nào đối với khung nhìn sẽ được phản ánh trong mảng nguồn. Để cung cấp cho bạn một ví dụ về điều này, trước tiên tôi tạo một lát cắt của `arr_slice_basic`:"
   ]
  },
  {
   "cell_type": "code",
   "execution_count": null,
   "id": "8b9c74c0",
   "metadata": {},
   "outputs": [],
   "source": [
    "arr_slice_view = arr_slice_basic[5:8]\n",
    "arr_slice_view"
   ]
  },
  {
   "cell_type": "markdown",
   "id": "950e8e22",
   "metadata": {},
   "source": [
    "Bây giờ, khi tôi thay đổi các giá trị trong `arr_slice_view`, các thay đổi đó được phản ánh trong mảng gốc `arr_slice_basic`:"
   ]
  },
  {
   "cell_type": "code",
   "execution_count": null,
   "id": "a7fc03e7",
   "metadata": {},
   "outputs": [],
   "source": [
    "arr_slice_view[1] = 12345\n",
    "arr_slice_basic"
   ]
  },
  {
   "cell_type": "markdown",
   "id": "5131169f",
   "metadata": {},
   "source": [
    "Gán `[:]` sẽ gán cho tất cả các giá trị trong một mảng:"
   ]
  },
  {
   "cell_type": "code",
   "execution_count": null,
   "id": "a82323fe",
   "metadata": {},
   "outputs": [],
   "source": [
    "arr_slice_view[:] = 64\n",
    "arr_slice_basic"
   ]
  },
  {
   "cell_type": "markdown",
   "id": "1be15b9d",
   "metadata": {},
   "source": [
    "Nếu bạn muốn một bản sao của một lát cắt của một `ndarray` thay vì một khung nhìn, bạn sẽ cần phải sao chép mảng một cách rõ ràng—ví dụ, `arr_slice_basic[5:8].copy()`.\n",
    "\n",
    "Với các mảng có chiều cao hơn, bạn có nhiều tùy chọn hơn. Trong một mảng hai chiều, các phần tử tại mỗi chỉ mục không phải là các đại lượng vô hướng mà là các mảng một chiều:"
   ]
  },
  {
   "cell_type": "code",
   "execution_count": null,
   "id": "a4a28770",
   "metadata": {},
   "outputs": [],
   "source": [
    "arr2d = np.array([[1, 2, 3], [4, 5, 6], [7, 8, 9]])\n",
    "arr2d[2]"
   ]
  },
  {
   "cell_type": "markdown",
   "id": "0202b784",
   "metadata": {},
   "source": [
    "Do đó, các phần tử riêng lẻ có thể được truy cập bằng cách sử dụng các chỉ mục đệ quy. Nhưng điều đó hơi dài dòng, vì vậy bạn có thể truyền một danh sách các chỉ mục được phân tách bằng dấu phẩy để chọn một phần tử riêng lẻ. Vì vậy, những điều sau đây là tương đương:"
   ]
  },
  {
   "cell_type": "code",
   "execution_count": null,
   "id": "24102eff",
   "metadata": {},
   "outputs": [],
   "source": [
    "arr2d[0][2]"
   ]
  },
  {
   "cell_type": "code",
   "execution_count": null,
   "id": "135e3f31",
   "metadata": {},
   "outputs": [],
   "source": [
    "arr2d[0, 2]"
   ]
  },
  {
   "cell_type": "markdown",
   "id": "7fa3b92d",
   "metadata": {},
   "source": [
    "Xem Hình 4.1 để biết minh họa về việc chỉ mục hóa trên một mảng hai chiều. Tôi thấy hữu ích khi nghĩ về trục 0 là \"hàng\" và trục 1 là \"cột\".\n",
    "\n",
    "**Hình 4.1: Chỉ mục hóa các phần tử trong một mảng NumPy**\n",
    "\n",
    "```\n",
    "          Trục 1\n",
    "        -------->\n",
    "       | 0  1  2\n",
    "Trục 0 | --------\n",
    "  |    | 0 |  |  |\n",
    "  |    | 1 |  |  |\n",
    "  V    | 2 |  |  |\n",
    "       --------\n",
    "```\n",
    "(Hình ảnh này khó tái tạo chính xác bằng văn bản, nhưng ý tưởng là `arr2d[hàng, cột]`)\n",
    "\n",
    "Trong các mảng đa chiều, nếu bạn bỏ qua các chỉ mục sau, đối tượng được trả về sẽ là một `ndarray` có chiều thấp hơn bao gồm tất cả dữ liệu dọc theo các chiều cao hơn. Vì vậy, trong mảng 2 × 2 × 3 `arr3d`:"
   ]
  },
  {
   "cell_type": "code",
   "execution_count": null,
   "id": "89306a68",
   "metadata": {},
   "outputs": [],
   "source": [
    "arr3d = np.array([[[1, 2, 3], [4, 5, 6]], [[7, 8, 9], [10, 11, 12]]])\n",
    "arr3d"
   ]
  },
  {
   "cell_type": "markdown",
   "id": "e330329b",
   "metadata": {},
   "source": [
    "`arr3d[0]` là một mảng 2 × 3:"
   ]
  },
  {
   "cell_type": "code",
   "execution_count": null,
   "id": "a99ca909",
   "metadata": {},
   "outputs": [],
   "source": [
    "arr3d[0]"
   ]
  },
  {
   "cell_type": "markdown",
   "id": "458388b5",
   "metadata": {},
   "source": [
    "Cả các giá trị vô hướng và các mảng đều có thể được gán cho `arr3d[0]`:"
   ]
  },
  {
   "cell_type": "code",
   "execution_count": null,
   "id": "54f790e8",
   "metadata": {},
   "outputs": [],
   "source": [
    "old_values = arr3d[0].copy()\n",
    "arr3d[0] = 42\n",
    "arr3d"
   ]
  },
  {
   "cell_type": "code",
   "execution_count": null,
   "id": "0a8e4792",
   "metadata": {},
   "outputs": [],
   "source": [
    "arr3d[0] = old_values\n",
    "arr3d"
   ]
  },
  {
   "cell_type": "markdown",
   "id": "ce4ca99c",
   "metadata": {},
   "source": [
    "Tương tự, `arr3d[1, 0]` cung cấp cho bạn tất cả các giá trị có chỉ mục bắt đầu bằng `(1, 0)`, tạo thành một mảng một chiều:"
   ]
  },
  {
   "cell_type": "code",
   "execution_count": null,
   "id": "e474f503",
   "metadata": {},
   "outputs": [],
   "source": [
    "arr3d[1, 0]"
   ]
  },
  {
   "cell_type": "markdown",
   "id": "3795b1d9",
   "metadata": {},
   "source": [
    "Biểu thức này giống như khi chúng ta chỉ mục hóa `arr3d[1]` và sau đó chỉ mục hóa kết quả đó:"
   ]
  },
  {
   "cell_type": "code",
   "execution_count": null,
   "id": "3f6ca0ed",
   "metadata": {},
   "outputs": [],
   "source": [
    "x = arr3d[1]\n",
    "x"
   ]
  },
  {
   "cell_type": "code",
   "execution_count": null,
   "id": "d41b0048",
   "metadata": {},
   "outputs": [],
   "source": [
    "x[0]"
   ]
  },
  {
   "cell_type": "markdown",
   "id": "4c50b690",
   "metadata": {},
   "source": [
    "Lưu ý rằng trong tất cả các trường hợp chọn dữ liệu này, các mảng được trả về là các khung nhìn."
   ]
  },
  {
   "cell_type": "markdown",
   "id": "2b2eb571",
   "metadata": {},
   "source": [
    "#### Chỉ mục hóa bằng lát cắt (Indexing with Slices)\n",
    "\n",
    "Giống như các đối tượng một chiều như danh sách Python, `ndarray` có thể được cắt lát bằng cú pháp quen thuộc:"
   ]
  },
  {
   "cell_type": "code",
   "execution_count": null,
   "id": "e3028204",
   "metadata": {},
   "outputs": [],
   "source": [
    "arr_slice_basic # arr_slice_basic đã được định nghĩa ở trên: np.arange(10) và đã bị thay đổi"
   ]
  },
  {
   "cell_type": "code",
   "execution_count": null,
   "id": "6c6e938e",
   "metadata": {},
   "outputs": [],
   "source": [
    "arr_slice_basic[1:6]"
   ]
  },
  {
   "cell_type": "markdown",
   "id": "a18ad609",
   "metadata": {},
   "source": [
    "Hãy xem xét `arr2d` từ trước. Bạn có thể truyền nhiều lát cắt giống như bạn có thể truyền nhiều chỉ mục:"
   ]
  },
  {
   "cell_type": "code",
   "execution_count": null,
   "id": "d8c3c851",
   "metadata": {},
   "outputs": [],
   "source": [
    "arr2d # arr2d đã được định nghĩa ở trên"
   ]
  },
  {
   "cell_type": "code",
   "execution_count": null,
   "id": "b70db5b9",
   "metadata": {},
   "outputs": [],
   "source": [
    "arr2d[:2]"
   ]
  },
  {
   "cell_type": "markdown",
   "id": "da2bbd10",
   "metadata": {},
   "source": [
    "Bạn có thể truyền nhiều lát cắt (cùng với việc trộn các chỉ mục). Ví dụ:"
   ]
  },
  {
   "cell_type": "code",
   "execution_count": null,
   "id": "2bcc5c09",
   "metadata": {},
   "outputs": [],
   "source": [
    "arr2d[:2, 1:]"
   ]
  },
  {
   "cell_type": "markdown",
   "id": "938e713f",
   "metadata": {},
   "source": [
    "Khi cắt lát như thế này, bạn luôn nhận được các khung nhìn mảng có cùng số chiều. Bằng cách trộn các chỉ mục số nguyên và lát cắt, bạn có thể nhận được các lát cắt có chiều thấp hơn.\n",
    "\n",
    "Ví dụ, tôi có thể chọn hàng thứ hai nhưng chỉ hai cột đầu tiên:"
   ]
  },
  {
   "cell_type": "code",
   "execution_count": null,
   "id": "f41dfb98",
   "metadata": {},
   "outputs": [],
   "source": [
    "arr2d[1, :2]"
   ]
  },
  {
   "cell_type": "markdown",
   "id": "618e00a9",
   "metadata": {},
   "source": [
    "Tương tự, tôi có thể chọn cột thứ ba nhưng chỉ hai hàng đầu tiên:"
   ]
  },
  {
   "cell_type": "code",
   "execution_count": null,
   "id": "10420fb4",
   "metadata": {},
   "outputs": [],
   "source": [
    "arr2d[:2, 2]"
   ]
  },
  {
   "cell_type": "markdown",
   "id": "9ddc6f55",
   "metadata": {},
   "source": [
    "Xem Hình 4.2 để biết minh họa. Lưu ý rằng dấu hai chấm (`:`) một mình có nghĩa là lấy toàn bộ trục, vì vậy bạn có thể cắt lát chỉ các chiều cao hơn như sau:"
   ]
  },
  {
   "cell_type": "code",
   "execution_count": null,
   "id": "d352fcfb",
   "metadata": {},
   "outputs": [],
   "source": [
    "arr2d[:, :1]"
   ]
  },
  {
   "cell_type": "markdown",
   "id": "efc27890",
   "metadata": {},
   "source": [
    "**Hình 4.2: Các lựa chọn mảng hai chiều từ các lát cắt**\n",
    "\n",
    "```\n",
    "      arr2d = np.array([,,])\n",
    "\n",
    "      arr2d[:2, 1:]   ->  [,]\n",
    "      arr2d        -> \n",
    "      arr2d[2, :]     -> \n",
    "      arr2d[2, 1:]    -> \n",
    "      arr2d[:, :2]    ->  [,,]\n",
    "      arr2d[1, :2]    -> \n",
    "      arr2d[1:2, :2]  ->  []\n",
    "```\n",
    "(Hình ảnh trực quan hóa các lát cắt khác nhau trên một mảng 3x3)\n",
    "\n",
    "Tất nhiên, việc gán cho một biểu thức lát cắt sẽ gán cho toàn bộ lựa chọn:"
   ]
  },
  {
   "cell_type": "code",
   "execution_count": null,
   "id": "ab9ead05",
   "metadata": {},
   "outputs": [],
   "source": [
    "arr2d_copy = arr2d.copy() # Tạo bản sao để không ảnh hưởng arr2d gốc cho các ví dụ sau\n",
    "arr2d_copy[:2, 1:] = 0\n",
    "arr2d_copy"
   ]
  },
  {
   "cell_type": "markdown",
   "id": "73dfaeac",
   "metadata": {},
   "source": [
    "### Chỉ mục hóa Boolean (Boolean Indexing)\n",
    "\n",
    "Hãy xem xét một ví dụ trong đó chúng ta có một số dữ liệu trong một mảng và một mảng các tên với các bản sao. Tôi sẽ sử dụng các hàm của `numpy.random` để tạo một số dữ liệu ngẫu nhiên được phân phối chuẩn:"
   ]
  },
  {
   "cell_type": "code",
   "execution_count": null,
   "id": "6829b164",
   "metadata": {},
   "outputs": [],
   "source": [
    "names = np.array([\"Bob\", \"Joe\", \"Will\", \"Bob\", \"Will\", \"Joe\", \"Joe\"])\n",
    "data_bool = np.array([[4, 7], [0, 2], [-5, 6], [0, 0], [1, 2], [-12, -4], [3, 4]])\n",
    "names"
   ]
  },
  {
   "cell_type": "code",
   "execution_count": null,
   "id": "e6d43e31",
   "metadata": {},
   "outputs": [],
   "source": [
    "data_bool"
   ]
  },
  {
   "cell_type": "markdown",
   "id": "c3688d65",
   "metadata": {},
   "source": [
    "Giả sử mỗi tên tương ứng với một hàng trong mảng `data_bool` và chúng ta muốn chọn tất cả các hàng có tên tương ứng là `'Bob'`. Giống như các phép toán số học, các phép so sánh với các mảng (chẳng hạn như `==`) cũng được vector hóa. Do đó, việc so sánh `names` với chuỗi `'Bob'` tạo ra một mảng boolean:"
   ]
  },
  {
   "cell_type": "code",
   "execution_count": null,
   "id": "cb52e1c9",
   "metadata": {},
   "outputs": [],
   "source": [
    "names == \"Bob\""
   ]
  },
  {
   "cell_type": "markdown",
   "id": "78232a39",
   "metadata": {},
   "source": [
    "Mảng boolean này có thể được truyền khi chỉ mục hóa mảng:"
   ]
  },
  {
   "cell_type": "code",
   "execution_count": null,
   "id": "273306b8",
   "metadata": {},
   "outputs": [],
   "source": [
    "data_bool[names == \"Bob\"]"
   ]
  },
  {
   "cell_type": "markdown",
   "id": "5a0d8004",
   "metadata": {},
   "source": [
    "Mảng boolean phải có cùng độ dài với trục mảng mà nó đang chỉ mục hóa. Bạn thậm chí có thể trộn và kết hợp các mảng boolean và các lát cắt hoặc các số nguyên (một sự pha trộn mà sẽ được thảo luận chi tiết hơn trong Phụ lục A).\n",
    "\n",
    "> **Chú ý:** Chỉ mục hóa boolean, không giống như cắt lát, *luôn* tạo ra một bản sao của dữ liệu, ngay cả khi mảng được trả về không thay đổi.\n",
    "\n",
    "> **Mẹo:** Từ khóa `and` và `or` của Python không hoạt động với các mảng boolean. Thay vào đó, hãy sử dụng `&` (và) và `|` (hoặc).\n",
    "\n",
    "Trong những trường hợp này, tôi chọn các hàng mà `names == \"Bob\"` và chỉ mục hóa các cột:"
   ]
  },
  {
   "cell_type": "code",
   "execution_count": null,
   "id": "6bebd78f",
   "metadata": {},
   "outputs": [],
   "source": [
    "data_bool[names == \"Bob\", 1:]"
   ]
  },
  {
   "cell_type": "code",
   "execution_count": null,
   "id": "53586781",
   "metadata": {},
   "outputs": [],
   "source": [
    "data_bool[names == \"Bob\", 0]"
   ]
  },
  {
   "cell_type": "markdown",
   "id": "951913c9",
   "metadata": {},
   "source": [
    "Để chọn mọi thứ ngoại trừ `'Bob'`, bạn có thể sử dụng `!=` hoặc phủ định điều kiện bằng `~`:"
   ]
  },
  {
   "cell_type": "code",
   "execution_count": null,
   "id": "18ad77a2",
   "metadata": {},
   "outputs": [],
   "source": [
    "names != \"Bob\""
   ]
  },
  {
   "cell_type": "code",
   "execution_count": null,
   "id": "da61eec2",
   "metadata": {},
   "outputs": [],
   "source": [
    "~(names == \"Bob\") # cách viết khác"
   ]
  },
  {
   "cell_type": "code",
   "execution_count": null,
   "id": "66501d01",
   "metadata": {},
   "outputs": [],
   "source": [
    "data_bool[~(names == \"Bob\")]"
   ]
  },
  {
   "cell_type": "markdown",
   "id": "3adb334e",
   "metadata": {},
   "source": [
    "Toán tử `~` có thể hữu ích khi bạn muốn đảo ngược một điều kiện chung:"
   ]
  },
  {
   "cell_type": "code",
   "execution_count": null,
   "id": "72b4bfe5",
   "metadata": {},
   "outputs": [],
   "source": [
    "cond = names == \"Bob\"\n",
    "data_bool[~cond]"
   ]
  },
  {
   "cell_type": "markdown",
   "id": "0d47ae99",
   "metadata": {},
   "source": [
    "Để chọn hai trong ba tên, hãy kết hợp nhiều điều kiện boolean bằng toán tử số học `|` (hoặc):"
   ]
  },
  {
   "cell_type": "code",
   "execution_count": null,
   "id": "650173a3",
   "metadata": {},
   "outputs": [],
   "source": [
    "mask = (names == \"Bob\") | (names == \"Will\")\n",
    "mask"
   ]
  },
  {
   "cell_type": "code",
   "execution_count": null,
   "id": "f8bdbd39",
   "metadata": {},
   "outputs": [],
   "source": [
    "data_bool[mask]"
   ]
  },
  {
   "cell_type": "markdown",
   "id": "bdacb495",
   "metadata": {},
   "source": [
    "Việc chọn dữ liệu từ một mảng bằng chỉ mục hóa boolean luôn tạo ra một bản sao của dữ liệu, ngay cả khi mảng được trả về giống hệt mảng gốc.\n",
    "\n",
    "Việc đặt giá trị bằng mảng boolean hoạt động theo cách thông thường. Để đặt tất cả các giá trị âm trong `data_bool` thành 0, chúng ta chỉ cần làm:"
   ]
  },
  {
   "cell_type": "code",
   "execution_count": null,
   "id": "9a641cb6",
   "metadata": {},
   "outputs": [],
   "source": [
    "data_bool_copy = data_bool.copy() # Tạo bản sao để không ảnh hưởng data_bool gốc\n",
    "data_bool_copy[data_bool_copy < 0] = 0\n",
    "data_bool_copy"
   ]
  },
  {
   "cell_type": "markdown",
   "id": "dd852288",
   "metadata": {},
   "source": [
    "Đặt toàn bộ hàng hoặc cột bằng cách sử dụng một mảng boolean một chiều cũng dễ dàng:"
   ]
  },
  {
   "cell_type": "code",
   "execution_count": null,
   "id": "af1cbcd8",
   "metadata": {},
   "outputs": [],
   "source": [
    "data_bool_copy[names != \"Joe\"] = 7 # Sử dụng data_bool_copy đã được sửa đổi\n",
    "data_bool_copy"
   ]
  },
  {
   "cell_type": "markdown",
   "id": "8f5acfb5",
   "metadata": {},
   "source": [
    "Như bạn sẽ thấy sau, các loại hoạt động này trên dữ liệu hai chiều cũng tiện lợi để thực hiện với pandas."
   ]
  },
  {
   "cell_type": "markdown",
   "id": "cf584cd0",
   "metadata": {},
   "source": [
    "### Chỉ mục hóa nâng cao (Fancy Indexing)\n",
    "\n",
    "*Chỉ mục hóa nâng cao* (Fancy indexing) là một thuật ngữ được NumPy sử dụng để mô tả việc chỉ mục hóa bằng cách sử dụng các mảng số nguyên. Giả sử chúng ta có một mảng 8 × 4:"
   ]
  },
  {
   "cell_type": "code",
   "execution_count": null,
   "id": "0b94ce14",
   "metadata": {},
   "outputs": [],
   "source": [
    "arr_fancy = np.zeros((8, 4))\n",
    "for i in range(8):\n",
    "    arr_fancy[i] = i\n",
    "arr_fancy"
   ]
  },
  {
   "cell_type": "markdown",
   "id": "f02667e4",
   "metadata": {},
   "source": [
    "Để chọn một tập con các hàng theo một thứ tự cụ thể, bạn có thể chỉ cần truyền một danh sách hoặc `ndarray` các số nguyên chỉ định thứ tự mong muốn:"
   ]
  },
  {
   "cell_type": "code",
   "execution_count": null,
   "id": "837d03e0",
   "metadata": {},
   "outputs": [],
   "source": [
    "arr_fancy[[4, 3, 0, 6]]"
   ]
  },
  {
   "cell_type": "markdown",
   "id": "e8704ee4",
   "metadata": {},
   "source": [
    "Hy vọng rằng điều này được đặt tên một cách khéo léo. Việc sử dụng các chỉ mục âm sẽ chọn các hàng từ cuối:"
   ]
  },
  {
   "cell_type": "code",
   "execution_count": null,
   "id": "27ba1668",
   "metadata": {},
   "outputs": [],
   "source": [
    "arr_fancy[[-3, -5, -7]]"
   ]
  },
  {
   "cell_type": "markdown",
   "id": "43cd9962",
   "metadata": {},
   "source": [
    "Việc truyền nhiều mảng chỉ mục sẽ làm một điều hơi khác; nó chọn một mảng một chiều các phần tử tương ứng với mỗi tuple chỉ mục:"
   ]
  },
  {
   "cell_type": "code",
   "execution_count": null,
   "id": "0fbdf032",
   "metadata": {},
   "outputs": [],
   "source": [
    "arr_fancy_reshape = np.arange(32).reshape((8, 4))\n",
    "arr_fancy_reshape"
   ]
  },
  {
   "cell_type": "code",
   "execution_count": null,
   "id": "8ada7416",
   "metadata": {},
   "outputs": [],
   "source": [
    "arr_fancy_reshape[[1, 5, 7, 2], [0, 3, 1, 2]]"
   ]
  },
  {
   "cell_type": "markdown",
   "id": "e78112eb",
   "metadata": {},
   "source": [
    "Ở đây các phần tử `(1, 0)`, `(5, 3)`, `(7, 1)`, và `(2, 2)` đã được chọn. Kết quả của chỉ mục hóa nâng cao luôn là một bản sao một chiều của dữ liệu, bất kể số chiều của mảng (so với cắt lát).\n",
    "\n",
    "Đây là một ví dụ khác về cách chọn một tập hợp con hình chữ nhật của các hàng và cột:"
   ]
  },
  {
   "cell_type": "code",
   "execution_count": null,
   "id": "2da6d67c",
   "metadata": {},
   "outputs": [],
   "source": [
    "arr_fancy_reshape[[1, 5, 7, 2]][:, [0, 3, 1, 2]]"
   ]
  },
  {
   "cell_type": "markdown",
   "id": "0d33d9fe",
   "metadata": {},
   "source": [
    "Hãy nhớ rằng chỉ mục hóa nâng cao, không giống như cắt lát, luôn sao chép dữ liệu vào một mảng mới. Nếu bạn cần một khung nhìn, bạn sẽ cần sử dụng các phương pháp khác, chẳng hạn như một tập hợp các lát cắt.\n",
    "\n",
    "Hành vi này có vẻ hơi khác thường đối với một số người dùng, nhưng nó cung cấp một cách mạnh mẽ và linh hoạt để định hình lại dữ liệu mảng.\n",
    "\n",
    "Việc gán với chỉ mục hóa nâng cao hoạt động như mong đợi:"
   ]
  },
  {
   "cell_type": "code",
   "execution_count": null,
   "id": "35ea29d4",
   "metadata": {},
   "outputs": [],
   "source": [
    "arr_fancy_reshape_copy = arr_fancy_reshape.copy()\n",
    "arr_fancy_reshape_copy[[1, 5, 7, 2], [0, 3, 1, 2]] = 0\n",
    "arr_fancy_reshape_copy"
   ]
  },
  {
   "cell_type": "markdown",
   "id": "a3429e86",
   "metadata": {},
   "source": [
    "Như một ví dụ cuối cùng, giả sử chúng ta muốn chọn các hàng theo một thứ tự cụ thể, và sau đó sắp xếp lại các cột. Một cách để làm điều này là:"
   ]
  },
  {
   "cell_type": "code",
   "execution_count": null,
   "id": "e0f8ac14",
   "metadata": {},
   "outputs": [],
   "source": [
    "arr_fancy_ix = np.arange(32).reshape((8, 4))\n",
    "arr_fancy_ix[[1, 5, 7, 2]] # Chọn các hàng"
   ]
  },
  {
   "cell_type": "code",
   "execution_count": null,
   "id": "7596b95a",
   "metadata": {},
   "outputs": [],
   "source": [
    "arr_fancy_ix[[1, 5, 7, 2]][:, [0, 3, 1, 2]] # Chọn các hàng và sau đó sắp xếp lại các cột"
   ]
  },
  {
   "cell_type": "markdown",
   "id": "ca8593b0",
   "metadata": {},
   "source": [
    "Để làm điều này theo một cách ngắn gọn hơn, bạn có thể sử dụng `np.ix_`. Hàm này chuyển đổi hai mảng số nguyên một chiều thành một bộ chỉ mục chọn một vùng hình vuông từ một mảng:"
   ]
  },
  {
   "cell_type": "code",
   "execution_count": null,
   "id": "29df5345",
   "metadata": {},
   "outputs": [],
   "source": [
    "arr_fancy_ix[np.ix_([1, 5, 7, 2], [0, 3, 1, 2])]"
   ]
  },
  {
   "cell_type": "markdown",
   "id": "b5f1e7a9",
   "metadata": {},
   "source": [
    "`np.ix_` trả về một đối tượng có thể được sử dụng để chỉ mục hóa mảng. Trong trường hợp này, nó tạo ra một đối tượng chỉ mục chọn các hàng 1, 5, 7, 2 và các cột 0, 3, 1, 2. Điều này tương đương với việc chọn các hàng với `arr[[1, 5, 7, 2], :]` và sau đó chọn các cột với `[:, [0, 3, 1, 2]]` trên kết quả."
   ]
  },
  {
   "cell_type": "markdown",
   "id": "244a1b4e",
   "metadata": {},
   "source": [
    "### Chuyển vị mảng và Hoán đổi trục (Transposing Arrays and Swapping Axes)\n",
    "\n",
    "Chuyển vị là một dạng đặc biệt của việc định hình lại (reshaping) mà cũng trả về một khung nhìn (view) của dữ liệu cơ bản mà không sao chép bất cứ thứ gì. Các mảng có thuộc tính `T` và phương thức `transpose`:"
   ]
  },
  {
   "cell_type": "code",
   "execution_count": null,
   "id": "fb149002",
   "metadata": {},
   "outputs": [],
   "source": [
    "arr_T = np.arange(15).reshape((3, 5))\n",
    "arr_T"
   ]
  },
  {
   "cell_type": "code",
   "execution_count": null,
   "id": "96954584",
   "metadata": {},
   "outputs": [],
   "source": [
    "arr_T.T"
   ]
  },
  {
   "cell_type": "markdown",
   "id": "3bc67002",
   "metadata": {},
   "source": [
    "Khi thực hiện các phép toán đại số ma trận, bạn có thể làm điều này rất thường xuyên—ví dụ, khi tính toán tích trong (inner product) của ma trận bằng `np.dot`:"
   ]
  },
  {
   "cell_type": "code",
   "execution_count": null,
   "id": "a85a3ccc",
   "metadata": {},
   "outputs": [],
   "source": [
    "arr_dot_T = np.array([[0, 1, 0], [1, 2, -2], [6, 3, 2], [-1, 0, -1], [1, 0, 1]])\n",
    "arr_dot_T"
   ]
  },
  {
   "cell_type": "code",
   "execution_count": null,
   "id": "093f5b28",
   "metadata": {},
   "outputs": [],
   "source": [
    "np.dot(arr_dot_T.T, arr_dot_T)"
   ]
  },
  {
   "cell_type": "markdown",
   "id": "40356040",
   "metadata": {},
   "source": [
    "Phương thức `transpose` có thể nhận một tuple các số trục để hoán vị các trục (đối với các mục đích nâng cao hơn):"
   ]
  },
  {
   "cell_type": "code",
   "execution_count": null,
   "id": "b0194324",
   "metadata": {},
   "outputs": [],
   "source": [
    "arr_transpose_axes = np.arange(16).reshape((2, 2, 4))\n",
    "arr_transpose_axes"
   ]
  },
  {
   "cell_type": "code",
   "execution_count": null,
   "id": "58544e1f",
   "metadata": {},
   "outputs": [],
   "source": [
    "arr_transpose_axes.transpose((1, 0, 2))"
   ]
  },
  {
   "cell_type": "markdown",
   "id": "69bcc922",
   "metadata": {},
   "source": [
    "Ở đây, các trục đã được sắp xếp lại với trục thứ hai là trục đầu tiên, trục đầu tiên là trục thứ hai và trục cuối cùng không thay đổi.\n",
    "\n",
    "Chỉ mục hóa đơn giản bằng `arr[i]` sẽ chọn dữ liệu dọc theo trục 0. Để chọn dữ liệu dọc theo các trục khác, bạn có thể cần phải thực hiện một số định hình lại hoặc chuyển vị. Các mảng `ndarray` có một phương thức `swapaxes` nhận một cặp số trục và chuyển đổi các trục được chỉ định để sắp xếp lại dữ liệu:"
   ]
  },
  {
   "cell_type": "code",
   "execution_count": null,
   "id": "28219e46",
   "metadata": {},
   "outputs": [],
   "source": [
    "arr_transpose_axes # arr_transpose_axes từ ô trên"
   ]
  },
  {
   "cell_type": "code",
   "execution_count": null,
   "id": "5263908e",
   "metadata": {},
   "outputs": [],
   "source": [
    "arr_transpose_axes.swapaxes(0, 1)"
   ]
  },
  {
   "cell_type": "markdown",
   "id": "587f7c02",
   "metadata": {},
   "source": [
    "`swapaxes` tương tự cũng trả về một khung nhìn trên dữ liệu mà không tạo bản sao."
   ]
  },
  {
   "cell_type": "markdown",
   "id": "c4a03e4a",
   "metadata": {},
   "source": [
    "## 4.2 Hàm phổ quát: Các hàm mảng tính toán theo từng phần tử nhanh chóng\n",
    "\n",
    "Một hàm phổ quát, hay *ufunc*, là một hàm thực hiện các phép toán theo từng phần tử (element-wise) trên dữ liệu trong `ndarray`. Bạn có thể coi chúng là các *wrapper* (trình bao bọc) được vector hóa nhanh chóng cho các hàm đơn giản nhận một hoặc nhiều giá trị vô hướng và tạo ra một hoặc nhiều kết quả vô hướng.\n",
    "\n",
    "Nhiều ufunc rất đơn giản, thực hiện theo từng phần tử, như `np.sqrt` hoặc `np.exp`:"
   ]
  },
  {
   "cell_type": "code",
   "execution_count": null,
   "id": "071e1955",
   "metadata": {},
   "outputs": [],
   "source": [
    "arr_ufunc = np.arange(10)\n",
    "arr_ufunc"
   ]
  },
  {
   "cell_type": "code",
   "execution_count": null,
   "id": "12116117",
   "metadata": {},
   "outputs": [],
   "source": [
    "np.sqrt(arr_ufunc)"
   ]
  },
  {
   "cell_type": "code",
   "execution_count": null,
   "id": "0ea0455a",
   "metadata": {},
   "outputs": [],
   "source": [
    "np.exp(arr_ufunc)"
   ]
  },
  {
   "cell_type": "markdown",
   "id": "04dda200",
   "metadata": {},
   "source": [
    "Những hàm này được gọi là *ufunc đơn phân* (unary ufuncs). Những hàm khác, chẳng hạn như `np.add` hoặc `np.maximum`, nhận hai mảng (do đó, *ufunc nhị phân* (binary ufuncs)) và trả về một mảng duy nhất làm kết quả:"
   ]
  },
  {
   "cell_type": "code",
   "execution_count": null,
   "id": "bfe3bbe4",
   "metadata": {},
   "outputs": [],
   "source": [
    "x_ufunc = np.random.standard_normal(8)\n",
    "y_ufunc = np.random.standard_normal(8)\n",
    "x_ufunc"
   ]
  },
  {
   "cell_type": "code",
   "execution_count": null,
   "id": "5deebff2",
   "metadata": {},
   "outputs": [],
   "source": [
    "y_ufunc"
   ]
  },
  {
   "cell_type": "code",
   "execution_count": null,
   "id": "21f25f96",
   "metadata": {},
   "outputs": [],
   "source": [
    "np.maximum(x_ufunc, y_ufunc)"
   ]
  },
  {
   "cell_type": "markdown",
   "id": "e55d18b6",
   "metadata": {},
   "source": [
    "Ở đây, `np.maximum` đã tính toán giá trị lớn nhất theo từng phần tử trong `x_ufunc` và `y_ufunc`.\n",
    "\n",
    "Trong khi không phổ biến, một ufunc có thể trả về nhiều mảng. `np.modf` là một ví dụ: một ufunc đơn phân trả về phần phân số và phần nguyên của một mảng dấu phẩy động:"
   ]
  },
  {
   "cell_type": "code",
   "execution_count": null,
   "id": "5b11bdf5",
   "metadata": {},
   "outputs": [],
   "source": [
    "arr_modf = np.random.standard_normal(7) * 5\n",
    "arr_modf"
   ]
  },
  {
   "cell_type": "code",
   "execution_count": null,
   "id": "b92710cb",
   "metadata": {},
   "outputs": [],
   "source": [
    "remainder, whole_part = np.modf(arr_modf)\n",
    "remainder"
   ]
  },
  {
   "cell_type": "code",
   "execution_count": null,
   "id": "67d4fbe2",
   "metadata": {},
   "outputs": [],
   "source": [
    "whole_part"
   ]
  },
  {
   "cell_type": "markdown",
   "id": "f0ca1f2e",
   "metadata": {},
   "source": [
    "Ufunc chấp nhận một đối số `out` tùy chọn cho phép chúng hoạt động tại chỗ trên các mảng:"
   ]
  },
  {
   "cell_type": "code",
   "execution_count": null,
   "id": "b7dfa2da",
   "metadata": {},
   "outputs": [],
   "source": [
    "arr_modf # arr_modf từ ô trước"
   ]
  },
  {
   "cell_type": "code",
   "execution_count": null,
   "id": "48aeaf24",
   "metadata": {},
   "outputs": [],
   "source": [
    "out_arr = np.zeros_like(arr_modf)\n",
    "np.add(arr_modf, 1, out=out_arr) # out_arr += arr + 1, không tạo mảng mới\n",
    "out_arr"
   ]
  },
  {
   "cell_type": "markdown",
   "id": "4e0c0cc8",
   "metadata": {},
   "source": [
    "Bảng 4.3 và 4.4 liệt kê nhiều ufunc đơn phân và nhị phân của NumPy. Một số trong số này sẽ được sử dụng trong các ví dụ trong suốt cuốn sách.\n",
    "\n",
    "**Bảng 4.3: Một số ufunc đơn phân**\n",
    "\n",
    "| Hàm | Mô tả |\n",
    "|---|---|\n",
    "| `abs`, `fabs` | Tính giá trị tuyệt đối theo từng phần tử cho số nguyên, số thực dấu phẩy động hoặc số phức. Sử dụng `fabs` cho dữ liệu số thực dấu phẩy động không phức (trả về một mảng số thực dấu phẩy động). |\n",
    "| `sqrt` | Tính căn bậc hai theo từng phần tử. Tương đương với `arr ** 0.5`. |\n",
    "| `square` | Tính bình phương theo từng phần tử. Tương đương với `arr ** 2`. |\n",
    "| `exp` | Tính lũy thừa e^x theo từng phần tử. |\n",
    "| `log`, `log10`, `log2`, `log1p` | Logarit tự nhiên (cơ số e), logarit cơ số 10, logarit cơ số 2, và log(1 + x) tương ứng. |\n",
    "| `sign` | Tính dấu của mỗi phần tử: 1 (dương), 0 (zero), hoặc –1 (âm). |\n",
    "| `ceil` | Tính trần theo từng phần tử (giá trị nguyên nhỏ nhất lớn hơn hoặc bằng mỗi phần tử). |\n",
    "| `floor` | Tính sàn theo từng phần tử (giá trị nguyên lớn nhất nhỏ hơn hoặc bằng mỗi phần tử). |\n",
    "| `rint` | Làm tròn các phần tử đến số nguyên gần nhất, giữ nguyên `dtype`. |\n",
    "| `modf` | Trả về phần phân số và phần nguyên của mảng dưới dạng các mảng riêng biệt. |\n",
    "| `isnan` | Trả về một mảng boolean cho biết mỗi giá trị có phải là `NaN` (Not a Number) hay không. |\n",
    "| `isfinite`, `isinf` | Trả về các mảng boolean cho biết mỗi phần tử có hữu hạn (không-`inf`, không-`NaN`) hoặc vô hạn tương ứng. |\n",
    "| `cos`, `cosh`, `sin`, `sinh`, `tan`, `tanh` | Các hàm lượng giác thông thường và các hàm hypebolic tương ứng. |\n",
    "| `arccos`, `arccosh`, `arcsin`, `arcsinh`, `arctan`, `arctanh` | Các hàm lượng giác nghịch đảo. |\n",
    "| `logical_not` | Tính giá trị chân lý của `not x` theo từng phần tử. Tương đương với `~arr`. |\n",
    "\n",
    "**Bảng 4.4: Một số ufunc nhị phân**\n",
    "\n",
    "| Hàm | Mô tả |\n",
    "|---|---|\n",
    "| `add` | Cộng các phần tử tương ứng trong các mảng. |\n",
    "| `subtract` | Trừ các phần tử trong mảng thứ hai khỏi mảng thứ nhất, theo từng phần tử. |\n",
    "| `multiply` | Nhân các phần tử của mảng, theo từng phần tử. |\n",
    "| `divide`, `floor_divide` | Chia hoặc chia lấy phần nguyên (làm tròn xuống). |\n",
    "| `power` | Nâng các phần tử trong mảng thứ nhất lên lũy thừa của các phần tử tương ứng trong mảng thứ hai, theo từng phần tử. |\n",
    "| `maximum`, `fmax` | Tối đa theo từng phần tử. `fmax` bỏ qua `NaN`. |\n",
    "| `minimum`, `fmin` | Tối thiểu theo từng phần tử. `fmin` bỏ qua `NaN`. |\n",
    "| `mod` | Phần dư theo từng phần tử (tương đương với toán tử `%` của Python). |\n",
    "| `copysign` | Sao chép dấu của các giá trị trong mảng thứ hai vào các giá trị trong mảng thứ nhất, theo từng phần tử. |\n",
    "| `greater`, `greater_equal`, `less`, `less_equal`, `equal`, `not_equal` | Thực hiện các phép so sánh theo từng phần tử, tạo ra một mảng boolean. Tương đương với các toán tử infix như `>` , `>=` , `==` , v.v. |\n",
    "| `logical_and`, `logical_or`, `logical_xor` | Thực hiện các phép toán logic AND, OR, và XOR theo từng phần tử. Tương đương với các toán tử infix `&`, `|`, `^`. |"
   ]
  },
  {
   "cell_type": "markdown",
   "id": "4067dc76",
   "metadata": {},
   "source": [
    "## 4.3 Xử lý dữ liệu dựa trên mảng\n",
    "\n",
    "Sử dụng mảng NumPy cho phép bạn thể hiện nhiều loại tác vụ xử lý dữ liệu dưới dạng các biểu thức mảng súc tích, nếu không thì sẽ yêu cầu viết vòng lặp. Việc thực hành viết các thuật toán dưới dạng các phép toán mảng thay vì các vòng lặp trên các phần tử riêng lẻ được gọi là *vector hóa*. Nói chung, các phép toán mảng được vector hóa thường nhanh hơn nhiều so với các phép toán tương đương trong Python thuần túy. Sau đây là một ví dụ đơn giản trong đó chúng ta muốn đánh giá hàm `sqrt(x^2 + y^2)` trên một lưới các giá trị đều nhau. Hàm `np.meshgrid` nhận hai mảng 1D và tạo ra hai mảng 2D tương ứng với tất cả các cặp `(x, y)` trong hai mảng đó:"
   ]
  },
  {
   "cell_type": "code",
   "execution_count": null,
   "id": "2d494fdd",
   "metadata": {},
   "outputs": [],
   "source": [
    "points = np.arange(-5, 5, 0.01) # 1000 điểm cách đều nhau\n",
    "xs, ys = np.meshgrid(points, points)\n",
    "ys"
   ]
  },
  {
   "cell_type": "markdown",
   "id": "701d40b1",
   "metadata": {},
   "source": [
    "Bây giờ, việc đánh giá hàm chỉ đơn giản là vấn đề viết cùng một biểu thức như bạn sẽ viết với hai điểm:"
   ]
  },
  {
   "cell_type": "code",
   "execution_count": null,
   "id": "897be899",
   "metadata": {},
   "outputs": [],
   "source": [
    "z = np.sqrt(xs ** 2 + ys ** 2)\n",
    "z"
   ]
  },
  {
   "cell_type": "markdown",
   "id": "25034bdf",
   "metadata": {},
   "source": [
    "Là một bản xem trước nhanh, tôi đã vẽ biểu đồ kết quả của việc đánh giá hàm này với Matplotlib:"
   ]
  },
  {
   "cell_type": "code",
   "execution_count": null,
   "id": "b04df6e9",
   "metadata": {},
   "outputs": [],
   "source": [
    "import matplotlib.pyplot as plt\n",
    "plt.imshow(z, cmap=plt.cm.gray); plt.colorbar()\n",
    "plt.title(\"Image plot of $\\sqrt{x^2 + y^2}$ for a grid of values\")\n",
    "plt.show() # Sử dụng plt.show() để hiển thị trong notebook"
   ]
  },
  {
   "cell_type": "markdown",
   "id": "ac51e1f1",
   "metadata": {},
   "source": [
    "Hình 4.3 cho thấy hình ảnh kết quả.\n",
    "\n",
    "**Hình 4.3: Biểu đồ hình ảnh của sqrt(x^2 + y^2)**\n",
    "\n",
    "(Hình ảnh hiển thị một biểu đồ hình ảnh 2D của hàm z)"
   ]
  },
  {
   "cell_type": "markdown",
   "id": "1f918ee9",
   "metadata": {},
   "source": [
    "### Thể hiện logic có điều kiện dưới dạng các phép toán mảng\n",
    "\n",
    "Hàm `numpy.where` là một phiên bản vector hóa của biểu thức tam phân (ternary expression) `x if condition else y`. Giả sử chúng ta có một mảng boolean và hai mảng các giá trị:"
   ]
  },
  {
   "cell_type": "code",
   "execution_count": null,
   "id": "0b8ebc0c",
   "metadata": {},
   "outputs": [],
   "source": [
    "xarr = np.array([1.1, 1.2, 1.3, 1.4, 1.5])\n",
    "yarr = np.array([2.1, 2.2, 2.3, 2.4, 2.5])\n",
    "cond_where = np.array([True, False, True, True, False])"
   ]
  },
  {
   "cell_type": "markdown",
   "id": "b002692d",
   "metadata": {},
   "source": [
    "Giả sử chúng ta muốn lấy một giá trị từ `xarr` bất cứ khi nào giá trị tương ứng trong `cond_where` là `True` và nếu không thì lấy giá trị từ `yarr`. Một danh sách hiểu (list comprehension) để làm điều này có thể trông như sau:"
   ]
  },
  {
   "cell_type": "code",
   "execution_count": null,
   "id": "96f77f94",
   "metadata": {},
   "outputs": [],
   "source": [
    "result_lc = [(x if c else y)\n",
    "             for x, y, c in zip(xarr, yarr, cond_where)]\n",
    "result_lc"
   ]
  },
  {
   "cell_type": "markdown",
   "id": "b1fe5936",
   "metadata": {},
   "source": [
    "Điều này có nhiều vấn đề. Thứ nhất, nó sẽ không nhanh đối với các mảng lớn (vì tất cả công việc được thực hiện trong Python thuần túy được diễn giải). Thứ hai, nó sẽ không hoạt động với các mảng đa chiều. Với `np.where`, bạn có thể viết điều này rất ngắn gọn:"
   ]
  },
  {
   "cell_type": "code",
   "execution_count": null,
   "id": "1ff08250",
   "metadata": {},
   "outputs": [],
   "source": [
    "result_where = np.where(cond_where, xarr, yarr)\n",
    "result_where"
   ]
  },
  {
   "cell_type": "markdown",
   "id": "e725b48e",
   "metadata": {},
   "source": [
    "Các đối số thứ hai và thứ ba cho `np.where` không cần phải là mảng; một hoặc cả hai có thể là các đại lượng vô hướng. Một công dụng điển hình của `where` trong phân tích dữ liệu là tạo ra một mảng mới các giá trị dựa trên một mảng khác. Giả sử bạn có một ma trận dữ liệu được tạo ngẫu nhiên và bạn muốn thay thế tất cả các giá trị dương bằng 2 và tất cả các giá trị âm bằng –2. Điều này rất dễ thực hiện với `np.where`:"
   ]
  },
  {
   "cell_type": "code",
   "execution_count": null,
   "id": "799cfab2",
   "metadata": {},
   "outputs": [],
   "source": [
    "arr_rand_where = np.random.standard_normal((4, 4))\n",
    "arr_rand_where"
   ]
  },
  {
   "cell_type": "code",
   "execution_count": null,
   "id": "554ef027",
   "metadata": {},
   "outputs": [],
   "source": [
    "arr_rand_where > 0"
   ]
  },
  {
   "cell_type": "code",
   "execution_count": null,
   "id": "c8ba758d",
   "metadata": {},
   "outputs": [],
   "source": [
    "np.where(arr_rand_where > 0, 2, -2)"
   ]
  },
  {
   "cell_type": "markdown",
   "id": "7b1242e1",
   "metadata": {},
   "source": [
    "Bạn có thể kết hợp các đại lượng vô hướng và mảng khi sử dụng `np.where`. Ví dụ, tôi có thể đặt tất cả các giá trị dương trong `arr_rand_where` thành 2 như sau:"
   ]
  },
  {
   "cell_type": "code",
   "execution_count": null,
   "id": "162316f2",
   "metadata": {},
   "outputs": [],
   "source": [
    "np.where(arr_rand_where > 0, 2, arr_rand_where) # đặt chỉ các giá trị dương thành 2"
   ]
  },
  {
   "cell_type": "markdown",
   "id": "4725acc5",
   "metadata": {},
   "source": [
    "Các mảng được truyền cho đối số thứ hai và thứ ba của `where` không nhất thiết phải có cùng `shape`, nhưng chúng phải có thể lan truyền (broadcastable) đến một `shape` chung. Chúng ta sẽ thảo luận chi tiết hơn về các quy tắc lan truyền trong Phụ lục A. Mặc dù `where` không bị giới hạn ở việc sử dụng trên các mảng boolean, nhưng nó đặc biệt hữu ích cho việc đó."
   ]
  },
  {
   "cell_type": "markdown",
   "id": "09ab0aae",
   "metadata": {},
   "source": [
    "### Các phương thức thống kê toán học\n",
    "\n",
    "Một tập hợp các hàm toán học tính toán các thống kê về toàn bộ một mảng hoặc về dữ liệu dọc theo một trục là các phép toán mảng có thể truy cập được dưới dạng các phương thức của lớp mảng. Bạn có thể lấy các tổng hợp (thường được gọi là *réductions*) như `sum`, `mean`, và `std` (độ lệch chuẩn) bằng cách gọi phương thức của instance mảng hoặc sử dụng hàm NumPy cấp cao nhất. Khi bạn sử dụng hàm cấp cao nhất, bạn thường phải truyền mảng mà bạn muốn tính toán thống kê làm đối số đầu tiên.\n",
    "\n",
    "Ở đây tôi tạo một số dữ liệu được phân phối chuẩn ngẫu nhiên và tính toán một số thống kê tổng hợp:"
   ]
  },
  {
   "cell_type": "code",
   "execution_count": null,
   "id": "d04f0409",
   "metadata": {},
   "outputs": [],
   "source": [
    "arr_stats = np.random.standard_normal((5, 4))\n",
    "arr_stats"
   ]
  },
  {
   "cell_type": "code",
   "execution_count": null,
   "id": "6b0f74c7",
   "metadata": {},
   "outputs": [],
   "source": [
    "arr_stats.mean()"
   ]
  },
  {
   "cell_type": "code",
   "execution_count": null,
   "id": "75adf242",
   "metadata": {},
   "outputs": [],
   "source": [
    "np.mean(arr_stats)"
   ]
  },
  {
   "cell_type": "code",
   "execution_count": null,
   "id": "48641659",
   "metadata": {},
   "outputs": [],
   "source": [
    "arr_stats.sum()"
   ]
  },
  {
   "cell_type": "markdown",
   "id": "d1ced28c",
   "metadata": {},
   "source": [
    "Các hàm như `mean` và `sum` nhận một đối số `axis` tùy chọn để tính toán thống kê trên trục được chỉ định, dẫn đến một mảng có ít hơn một chiều:"
   ]
  },
  {
   "cell_type": "code",
   "execution_count": null,
   "id": "e64398cc",
   "metadata": {},
   "outputs": [],
   "source": [
    "arr_stats.mean(axis=1)"
   ]
  },
  {
   "cell_type": "code",
   "execution_count": null,
   "id": "f1891c50",
   "metadata": {},
   "outputs": [],
   "source": [
    "arr_stats.sum(axis=0)"
   ]
  },
  {
   "cell_type": "markdown",
   "id": "c92a9263",
   "metadata": {},
   "source": [
    "Ở đây, `arr_stats.mean(axis=1)` có nghĩa là \"tính trung bình trên các cột\" và `arr_stats.sum(axis=0)` có nghĩa là \"tính tổng trên các hàng\". Các phương thức khác như `cumsum` và `cumprod` không tổng hợp, thay vào đó tạo ra một mảng các kết quả trung gian:"
   ]
  },
  {
   "cell_type": "code",
   "execution_count": null,
   "id": "ac38c97c",
   "metadata": {},
   "outputs": [],
   "source": [
    "arr_cumsum = np.array([0, 1, 2, 3, 4, 5, 6, 7])\n",
    "arr_cumsum.cumsum()"
   ]
  },
  {
   "cell_type": "markdown",
   "id": "3f70c6cd",
   "metadata": {},
   "source": [
    "Trong các mảng đa chiều, các hàm tích lũy như `cumsum` trả về một mảng có cùng kích thước nhưng với các tổng hoặc tích một phần được tính toán dọc theo trục được chỉ định theo các phần tử \"thấp hơn\" trong lát cắt 1D:"
   ]
  },
  {
   "cell_type": "code",
   "execution_count": null,
   "id": "6632c9bd",
   "metadata": {},
   "outputs": [],
   "source": [
    "arr_cumsum_2d = np.array([[0, 1, 2], [3, 4, 5], [6, 7, 8]])\n",
    "arr_cumsum_2d"
   ]
  },
  {
   "cell_type": "code",
   "execution_count": null,
   "id": "5ce4e5fa",
   "metadata": {},
   "outputs": [],
   "source": [
    "arr_cumsum_2d.cumsum(axis=0)"
   ]
  },
  {
   "cell_type": "code",
   "execution_count": null,
   "id": "fdfe05ea",
   "metadata": {},
   "outputs": [],
   "source": [
    "arr_cumsum_2d.cumsum(axis=1)"
   ]
  },
  {
   "cell_type": "markdown",
   "id": "3c3d733a",
   "metadata": {},
   "source": [
    "Bảng 4.5 cung cấp một danh sách các phương thức tổng hợp và thống kê mảng có sẵn. Chúng ta sẽ xem xét nhiều phương thức này chi tiết hơn trong các chương sau.\n",
    "\n",
    "**Bảng 4.5: Các phương thức thống kê mảng cơ bản**\n",
    "\n",
    "| Phương thức | Mô tả |\n",
    "|---|---|\n",
    "| `sum` | Tổng của tất cả các phần tử trong mảng hoặc dọc theo một trục. Các mảng có kích thước zero có tổng là 0. |\n",
    "| `mean` | Trung bình số học. Các mảng có kích thước zero có `NaN` làm trung bình. |\n",
    "| `std`, `var` | Độ lệch chuẩn và phương sai, tương ứng, với khả năng điều chỉnh bậc tự do của mẫu số. |\n",
    "| `min`, `max` | Giá trị tối thiểu và tối đa. |\n",
    "| `argmin`, `argmax` | Chỉ mục của các phần tử tối thiểu và tối đa, tương ứng. |\n",
    "| `cumsum` | Tổng tích lũy của các phần tử bắt đầu từ 0. |\n",
    "| `cumprod` | Tích tích lũy của các phần tử bắt đầu từ 1. |"
   ]
  },
  {
   "cell_type": "markdown",
   "id": "4d056c6e",
   "metadata": {},
   "source": [
    "### Các phương thức cho mảng Boolean\n",
    "\n",
    "Các giá trị boolean được ép kiểu thành 1 (`True`) và 0 (`False`) trong các phương thức trước đó. Do đó, `sum` thường được sử dụng như một phương tiện để đếm các giá trị `True` trong một mảng boolean:"
   ]
  },
  {
   "cell_type": "code",
   "execution_count": null,
   "id": "4af58b96",
   "metadata": {},
   "outputs": [],
   "source": [
    "arr_bool_sum = np.random.standard_normal(100)\n",
    "(arr_bool_sum > 0).sum() # Số lượng các giá trị dương"
   ]
  },
  {
   "cell_type": "code",
   "execution_count": null,
   "id": "7c8ab9f9",
   "metadata": {},
   "outputs": [],
   "source": [
    "(arr_bool_sum <= 0).sum() # Số lượng các giá trị không dương"
   ]
  },
  {
   "cell_type": "markdown",
   "id": "e44e12fe",
   "metadata": {},
   "source": [
    "Có hai phương thức bổ sung, `any` và `all`, đặc biệt hữu ích cho các mảng boolean. `any` kiểm tra xem có ít nhất một giá trị `True` trong mảng hay không, trong khi `all` kiểm tra xem mọi giá trị có phải là `True` hay không:"
   ]
  },
  {
   "cell_type": "code",
   "execution_count": null,
   "id": "42cf46ba",
   "metadata": {},
   "outputs": [],
   "source": [
    "bools = np.array([False, False, True, False])\n",
    "bools.any()"
   ]
  },
  {
   "cell_type": "code",
   "execution_count": null,
   "id": "341f7348",
   "metadata": {},
   "outputs": [],
   "source": [
    "bools.all()"
   ]
  },
  {
   "cell_type": "markdown",
   "id": "7333e25b",
   "metadata": {},
   "source": [
    "Các phương thức này cũng hoạt động với các mảng không phải boolean, trong đó các phần tử khác không được coi là `True`."
   ]
  },
  {
   "cell_type": "markdown",
   "id": "f2339f12",
   "metadata": {},
   "source": [
    "### Sắp xếp (Sorting)\n",
    "\n",
    "Giống như kiểu danh sách tích hợp sẵn của Python, các mảng NumPy có thể được sắp xếp tại chỗ (in-place) bằng phương thức `sort`:"
   ]
  },
  {
   "cell_type": "code",
   "execution_count": null,
   "id": "45f36a33",
   "metadata": {},
   "outputs": [],
   "source": [
    "arr_sort = np.random.standard_normal(6)\n",
    "arr_sort"
   ]
  },
  {
   "cell_type": "code",
   "execution_count": null,
   "id": "21b617fc",
   "metadata": {},
   "outputs": [],
   "source": [
    "arr_sort.sort()\n",
    "arr_sort"
   ]
  },
  {
   "cell_type": "markdown",
   "id": "7179a36a",
   "metadata": {},
   "source": [
    "Bạn có thể sắp xếp mỗi phần 1D của một mảng đa chiều tại chỗ dọc theo một trục bằng cách truyền số trục cho `sort`:"
   ]
  },
  {
   "cell_type": "code",
   "execution_count": null,
   "id": "0279d083",
   "metadata": {},
   "outputs": [],
   "source": [
    "arr_sort_2d = np.random.standard_normal((5, 3))\n",
    "arr_sort_2d"
   ]
  },
  {
   "cell_type": "code",
   "execution_count": null,
   "id": "9a30daab",
   "metadata": {},
   "outputs": [],
   "source": [
    "arr_sort_2d_copy = arr_sort_2d.copy()\n",
    "arr_sort_2d_copy.sort(axis=0) # Sắp xếp các cột\n",
    "arr_sort_2d_copy"
   ]
  },
  {
   "cell_type": "code",
   "execution_count": null,
   "id": "9dd6ba25",
   "metadata": {},
   "outputs": [],
   "source": [
    "arr_sort_2d_copy_2 = arr_sort_2d.copy()\n",
    "arr_sort_2d_copy_2.sort(axis=1) # Sắp xếp các hàng\n",
    "arr_sort_2d_copy_2"
   ]
  },
  {
   "cell_type": "markdown",
   "id": "51149fa1",
   "metadata": {},
   "source": [
    "Hàm cấp cao nhất `np.sort` trả về một bản sao đã sắp xếp của một mảng thay vì sửa đổi mảng tại chỗ. Một cách nhanh chóng và hiệu quả để tính toán các phân vị (quantiles) của một mảng là sắp xếp nó và chọn giá trị tại một hạng cụ thể. Ví dụ:"
   ]
  },
  {
   "cell_type": "code",
   "execution_count": null,
   "id": "0edf87e7",
   "metadata": {},
   "outputs": [],
   "source": [
    "large_arr_sort = np.random.standard_normal(1000)\n",
    "large_arr_sort.sort()\n",
    "large_arr_sort[int(0.05 * len(large_arr_sort))] # 5% quantile"
   ]
  },
  {
   "cell_type": "markdown",
   "id": "d2b737e0",
   "metadata": {},
   "source": [
    "Để biết thêm chi tiết về việc sử dụng các tính năng sắp xếp của NumPy, và các thuật toán nâng cao hơn như sắp xếp gián tiếp (indirect sorts), xem Phụ lục A. Một số hàm khác của NumPy liên quan đến sắp xếp, như `lexsort`, không được đề cập ở đây vì chúng ít được sử dụng trong phân tích dữ liệu hàng ngày."
   ]
  },
  {
   "cell_type": "markdown",
   "id": "187632c2",
   "metadata": {},
   "source": [
    "### Các phép toán tập hợp (Set Operations) cho Mảng 1D\n",
    "\n",
    "NumPy có một số phép toán tập hợp cơ bản cho các mảng 1D. Một hàm thường được sử dụng là `np.unique`, trả về các phần tử duy nhất đã được sắp xếp trong một mảng:"
   ]
  },
  {
   "cell_type": "code",
   "execution_count": null,
   "id": "9928f63a",
   "metadata": {},
   "outputs": [],
   "source": [
    "names_set = np.array([\"Bob\", \"Joe\", \"Will\", \"Bob\", \"Will\", \"Joe\", \"Joe\"])\n",
    "np.unique(names_set)"
   ]
  },
  {
   "cell_type": "code",
   "execution_count": null,
   "id": "a3adb872",
   "metadata": {},
   "outputs": [],
   "source": [
    "ints_set = np.array([3, 3, 3, 2, 2, 1, 1, 4, 4])\n",
    "np.unique(ints_set)"
   ]
  },
  {
   "cell_type": "markdown",
   "id": "54ebf42e",
   "metadata": {},
   "source": [
    "Hãy đối chiếu `np.unique` với Python thuần túy:"
   ]
  },
  {
   "cell_type": "code",
   "execution_count": null,
   "id": "4bfba40a",
   "metadata": {},
   "outputs": [],
   "source": [
    "sorted(set(names_set))"
   ]
  },
  {
   "cell_type": "markdown",
   "id": "24008d28",
   "metadata": {},
   "source": [
    "Một hàm khác, `np.in1d`, kiểm tra tư cách thành viên của các giá trị trong một mảng trong một mảng khác, trả về một mảng boolean:"
   ]
  },
  {
   "cell_type": "code",
   "execution_count": null,
   "id": "c1288b83",
   "metadata": {},
   "outputs": [],
   "source": [
    "values_set = np.array([6, 0, 0, 3, 2, 5, 6])\n",
    "np.in1d(values_set, [2, 3, 6])"
   ]
  },
  {
   "cell_type": "markdown",
   "id": "04e3464d",
   "metadata": {},
   "source": [
    "Xem Bảng 4.6 để biết danh sách các hàm tập hợp của NumPy cho các mảng 1D.\n",
    "\n",
    "**Bảng 4.6: Các phép toán tập hợp mảng**\n",
    "\n",
    "| Phương thức | Mô tả |\n",
    "|---|---|\n",
    "| `unique(x)` | Tính toán các phần tử duy nhất đã được sắp xếp trong `x`. |\n",
    "| `intersect1d(x, y)` | Tính toán các phần tử chung đã được sắp xếp trong `x` và `y`. |\n",
    "| `union1d(x, y)` | Tính toán hợp của các phần tử đã được sắp xếp. |\n",
    "| `in1d(x, y)` | Tính toán một mảng boolean cho biết liệu mỗi phần tử của `x` có chứa trong `y` hay không. |\n",
    "| `setdiff1d(x, y)` | Hiệu tập hợp; các phần tử trong `x` không có trong `y`. |\n",
    "| `setxor1d(x, y)` | Hiệu đối xứng tập hợp; các phần tử nằm trong một trong các mảng nhưng không nằm trong cả hai. |"
   ]
  },
  {
   "cell_type": "markdown",
   "id": "c2530e42",
   "metadata": {},
   "source": [
    "## 4.4 Nhập và Xuất file với Mảng\n",
    "\n",
    "NumPy có thể lưu và tải dữ liệu vào và từ đĩa ở định dạng văn bản hoặc nhị phân. Trong các phần sau, tôi sẽ thảo luận về các công cụ tích hợp sẵn của NumPy để đọc và ghi các mảng, nhưng hãy nhớ rằng pandas cung cấp nhiều hàm tuyệt vời để đọc các tệp văn bản hoặc dạng bảng vào các đối tượng `DataFrame`; những hàm đó sẽ được đề cập chi tiết hơn trong Chương 6.\n",
    "\n",
    "Các mảng được lưu vào đĩa ở định dạng nhị phân bằng `np.save` và được tải bằng `np.load`:"
   ]
  },
  {
   "cell_type": "code",
   "execution_count": null,
   "id": "afe010ba",
   "metadata": {},
   "outputs": [],
   "source": [
    "arr_io = np.arange(10)\n",
    "np.save(\"some_array\", arr_io)"
   ]
  },
  {
   "cell_type": "markdown",
   "id": "7e113619",
   "metadata": {},
   "source": [
    "Nếu tệp chưa có phần mở rộng `.npy`, nó sẽ được tự động thêm vào. Sau đó, mảng trên đĩa có thể được tải bằng `np.load`:"
   ]
  },
  {
   "cell_type": "code",
   "execution_count": null,
   "id": "5d40620d",
   "metadata": {},
   "outputs": [],
   "source": [
    "np.load(\"some_array.npy\")"
   ]
  },
  {
   "cell_type": "markdown",
   "id": "73de3584",
   "metadata": {},
   "source": [
    "Bạn lưu nhiều mảng trong một kho lưu trữ zip không nén bằng `np.savez` và truyền các mảng dưới dạng đối số từ khóa:"
   ]
  },
  {
   "cell_type": "code",
   "execution_count": null,
   "id": "db211ce8",
   "metadata": {},
   "outputs": [],
   "source": [
    "np.savez(\"array_archive.npz\", a=arr_io, b=arr_io)"
   ]
  },
  {
   "cell_type": "markdown",
   "id": "66dd4580",
   "metadata": {},
   "source": [
    "Khi tải một tệp `.npz`, bạn nhận được một đối tượng giống từ điển (dictionary-like object) tải các mảng riêng lẻ một cách lười biếng (lazily):"
   ]
  },
  {
   "cell_type": "code",
   "execution_count": null,
   "id": "8873e597",
   "metadata": {},
   "outputs": [],
   "source": [
    "arch = np.load(\"array_archive.npz\")\n",
    "arch[\"b\"]"
   ]
  },
  {
   "cell_type": "markdown",
   "id": "0077fbbc",
   "metadata": {},
   "source": [
    "Nếu dữ liệu của bạn nén tốt, bạn có thể muốn sử dụng `numpy.savez_compressed` thay thế:"
   ]
  },
  {
   "cell_type": "code",
   "execution_count": null,
   "id": "53462176",
   "metadata": {},
   "outputs": [],
   "source": [
    "np.savez_compressed(\"arrays_compressed.npz\", a=arr_io, b=arr_io)"
   ]
  },
  {
   "cell_type": "markdown",
   "id": "e8584400",
   "metadata": {},
   "source": [
    "Như một lưu ý phụ, nếu bạn thấy mình làm việc với dữ liệu đã được lưu trữ trong các định dạng tệp cũ của Fortran, bạn có thể muốn xem xét `scipy.io`."
   ]
  },
  {
   "cell_type": "markdown",
   "id": "e7572a20",
   "metadata": {},
   "source": [
    "### Lưu và tải tệp văn bản\n",
    "\n",
    "Việc tải dữ liệu văn bản từ các tệp có thể được thực hiện bằng các hàm như `np.loadtxt` hoặc hàm `np.genfromtxt` tổng quát hơn. Các hàm này có nhiều tùy chọn, nhưng cách sử dụng điển hình là tải các tệp văn bản được phân tách bằng dấu phân cách (như CSV). Hãy xem xét một tệp CSV trông như thế này:\n",
    "\n",
    "```\n",
    "1,2,3,4,foo\n",
    "5,6,7,8,bar\n",
    "9,10,11,12,baz\n",
    "```\n",
    "\n",
    "Tệp này có thể được tải vào một mảng NumPy hai chiều như sau:"
   ]
  },
  {
   "cell_type": "code",
   "execution_count": null,
   "id": "26b15969",
   "metadata": {},
   "outputs": [],
   "source": [
    "# Để chạy ví dụ này, bạn cần tạo một file tên là array_ex.txt\n",
    "# với nội dung như sau:\n",
    "# 1,2,3,4, # Bỏ qua foo vì loadtxt mặc định chỉ đọc số\n",
    "# 5,6,7,8,\n",
    "# 9,10,11,12\n",
    "\n",
    "# with open(\"array_ex.txt\", \"w\") as f:\n",
    "#     f.write(\"1,2,3,4\\n\")\n",
    "#     f.write(\"5,6,7,8\\n\")\n",
    "#     f.write(\"9,10,11,12\\n\")\n",
    "\n",
    "# arr_loadtxt = np.loadtxt(\"array_ex.txt\", delimiter=\",\")\n",
    "# arr_loadtxt\n",
    "\n",
    "# np.savetxt(\"my_array_saved.csv\", arr_loadtxt, delimiter=\",\")"
   ]
  },
  {
   "cell_type": "markdown",
   "id": "0e5ebf44",
   "metadata": {},
   "source": [
    "`np.savetxt` thực hiện thao tác ngược lại: ghi một mảng vào một tệp văn bản được phân tách bằng dấu phân cách. Hàm `np.genfromtxt` tương tự như `np.loadtxt` nhưng hướng đến các mảng có cấu trúc và xử lý dữ liệu bị thiếu. Chúng ta sẽ không sử dụng các hàm này nhiều trong cuốn sách này, vì các công cụ của pandas để đọc các tệp văn bản (như `pandas.read_csv`) thường thuận tiện hơn. Đối với dữ liệu rất lớn, những hàm này có thể không đủ nhanh, vì vậy bạn có thể cần phải phát triển một trình phân tích tệp tùy chỉnh hoặc sử dụng một công cụ khác."
   ]
  },
  {
   "cell_type": "markdown",
   "id": "74b0ab1d",
   "metadata": {},
   "source": [
    "## 4.5 Đại số tuyến tính\n",
    "\n",
    "Đại số tuyến tính, như nhân ma trận, phân rã, định thức và các hàm toán học ma trận vuông khác, là một phần quan trọng của bất kỳ thư viện mảng nào. Không giống như một số ngôn ngữ như MATLAB, việc nhân hai mảng hai chiều bằng `*` là một phép nhân theo từng phần tử thay vì một phép nhân ma trận. Do đó, có một hàm `dot`, cả dưới dạng một hàm trong không gian tên `numpy` và một phương thức `ndarray`, để thực hiện nhân ma trận:"
   ]
  },
  {
   "cell_type": "code",
   "execution_count": null,
   "id": "d153b975",
   "metadata": {},
   "outputs": [],
   "source": [
    "x_linalg = np.array([[1., 2., 3.], [4., 5., 6.]])\n",
    "y_linalg = np.array([[6., 23.], [-1, 7], [8, 9]])\n",
    "x_linalg"
   ]
  },
  {
   "cell_type": "code",
   "execution_count": null,
   "id": "3234bfa9",
   "metadata": {},
   "outputs": [],
   "source": [
    "y_linalg"
   ]
  },
  {
   "cell_type": "code",
   "execution_count": null,
   "id": "8e79a2fd",
   "metadata": {},
   "outputs": [],
   "source": [
    "x_linalg.dot(y_linalg)"
   ]
  },
  {
   "cell_type": "markdown",
   "id": "e61cdfc8",
   "metadata": {},
   "source": [
    "`x_linalg.dot(y_linalg)` tương đương với `np.dot(x_linalg, y_linalg)`:"
   ]
  },
  {
   "cell_type": "code",
   "execution_count": null,
   "id": "99b58847",
   "metadata": {},
   "outputs": [],
   "source": [
    "np.dot(x_linalg, y_linalg)"
   ]
  },
  {
   "cell_type": "markdown",
   "id": "c215c091",
   "metadata": {},
   "source": [
    "Một phép nhân ma trận giữa một mảng 2D và một mảng 1D có kích thước phù hợp sẽ dẫn đến một mảng 1D:"
   ]
  },
  {
   "cell_type": "code",
   "execution_count": null,
   "id": "187812a2",
   "metadata": {},
   "outputs": [],
   "source": [
    "np.dot(x_linalg, np.ones(3))"
   ]
  },
  {
   "cell_type": "markdown",
   "id": "3cf45af5",
   "metadata": {},
   "source": [
    "Toán tử `@` cũng hoạt động như một toán tử infix thực hiện nhân ma trận:"
   ]
  },
  {
   "cell_type": "code",
   "execution_count": null,
   "id": "fa84cdcd",
   "metadata": {},
   "outputs": [],
   "source": [
    "x_linalg @ np.ones(3)"
   ]
  },
  {
   "cell_type": "markdown",
   "id": "eff915a9",
   "metadata": {},
   "source": [
    "`numpy.linalg` có một tập hợp chuẩn các phép phân rã ma trận và những thứ như nghịch đảo và định thức. Chúng được triển khai dưới các hàm được tìm thấy trong các thư viện đại số tuyến tính tiêu chuẩn ngành như BLAS, LAPACK, hoặc Intel Math Kernel Library (MKL) độc quyền (nếu bạn đã xây dựng NumPy bằng nó)."
   ]
  },
  {
   "cell_type": "code",
   "execution_count": null,
   "id": "dc7265a0",
   "metadata": {},
   "outputs": [],
   "source": [
    "from numpy.linalg import inv, qr\n",
    "X_inv = np.random.standard_normal((5, 5))\n",
    "mat_inv = X_inv.T @ X_inv # .T là một bí danh cho transpose\n",
    "inv(mat_inv)"
   ]
  },
  {
   "cell_type": "code",
   "execution_count": null,
   "id": "7eaa4c97",
   "metadata": {},
   "outputs": [],
   "source": [
    "mat_inv @ inv(mat_inv)"
   ]
  },
  {
   "cell_type": "markdown",
   "id": "a3987ee5",
   "metadata": {},
   "source": [
    "Hàm `inv` tính toán nghịch đảo của một ma trận vuông. Phép nhân `mat_inv @ inv(mat_inv)` phải tạo ra ma trận đơn vị (identity matrix) hoặc một ma trận rất gần với nó.\n",
    "\n",
    "Phân rã QR tính toán phân rã QR của một ma trận:"
   ]
  },
  {
   "cell_type": "code",
   "execution_count": null,
   "id": "549fb07e",
   "metadata": {},
   "outputs": [],
   "source": [
    "q, r = qr(mat_inv)\n",
    "r"
   ]
  },
  {
   "cell_type": "markdown",
   "id": "f38f016d",
   "metadata": {},
   "source": [
    "Bảng 4.7 liệt kê một phần các hàm đại số tuyến tính thường được sử dụng. Tham khảo tài liệu của `numpy.linalg` để biết thêm chi tiết.\n",
    "\n",
    "**Bảng 4.7: Các hàm `numpy.linalg` thường được sử dụng**\n",
    "\n",
    "| Hàm | Mô tả |\n",
    "|---|---|\n",
    "| `diag` | Trả về các phần tử đường chéo (hoặc ngoài đường chéo) của một mảng vuông dưới dạng một mảng 1D, hoặc chuyển đổi một mảng 1D thành một mảng vuông với các phần tử đó trên đường chéo, các phần tử khác bằng không. |\n",
    "| `dot` | Nhân ma trận. |\n",
    "| `trace` | Tính tổng các phần tử đường chéo. |\n",
    "| `det` | Tính định thức ma trận. |\n",
    "| `eig` | Tính các giá trị riêng (eigenvalues) và các vector riêng (eigenvectors) của một ma trận vuông. |\n",
    "| `inv` | Tính nghịch đảo của một ma trận vuông. |\n",
    "| `pinv` | Tính nghịch đảo giả Moore-Penrose của một ma trận. |\n",
    "| `qr` | Tính phân rã QR. |\n",
    "| `svd` | Tính phân rã giá trị suy biến (Singular Value Decomposition - SVD). |\n",
    "| `solve` | Giải hệ phương trình tuyến tính Ax = b cho x, trong đó A là một ma trận vuông. |\n",
    "| `lstsq` | Tính nghiệm bình phương tối thiểu theo phương pháp bình phương tối thiểu cho Ax = b. |"
   ]
  },
  {
   "cell_type": "markdown",
   "id": "6c3b9e0c",
   "metadata": {},
   "source": [
    "## 4.6 Sinh số Giả ngẫu nhiên (Pseudorandom Number Generation)\n",
    "\n",
    "Mô-đun `numpy.random` bổ sung cho mô-đun `random` tích hợp sẵn của Python bằng các hàm để tạo hiệu quả toàn bộ mảng các giá trị mẫu từ nhiều loại phân phối xác suất. Ví dụ, bạn có thể lấy một mảng 4 × 4 các mẫu từ phân phối chuẩn (trung bình 0, độ lệch chuẩn 1) bằng `numpy.random.standard_normal`:"
   ]
  },
  {
   "cell_type": "code",
   "execution_count": null,
   "id": "23362fab",
   "metadata": {},
   "outputs": [],
   "source": [
    "samples_rng = np.random.standard_normal(size=(4, 4))\n",
    "samples_rng"
   ]
  },
  {
   "cell_type": "markdown",
   "id": "b6d57714",
   "metadata": {},
   "source": [
    "Mô-đun `random` tích hợp sẵn của Python, ngược lại, chỉ lấy mẫu một giá trị tại một thời điểm. Như bạn có thể thấy từ phép đo benchmark này, `numpy.random` nhanh hơn nhiều để tạo ra số lượng lớn các số ngẫu nhiên:"
   ]
  },
  {
   "cell_type": "code",
   "execution_count": null,
   "id": "369fa9e5",
   "metadata": {},
   "outputs": [],
   "source": [
    "from random import normalvariate\n",
    "N = 1_000_000\n",
    "# %timeit samples = [normalvariate(0, 1) for _ in range(N)]\n",
    "# %timeit np.random.standard_normal(N)\n",
    "\n",
    "# Chạy các lệnh trên trong Jupyter Notebook / IPython để thấy kết quả timeit\n",
    "# Ví dụ:\n",
    "t0 = time.time()\n",
    "samples_py_rng = [normalvariate(0, 1) for _ in range(N)]\n",
    "t1 = time.time()\n",
    "print(f\"Python random: {t1 - t0:.4f} s\")\n",
    "\n",
    "t0 = time.time()\n",
    "samples_np_rng = np.random.standard_normal(N)\n",
    "t1 = time.time()\n",
    "print(f\"NumPy random: {t1 - t0:.4f} s\")"
   ]
  },
  {
   "cell_type": "markdown",
   "id": "7f7febe5",
   "metadata": {},
   "source": [
    "Chúng ta nói rằng những con số này là *giả ngẫu nhiên* (pseudorandom) vì chúng được tạo ra bởi một thuật toán với hành vi xác định dựa trên *mầm* (seed) của trình tạo số ngẫu nhiên. Bạn có thể thay đổi mầm sinh số ngẫu nhiên của NumPy bằng `numpy.random.seed` (cách cũ) hoặc sử dụng `numpy.random.default_rng` (cách mới được khuyến nghị):"
   ]
  },
  {
   "cell_type": "code",
   "execution_count": null,
   "id": "a54d77a6",
   "metadata": {},
   "outputs": [],
   "source": [
    "rng = np.random.default_rng(seed=12345)\n",
    "data_rng = rng.standard_normal((2,3))\n",
    "data_rng"
   ]
  },
  {
   "cell_type": "markdown",
   "id": "0705a9a0",
   "metadata": {},
   "source": [
    "Trình tạo số ngẫu nhiên (RNG) trong `numpy.random` là một đối tượng lưu trữ trạng thái bên trong. Khi bạn gọi các hàm như `rng.standard_normal`, trình tạo này sẽ nâng cao trạng thái của nó. Bạn có thể lấy một phiên bản trình tạo riêng biệt với các phiên bản khác trong mã của mình:"
   ]
  },
  {
   "cell_type": "code",
   "execution_count": null,
   "id": "a23d1843",
   "metadata": {},
   "outputs": [],
   "source": [
    "rng2 = np.random.default_rng(seed=12345)\n",
    "data2_rng = rng2.standard_normal((2,3))\n",
    "data2_rng"
   ]
  },
  {
   "cell_type": "markdown",
   "id": "4c280456",
   "metadata": {},
   "source": [
    "Như bạn có thể thấy, `data_rng` và `data2_rng` là giống hệt nhau. Các hàm dữ liệu trong `numpy.random` (ví dụ, `standard_normal`, `uniform`, `randn`) sử dụng một trình tạo ngẫu nhiên toàn cục, được tạo ngầm. Để có khả năng tái tạo tốt hơn trên các phiên bản NumPy, tôi khuyên bạn nên sử dụng một thể hiện của `numpy.random.Generator`, được tạo bằng `numpy.random.default_rng`.\n",
    "\n",
    "Xem Bảng 4.8 để biết danh sách một phần các hàm có sẵn trong `numpy.random`. Tôi sẽ quay lại các hàm này trong các ví dụ sau của cuốn sách.\n",
    "\n",
    "**Bảng 4.8: Một số hàm `numpy.random`**\n",
    "\n",
    "| Hàm | Mô tả |\n",
    "|---|---|\n",
    "| `seed` | Gieo mầm cho trình tạo số ngẫu nhiên. Không được sử dụng với `default_rng`. |\n",
    "| `permutation` | Trả về một hoán vị ngẫu nhiên của một chuỗi, hoặc trả về một phạm vi đã hoán vị. |\n",
    "| `shuffle` | Hoán vị ngẫu nhiên một chuỗi tại chỗ. |\n",
    "| `uniform` | Rút các mẫu từ một phân phối đều. |\n",
    "| `integers` | Rút các số nguyên ngẫu nhiên từ một phạm vi cho trước. |\n",
    "| `standard_normal` | Rút các mẫu từ một phân phối chuẩn với trung bình 0 và độ lệch chuẩn 1 (dạng ma trận). |\n",
    "| `binomial` | Rút các mẫu từ một phân phối nhị thức. |\n",
    "| `normal` | Rút các mẫu từ một phân phối chuẩn (Gaussian). |\n",
    "| `beta` | Rút các mẫu từ một phân phối beta. |\n",
    "| `chisquare` | Rút các mẫu từ một phân phối chi bình phương. |\n",
    "| `gamma` | Rút các mẫu từ một phân phối gamma. |\n",
    "| `poisson` | Rút các mẫu từ một phân phối Poisson. |\n",
    "| `rand` | Rút các mẫu từ một phân phối đều [0, 1). |\n",
    "| `randn` | Rút các mẫu từ một phân phối \"chuẩn\" bình thường (trung bình 0, độ lệch chuẩn 1). |"
   ]
  },
  {
   "cell_type": "markdown",
   "id": "da659318",
   "metadata": {},
   "source": [
    "## 4.7 Ví dụ: Bước đi ngẫu nhiên (Random Walks)\n",
    "\n",
    "Hãy xem xét một ví dụ ứng dụng đơn giản của việc sử dụng các phép toán mảng: mô phỏng các bước đi ngẫu nhiên. Hãy bắt đầu với trường hợp đơn giản của một bước đi ngẫu nhiên bắt đầu từ 0 với các bước có kích thước 1 và –1 xảy ra với xác suất bằng nhau. Đây là cách triển khai Python thuần túy của một bước đi ngẫu nhiên 1.000 bước đơn lẻ bằng cách sử dụng mô-đun `random` tích hợp sẵn:"
   ]
  },
  {
   "cell_type": "code",
   "execution_count": null,
   "id": "3dcdea56",
   "metadata": {},
   "outputs": [],
   "source": [
    "import random\n",
    "position = 0\n",
    "walk = [position]\n",
    "nsteps = 1000\n",
    "for _ in range(nsteps):\n",
    "    step = 1 if random.randint(0, 1) else -1\n",
    "    position += step\n",
    "    walk.append(position)"
   ]
  },
  {
   "cell_type": "markdown",
   "id": "507c3191",
   "metadata": {},
   "source": [
    "Hình 4.4 cho thấy một mẫu của 100 giá trị đầu tiên cho một bước đi ngẫu nhiên này."
   ]
  },
  {
   "cell_type": "code",
   "execution_count": null,
   "id": "7f4b6e8c",
   "metadata": {},
   "outputs": [],
   "source": [
    "plt.plot(walk[:100])\n",
    "plt.title(\"Python Random Walk (first 100 steps)\")\n",
    "plt.show()"
   ]
  },
  {
   "cell_type": "markdown",
   "id": "a1141cf5",
   "metadata": {},
   "source": [
    "**Hình 4.4: Một bước đi ngẫu nhiên 1D đơn giản**\n",
    "\n",
    "(Hình ảnh hiển thị biểu đồ đường của 100 bước đầu tiên của một bước đi ngẫu nhiên)\n",
    "\n",
    "Bạn có thể nhận thấy rằng `walk` chỉ đơn giản là tổng tích lũy của các bước ngẫu nhiên và mỗi bước có thể được tạo ra bằng cách sử dụng `rng.integers(0, 2)` để rút ra các giá trị 0 hoặc 1; sau đó, giá trị 0 được biến đổi thành –1. Do đó, tôi có thể diễn đạt điều này dưới dạng một phép toán mảng:"
   ]
  },
  {
   "cell_type": "code",
   "execution_count": null,
   "id": "e8a0ca07",
   "metadata": {},
   "outputs": [],
   "source": [
    "rng_walk = np.random.default_rng(seed=12345) # fresh random number generator\n",
    "nsteps_walk = 1000\n",
    "draws_walk = rng_walk.integers(0, 2, size=nsteps_walk) # 0 hoặc 1\n",
    "steps_walk = np.where(draws_walk == 0, -1, 1)\n",
    "walk_np = steps_walk.cumsum()"
   ]
  },
  {
   "cell_type": "markdown",
   "id": "336669de",
   "metadata": {},
   "source": [
    "Từ điều này, chúng ta có thể bắt đầu trích xuất các thống kê như giá trị tối thiểu và tối đa đạt được:"
   ]
  },
  {
   "cell_type": "code",
   "execution_count": null,
   "id": "84745c89",
   "metadata": {},
   "outputs": [],
   "source": [
    "walk_np.min()"
   ]
  },
  {
   "cell_type": "code",
   "execution_count": null,
   "id": "d7b15f46",
   "metadata": {},
   "outputs": [],
   "source": [
    "walk_np.max()"
   ]
  },
  {
   "cell_type": "markdown",
   "id": "78af78fb",
   "metadata": {},
   "source": [
    "Một thống kê phức tạp hơn là *thời gian chạm lần đầu* (first passage time), thời điểm mà bước đi ngẫu nhiên đạt đến một giá trị cụ thể. Ở đây chúng ta có thể muốn biết mất bao lâu để bước đi ngẫu nhiên cách xa điểm gốc (0) ít nhất 10 bước. `np.abs(walk_np) >= 10` cung cấp cho chúng ta một mảng boolean cho biết vị trí là tại hoặc vượt quá 10, nhưng chúng ta muốn chỉ mục của `True` *đầu tiên*. Điều này có thể được tính toán bằng `argmax`, trả về chỉ mục đầu tiên của giá trị lớn nhất trong mảng boolean (`True` là giá trị lớn nhất):"
   ]
  },
  {
   "cell_type": "code",
   "execution_count": null,
   "id": "6f5b3499",
   "metadata": {},
   "outputs": [],
   "source": [
    "(np.abs(walk_np) >= 10).argmax()"
   ]
  },
  {
   "cell_type": "markdown",
   "id": "8d32f57b",
   "metadata": {},
   "source": [
    "> **Chú ý:** Lưu ý rằng việc sử dụng `argmax` ở đây không phải lúc nào cũng hiệu quả vì nó luôn quét toàn bộ mảng. Trong trường hợp này, một khi một `True` được quan sát, chúng ta biết đó là giá trị lớn nhất.\n"
   ]
  },
  {
   "cell_type": "markdown",
   "id": "ddce08b9",
   "metadata": {},
   "source": [
    "### Mô phỏng nhiều bước đi ngẫu nhiên cùng một lúc\n",
    "\n",
    "Nếu mục tiêu của bạn là mô phỏng nhiều bước đi ngẫu nhiên, giả sử 5.000, bạn có thể tạo tất cả các bước đi ngẫu nhiên cùng một lúc với một chút sửa đổi nhỏ cho đoạn mã trước. Nếu bạn truyền một tuple 2 chiều cho các hàm `numpy.random`, nó sẽ tạo ra một mảng 2D các lần rút, và chúng ta có thể tính toán tổng tích lũy trên các hàng (để có được tất cả 5.000 bước đi ngẫu nhiên cùng một lúc):"
   ]
  },
  {
   "cell_type": "code",
   "execution_count": null,
   "id": "3d720369",
   "metadata": {},
   "outputs": [],
   "source": [
    "nwalks = 5000\n",
    "nsteps_multi = 1000\n",
    "draws_multi = rng_walk.integers(0, 2, size=(nwalks, nsteps_multi)) # 0 hoặc 1\n",
    "steps_multi = np.where(draws_multi > 0, 1, -1)\n",
    "walks_multi = steps_multi.cumsum(axis=1)\n",
    "walks_multi"
   ]
  },
  {
   "cell_type": "markdown",
   "id": "78a8f0a7",
   "metadata": {},
   "source": [
    "Bây giờ, chúng ta có thể tính toán giá trị tối đa và tối thiểu thu được trên tất cả các bước đi:"
   ]
  },
  {
   "cell_type": "code",
   "execution_count": null,
   "id": "0f3fec25",
   "metadata": {},
   "outputs": [],
   "source": [
    "walks_multi.max()"
   ]
  },
  {
   "cell_type": "code",
   "execution_count": null,
   "id": "a7bff1bc",
   "metadata": {},
   "outputs": [],
   "source": [
    "walks_multi.min()"
   ]
  },
  {
   "cell_type": "markdown",
   "id": "3a6d3640",
   "metadata": {},
   "source": [
    "Trong số các bước đi này, hãy tính toán thời gian chạm lần đầu tối thiểu là 30 hoặc –30. Điều này hơi phức tạp vì không phải tất cả 5.000 bước đi đều đạt đến 30. Chúng ta có thể kiểm tra điều này bằng phương thức `any`:"
   ]
  },
  {
   "cell_type": "code",
   "execution_count": null,
   "id": "a1235d38",
   "metadata": {},
   "outputs": [],
   "source": [
    "hits30 = (np.abs(walks_multi) >= 30).any(axis=1)\n",
    "hits30"
   ]
  },
  {
   "cell_type": "code",
   "execution_count": null,
   "id": "2d687990",
   "metadata": {},
   "outputs": [],
   "source": [
    "hits30.sum() # Số lượng các bước đi chạm đến 30 hoặc -30"
   ]
  },
  {
   "cell_type": "markdown",
   "id": "43167b2a",
   "metadata": {},
   "source": [
    "Chúng ta có thể sử dụng mảng boolean này để chọn ra các hàng của `walks_multi` thực sự vượt qua mức tuyệt đối 30 và gọi `argmax` trên `axis=1` để lấy thời gian chạm qua:"
   ]
  },
  {
   "cell_type": "code",
   "execution_count": null,
   "id": "42db1dfa",
   "metadata": {},
   "outputs": [],
   "source": [
    "crossing_times = (np.abs(walks_multi[hits30]) >= 30).argmax(axis=1)\n",
    "crossing_times"
   ]
  },
  {
   "cell_type": "markdown",
   "id": "e344d32b",
   "metadata": {},
   "source": [
    "Cuối cùng, chúng ta có thể tính toán thời gian trung bình tối thiểu để chạm đến 30:"
   ]
  },
  {
   "cell_type": "code",
   "execution_count": null,
   "id": "3ddf33bb",
   "metadata": {},
   "outputs": [],
   "source": [
    "crossing_times.mean()"
   ]
  },
  {
   "cell_type": "markdown",
   "id": "68866dfc",
   "metadata": {},
   "source": [
    "Hãy thử nghiệm với các phân phối khác cho các bước thay vì chỉ các lần lật đồng xu bằng nhau. Ví dụ, chúng ta có thể sử dụng các bước được rút ra từ một phân phối chuẩn với trung bình 0 và độ lệch chuẩn 0.25:"
   ]
  },
  {
   "cell_type": "code",
   "execution_count": null,
   "id": "b4729f37",
   "metadata": {},
   "outputs": [],
   "source": [
    "steps_normal_dist = rng_walk.normal(loc=0, scale=0.25,\n",
    "                                     size=(nwalks, nsteps_multi))\n",
    "walks_normal_dist = steps_normal_dist.cumsum(axis=1)\n",
    "print(f\"Max value for normal distribution walk: {walks_normal_dist.max()}\")\n",
    "print(f\"Min value for normal distribution walk: {walks_normal_dist.min()}\")"
   ]
  },
  {
   "cell_type": "markdown",
   "id": "eef4b35c",
   "metadata": {},
   "source": [
    "Trong chương này, bạn đã học được những điều cơ bản về cách sử dụng các mảng `ndarray` của NumPy và đã thấy nhiều loại công thức tính toán vector hóa. Trong chương tiếp theo, chúng ta sẽ tìm hiểu về pandas, một thư viện được xây dựng dựa trên NumPy, cung cấp một bộ công cụ hiệu quả và biểu cảm để thao tác và phân tích dữ liệu dạng bảng."
   ]
  },
  {
   "cell_type": "markdown",
   "id": "1b34ce1c",
   "metadata": {},
   "source": [
    "## 4.8 Kết luận\n",
    "\n",
    "Trong khi nhiều tính năng của NumPy được sử dụng nội bộ trong pandas và các thư viện khác, việc hiểu rõ hơn về các mảng NumPy và tính toán hướng mảng sẽ giúp bạn sử dụng các công cụ như pandas hiệu quả hơn. Các `ndarray` cung cấp một đối tượng lưu trữ dữ liệu mạnh mẽ, linh hoạt và hiệu suất cao, có thể dễ dàng định hình lại và xử lý bằng nhiều loại thuật toán. Khả năng thực hiện các phép toán toán học phức tạp trên toàn bộ khối dữ liệu mà không cần viết vòng lặp `for` làm cho NumPy trở thành một thành phần trung tâm trong hệ sinh thái tính toán khoa học của Python.\n",
    "\n",
    "Tiếp theo, chúng ta sẽ đi sâu vào pandas, nơi chúng ta sẽ áp dụng nhiều khái niệm này vào các tình huống phân tích dữ liệu thực tế hơn."
   ]
  },
  {
   "cell_type": "code",
   "execution_count": null,
   "id": "0a66a918",
   "metadata": {},
   "outputs": [],
   "source": [
    "# Đoạn mã dọn dẹp các tệp đã tạo (nếu có)\n",
    "import os\n",
    "if os.path.exists(\"some_array.npy\"): \n",
    "    os.remove(\"some_array.npy\")\n",
    "    print(\"Đã xóa some_array.npy\")\n",
    "if os.path.exists(\"array_archive.npz\"): \n",
    "    os.remove(\"array_archive.npz\")\n",
    "    print(\"Đã xóa array_archive.npz\")\n",
    "if os.path.exists(\"arrays_compressed.npz\"): \n",
    "    os.remove(\"arrays_compressed.npz\")\n",
    "    print(\"Đã xóa arrays_compressed.npz\")\n",
    "# if os.path.exists(\"array_ex.txt\"): \n",
    "#     os.remove(\"array_ex.txt\")\n",
    "#     print(\"Đã xóa array_ex.txt\")\n",
    "# if os.path.exists(\"my_array_saved.csv\"): \n",
    "#     os.remove(\"my_array_saved.csv\")\n",
    "#     print(\"Đã xóa my_array_saved.csv\")"
   ]
  }
 ],
 "metadata": {
  "kernelspec": {
   "display_name": "Python 3 (ipykernel)",
   "language": "python",
   "name": "python3"
  },
  "language_info": {
   "codemirror_mode": {
    "name": "ipython",
    "version": 3
   },
   "file_extension": ".py",
   "mimetype": "text/x-python",
   "name": "python",
   "nbconvert_exporter": "python",
   "pygments_lexer": "ipython3",
   "version": "3.13.2"
  }
 },
 "nbformat": 4,
 "nbformat_minor": 5
}
